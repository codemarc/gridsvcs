{
    "metadata": {
        "kernelspec": {
            "name": "SQL",
            "display_name": "SQL",
            "language": "sql"
        },
        "language_info": {
            "name": "sql",
            "version": ""
        },
        "connection_name": ""
    },
    "nbformat_minor": 2,
    "nbformat": 4,
    "cells": [
        {
            "cell_type": "markdown",
            "source": [
                "# CMC Gridlinks Datastore annotated\n",
                "\n",
                "We use the PostgreSQL to set the default schema to cmc. <span style=\"font-family: -apple-system, BlinkMacSystemFont, sans-serif; color: var(--vscode-foreground);\">The first panel should be named blank it should be used for testing purposes, The first grid should be named test and it should be a full grid of blank panels. Panels 2-16 once loaded must maintain that order. This is now alphabetical by panel name, the _j2s functionality reads a directory in alphabetical order, this has side effects as mapping is done by number not name (this needs to be address soon)&nbsp;<br><br></span>"
            ],
            "metadata": {
                "azdata_cell_guid": "5059fc3e-643a-4687-93e8-46ff82a518c0"
            },
            "attachments": {}
        },
        {
            "cell_type": "code",
            "source": [
                "SET search_path TO cmc;\n",
                "select * from panels;"
            ],
            "metadata": {
                "azdata_cell_guid": "bd9d0a2a-ad8f-422e-81a6-3e6533d3bbd5",
                "language": "sql",
                "tags": []
            },
            "outputs": [
                {
                    "output_type": "display_data",
                    "data": {
                        "text/html": "SET"
                    },
                    "metadata": {}
                },
                {
                    "output_type": "display_data",
                    "data": {
                        "text/html": "(15 row(s) affected)"
                    },
                    "metadata": {}
                },
                {
                    "output_type": "display_data",
                    "data": {
                        "text/html": "Total execution time: 00:00:00.209"
                    },
                    "metadata": {}
                },
                {
                    "output_type": "execute_result",
                    "metadata": {},
                    "execution_count": 47,
                    "data": {
                        "application/vnd.dataresource+json": {
                            "schema": {
                                "fields": [
                                    {
                                        "name": "pid"
                                    },
                                    {
                                        "name": "name"
                                    },
                                    {
                                        "name": "links"
                                    },
                                    {
                                        "name": "dbu"
                                    },
                                    {
                                        "name": "created"
                                    }
                                ]
                            },
                            "data": [
                                {
                                    "pid": "1",
                                    "name": "amzn",
                                    "links": "{\"name\": \"amzn\", \"href1\": \"https://aws.amazon.com/\", \"href2\": \"*/settings\", \"links\": [{\"pre1\": \"ㅤ\", \"href1\": \"https://alexa.amazon.com/\", \"href2\": \"https://amazon.com/\", \"href3\": \"https://www.amazon.com/Amazon-Video/b/?ie=UTF8&node=2858778011&ref_=nav_dvm_us_eg_cs_nav_rec_T1\", \"href4\": \"https://music.amazon.com/\", \"name1\": \"alexa\", \"name2\": \"prime\", \"name3\": \"video\", \"name4\": \"music\", \"post1\": \"✫\", \"post2\": \"✫\", \"post3\": \"✫\"}, {\"pre1\": \"   \", \"href1\": \"https://www.audible.com/\", \"href2\": \"https://www.twitch.tv/\", \"href3\": \"https://www.imdb.com/\", \"href4\": \"https://www.amazon.com/kindle-dbs/fd/kcp\", \"name1\": \"audible\", \"name2\": \"twitch\", \"name3\": \"imdb\", \"name4\": \"kindle\", \"post1\": \" | \", \"post2\": \" | \", \"post3\": \" | \", \"title1\": \"Audible\", \"title2\": \"Twitch\", \"title3\": \"IMDb\", \"title4\": \"Kindle Direct Publishing\"}, {\"name1\": \"\"}, {\"href1\": \"https://aws.amazon.com/\", \"name1\": \"-     aws    \"}, {\"pre1\": \" \", \"href1\": \"https://console.aws.amazon.com/\", \"href2\": \"https://aws.amazon.com/cdk/\", \"href3\": \"https://aws.amazon.com/sdk-for-javascript/\", \"href4\": \"https://aws.amazon.com/amplify/\", \"name1\": \"console\", \"name2\": \"cdk\", \"name3\": \"js-sdk\", \"name4\": \"amplify\", \"post1\": \" ✫ \", \"post2\": \" ✫ \", \"post3\": \" ✫ \", \"title1\": \"AWS Management Console\"}, {\"name1\": \"ㅤ\"}, {\"name1\": \"ㅤ\"}, {\"name1\": \"ㅤ\"}, {\"name1\": \"ㅤ\"}], \"title\": \"amazon\"}",
                                    "dbu": "postgres",
                                    "created": "2024-09-02 11:53:07.199695"
                                },
                                {
                                    "pid": "2",
                                    "name": "apache",
                                    "links": "{\"name\": \"apache\", \"href1\": \"https://apache.org\", \"href2\": \"*/settings\", \"links\": [{\"pre1\": \" projects by » \", \"href1\": \"https://projects.apache.org/projects.html?name\", \"href2\": \"https://projects.apache.org/projects.html?language\", \"href3\": \"https://projects.apache.org/projects.html?category\", \"name1\": \"name\", \"name2\": \"lang\", \"name3\": \"cat\", \"post1\": \" |\", \"post2\": \" | \"}, {\"name1\": \"- classics  \", \"title1\": \"Apache projects that have been around for a long time.\"}, {\"pre1\": \" \", \"pre2\": \" \", \"pre3\": \" \", \"pre4\": \" \", \"href1\": \"https://httpd.apache.org/\", \"href2\": \"https://tomcat.apache.org/\", \"href3\": \"https://kafka.apache.org/\", \"href4\": \"https://hadoop.apache.org/\", \"name1\": \"http\", \"name2\": \"tomcat\", \"name3\": \"kafka\", \"name4\": \"hadoop\", \"title1\": \"The Apache HTTP Server Project is an effort to develop and maintain an open-source HTTP server for modern operating systems including UNIX and Windows NT. The goal of this project is to provide a secure, efficient and extensible server that provides HTTP services in sync with the current HTTP standards.\", \"title2\": \"The Apache Tomcat software is an open source implementation of the Java Servlet, JavaServer Pages, Java Expression Language and Java WebSocket technologies. The Java Servlet, JavaServer Pages, Java Expression Language and Java WebSocket specifications are developed under the Java Community Process.\", \"title3\": \"Apache Kafka is an open-source distributed event streaming platform used by thousands of companies for high-performance data pipelines, streaming analytics, data integration, and mission-critical applications.\", \"title4\": \"The Apache Hadoop software library is a framework that allows for the distributed processing of large data sets across clusters of computers using simple programming models. It is designed to scale up from single servers to thousands of machines, each offering local computation and storage.\"}, {\"pre1\": \"  \", \"pre2\": \" \", \"pre3\": \" \", \"pre4\": \" \", \"href1\": \"https://spark.apache.org/\", \"href2\": \"https://lucene.apache.org/\", \"href3\": \"https://maven.apache.org/\", \"href4\": \"https://ant.apache.org/\", \"name1\": \"spark\", \"name2\": \"lucene\", \"name3\": \"maven\", \"name4\": \"ant\", \"title1\": \"Apache Spark is a multi-language engine for executing data engineering, data science, and machine learning on single-node machines or clusters.\", \"title2\": \"Apache Lucene is a free and open-source information retrieval software library, originally written completely in Java by Doug Cutting. It is supported by the Apache Software Foundation and is released under the Apache Software License.\", \"title3\": \"Apache Maven is a software project management and comprehension tool. Based on the concept of a project object model (POM), Maven can manage a project's build, reporting and documentation from a central piece of information.\", \"title4\": \"Apache Ant is a Java library and command-line tool whose mission is to drive processes described in build files as targets and extension points dependent upon each other. The main known usage of Ant is the build of Java applications.\"}, {\"name1\": \"- others\", \"title1\": \"Apache projects address interesting technology.\"}, {\"hre3\": \"https://ambari.apache.org/\", \"pre1\": \" \", \"href1\": \"https://couchdb.apache.org/\", \"href2\": \"https://flume.apache.org/\", \"href4\": \"https://airflow.apache.org/\", \"name1\": \"couchdb\", \"name2\": \"flume\", \"name3\": \"ambari\", \"name4\": \"airflow\", \"title1\": \"Apache CouchDB is a database that uses JSON for documents, an HTTP API, and designed to be accessible via a web browser. It allows for data replication across multiple nodes for robustness and availability, and has a document update model rather than direct overwriting for conflict detection and resolution.\", \"title2\": \"Apache Flume is a distributed, reliable, and available service for efficiently collecting, aggregating, and moving large amounts of log data. It has a simple and flexible architecture based on streaming data flows. It is robust and fault tolerant with tunable reliability mechanisms and many failover and recovery mechanisms. It uses a simple extensible data model that allows for online analytic application.\", \"title3\": \"Apache Ambari is a software project designed to make Hadoop management simpler by developing software for provisioning, managing, and monitoring Apache Hadoop clusters. Ambari provides an intuitive collection of operator tools and a robust set of APIs that hide the complexity of Hadoop, simplifying the operation of clusters.\", \"title4\": \"Apache Airflow is an open-source workflow management platform. It started at Airbnb in October 2014 as a solution to manage the company's increasingly complex workflows. From monitoring data pipelines to provisioning large-scale data processing resources in a cloud, Airflow is becoming a highly efficient way of writing, scheduling and monitoring workflows.\"}, {\"pre1\": \"   \", \"href1\": \"https://parquet.apache.org/\", \"href2\": \"https://flink.apache.org/\", \"href3\": \"https://thrift.apache.org/\", \"href4\": \"https://avro.apache.org/\", \"name1\": \"parquet\", \"name2\": \"flink\", \"name3\": \"thrift\", \"name4\": \"avro\", \"post1\": \" \", \"post2\": \" \", \"post3\": \" \", \"title1\": \"Apache Parquet is a columnar storage format that enables efficient storage and retrieval of large analytic datasets. It uses the record shredding and assembly algorithm described in the Dremel paper by Google.\", \"title2\": \"Apache Flink is a framework and distributed processing engine for stateful computations over unbounded and bounded data streams. Flink has been designed to run in all common cluster environments, perform computations at in-memory speeds and at any scale.\", \"title3\": \"Apache Thrift is a software framework for scalable cross-language services development. It combines a software stack with a code generation engine to build services that work efficiently and seamlessly between C++, Java, Python, PHP, Ruby, Erlang, Perl, Haskell, C#, Cocoa, JavaScript, Node.js, Smalltalk, OCaml and Delphi and other languages.\", \"title4\": \"Apache Avro is a data serialization system which provides rich data structures, a compact, fast, binary data format, a container file to store persistent data, and remote procedure call (RPC).\"}, {\"pre1\": \"ㅤ\"}, {\"pre1\": \"ㅤ\"}], \"title\": \"apache\"}",
                                    "dbu": "postgres",
                                    "created": "2024-09-02 11:53:07.199695"
                                },
                                {
                                    "pid": "3",
                                    "name": "banking",
                                    "links": "{\"name\": \"banking\", \"href1\": \"https://www.bankingdive.com/\", \"href2\": \"*/settings\", \"links\": [{\"pre1\": \"  \", \"href1\": \"https://chaseonline.chase.com/\", \"href2\": \"https://www.bankofamerica.com/\", \"href3\": \"https://wellsfargo.com/\", \"href4\": \"https://online.citi.com/US/ag/dashboard/credit-card\", \"name1\": \"chase\", \"name2\": \"bofa\", \"name3\": \"wells fargo\", \"name4\": \"citi\", \"post1\": \"ㅤ\", \"post2\": \"ㅤ\", \"post3\": \"ㅤ\"}, {\"pre1\": \"  \", \"href1\": \"https://www.usbank.com/index.html\", \"href2\": \"https://www.pnc.com/en/personal-banking.html\", \"href3\": \"https://www.truist.com/\", \"href4\": \"https://myaccounts.capitalone.com/welcome\", \"name1\": \"usbank\", \"name2\": \"pnc\", \"name3\": \"truist\", \"name4\": \"capone\", \"post1\": \"ㅤ\", \"post2\": \"ㅤ\", \"post3\": \"ㅤ\"}, {\"pre1\": \"    \", \"href1\": \"https://www.53.com/content/fifth-third/en/login.html\", \"href2\": \"https://onlinebanking.tdbank.com/\", \"href3\": \"https://www.bmo.com/en-us/main/personal/\", \"href4\": \"https://www.citizensbank.com/\", \"name1\": \"fifththird\", \"name2\": \"td\", \"name3\": \"bmo\", \"name4\": \"citizens\", \"post1\": \"ㅤ\", \"post2\": \"ㅤ\", \"post3\": \"ㅤ\"}, {\"pre1\": \" \", \"name1\": \"1st citzens\", \"name2\": \"m&t\", \"name3\": \"huntington nb\", \"post1\": \"ㅤ\", \"post2\": \"ㅤ\", \"post3\": \"ㅤ\"}, {\"pre1\": \" \", \"href1\": \"https://www.americanexpress.com/en-us/account/login?inav=iNavLnkLog\", \"name1\": \"amex\", \"name2\": \"key Bank\", \"name3\": \"ally Bank\", \"name4\": \"hsbc\", \"post1\": \"ㅤ\", \"post2\": \"ㅤ\", \"post3\": \"ㅤ\"}, {\"name1\": \"-cards\"}, {\"pre1\": \"       \", \"href1\": \"https://portal.discover.com/customersvcs/universalLogin/ac_main\", \"href2\": \"https://card.apple.com\", \"href3\": \"https://cards.theignitecard.com/dfc/dashboard\", \"name1\": \"discover\", \"name2\": \"apple\", \"name3\": \"ignite\", \"post1\": \"ㅤ\", \"post2\": \"ㅤ\", \"post3\": \"ㅤ\"}, {\"pre1\": \"~  syncbank ⇒ \", \"href1\": \"https://www.synchrony.com/accounts/?client=amazon\", \"href2\": \"https://www.synchrony.com/accounts/\", \"name1\": \"amazon\", \"name2\": \"others\", \"post1\": \"ㅤ|ㅤ\", \"post2\": \"ㅤ\", \"post3\": \"ㅤ\"}, {\"pre1\": \" \"}], \"title\": \"banking\"}",
                                    "dbu": "postgres",
                                    "created": "2024-09-02 11:53:07.199695"
                                },
                                {
                                    "pid": "4",
                                    "name": "cloud",
                                    "links": "{\"name\": \"cloud\", \"href1\": \"https://www.cloudzero.com/blog/cloud-service-providers/\", \"href2\": \"*/settings\", \"links\": [{\"pre1\": \"ㅤ \", \"href1\": \"https://console.aws.amazon.com/\", \"href2\": \"https://portal.azure.com/#home\", \"href3\": \"https://console.cloud.google.com/\", \"href4\": \"https://cloud.digitalocean.com/login\", \"name1\": \"aws\", \"name2\": \"azure\", \"name3\": \"gcp\", \"name4\": \"do\", \"post1\": \"ㅤㅤ\", \"post2\": \"ㅤㅤ\", \"post3\": \"ㅤㅤ\"}, {\"pre1\": \"ㅤ \", \"href1\": \"https://rancher.com/docs/\", \"name1\": \"-rancher/docs\", \"post1\": \"ㅤㅤ\", \"post2\": \"ㅤㅤ\", \"post3\": \"ㅤㅤ\"}, {\"pre1\": \"ㅤ \", \"href1\": \"http://localhost\", \"href2\": \"https://localhost/dashboard/c/local/explorer/namespace/gridsvcs#Resources\", \"href3\": \"http://localhost:9011/\", \"name1\": \"rancher\", \"name2\": \"gridsvcs\", \"name3\": \"fusionauth\", \"post1\": \"ㅤㅤ\", \"post2\": \"ㅤㅤ\", \"post3\": \"ㅤㅤ\"}, {\"pre1\": \"ㅤ\"}, {\"pre1\": \"ㅤ\"}, {\"name1\": \"-research\"}, {\"pre1\": \"   \", \"href1\": \"https://fusionauth.io\", \"href2\": \"https://www.passportjs.org/\", \"href3\": \"https://developers.cloudflare.com/products/\", \"name1\": \"fusionauth\", \"name2\": \"passportjs\", \"name3\": \"cloudflare\", \"post1\": \"  \", \"post2\": \"  \", \"post3\": \" \"}, {\"pre1\": \"ㅤ\"}, {\"pre1\": \"ㅤ\"}, {\"pre1\": \"ㅤ\"}], \"title\": \"cloud\"}",
                                    "dbu": "postgres",
                                    "created": "2024-09-02 11:53:07.199695"
                                },
                                {
                                    "pid": "5",
                                    "name": "comms",
                                    "links": "{\"name\": \"comms\", \"href1\": \"https://www.youtube.com/@allin\", \"href2\": \"*/settings\", \"links\": [{\"pre1\": \" \", \"href1\": \"https://www.microsoft.com/en-us/microsoft-365\", \"href2\": \"https://www.office.com/?auth=2\", \"href3\": \"https://www.office.com/?auth=1\", \"name1\": \"microsoft 365\", \"name2\": \"work\", \"name3\": \"home\", \"post1\": \"ㅤ\", \"post2\": \"|\"}, {\"pre1\": \" \", \"pre3\": \"|\", \"href1\": \"https://admin.google.com/?authuser=1\", \"href2\": \"https://mail.google.com/mail/u/0/?tab=rm&ogbl#inbox\", \"href3\": \"https://mail.google.com/mail/u/0/?tab=rm&ogbl#inbox\", \"name1\": \"google office\", \"name2\": \"gmail\", \"name3\": \"dashboard\", \"post1\": \"ㅤ\"}, {\"pre1\": \"ㅤ\", \"href1\": \"https://onedrive.live.com\", \"href2\": \"https://www.dropbox.com/\", \"href3\": \"https://drive.google.com/drive/u/0/\", \"href4\": \"https://www.icloud.com/iclouddrive/\", \"name1\": \"onedrive\", \"name2\": \"dropbox\", \"name3\": \"g-drive\", \"name4\": \"icloud\", \"post1\": null, \"post2\": null, \"post3\": null}, {\"pre1\": \"ㅤ\", \"href1\": \"https://zoom.us/\", \"href2\": \"https://slack.com/\", \"href3\": \"https://meet.google.com/\", \"href4\": \"https://www.microsoft.com/en-us/microsoft-teams/group-chat-software\", \"name1\": \"zoom\", \"name2\": \"slack\", \"name3\": \"meet\", \"name4\": \"teams\", \"post1\": \"ㅤ\", \"post2\": \"ㅤ\", \"post3\": \"ㅤ\", \"title1\": \"Zoom Video Communications\", \"title2\": \"Slack: Where Work Happens\", \"title3\": \"Google Meet: Secure Video Meetings\", \"title4\": \"Microsoft Teams: Group Chat Software\"}, {\"pre1\": \"ㅤ\"}, {\"name1\": \"-articles\"}, {\"pre1\": \" \", \"href1\": \"https://www.reddit.com/\", \"href2\": \"https://substack.com/home\", \"href3\": \"https://medium.com/\", \"href4\": \"https://www.notion.so\", \"name1\": \"reddit\", \"name2\": \"substack\", \"name3\": \"medium\", \"name4\": \"notion\", \"post1\": \"ㅤ\", \"post2\": \"ㅤ\", \"title4\": \"Notion.so is a popular productivity tool that can be described as an all-in-one workspace. It lets you take notes, create documents, manage tasks, and even build wikis and databases – all in a single platform.\"}, {\"pre1\": \" \", \"href1\": \"https://dev.to/\", \"href2\": \"https://www.quora.com/topic/Software-Engineering\", \"href3\": \"https://www.linkedin.com/groups/\", \"href4\": \"https://news.ycombinator.com\", \"name1\": \"dev.to\", \"name2\": \"quora\", \"name3\": \"groups\", \"name4\": \"hacker news\", \"post1\": \" \", \"post2\": \" \", \"post3\": \" \"}, {\"pre1\": \"ㅤ\"}, {\"pre1\": \"ㅤ\"}], \"title\": \"communicate / discuss\"}",
                                    "dbu": "postgres",
                                    "created": "2024-09-02 11:53:07.199695"
                                },
                                {
                                    "pid": "6",
                                    "name": "devops",
                                    "links": "{\"name\": \"devops\", \"href1\": \"https://www.cncf.io/\", \"href2\": \"*/settings\", \"links\": [{\"pre1\": \" \", \"href1\": \"https://www.docker.com/\", \"href2\": \"https://kubernetes.io/\", \"href3\": \"https://k3s.io/\", \"href4\": \"https://helm.sh/\", \"name1\": \"docker\", \"name2\": \"kubernetes\", \"name3\": \"k3s\", \"name4\": \"helm\"}, {\"pre1\": \" \", \"href1\": \"https://www.datadoghq.com/\", \"href2\": \"https://prometheus.io/\", \"href3\": \"https://grafana.com/\", \"href4\": \"https://www.elastic.co/elastic-stack\", \"name1\": \"datadog\", \"name2\": \"prometheus\", \"name3\": \"grafana\", \"name4\": \"elk\"}, {\"href1\": \"https://www.pulumi.com/\", \"href2\": \"https://www.serverless.com/\", \"href3\": \"https://www.terraform.io/\", \"href5\": \"https://www.ansible.com/\", \"name1\": \"pulumi\", \"name2\": \"serverless\", \"name3\": \"terraform\", \"name4\": \"ansible\"}, {\"pre1\": \"ㅤㅤ\", \"href1\": \"https://istio.io/\", \"href2\": \"https://linkerd.io/\", \"href3\": \"https://www.consul.io/\", \"href4\": \"https://www.envoyproxy.io/\", \"name1\": \"istio\", \"name2\": \"linkerd\", \"name3\": \"consul\", \"name4\": \"envoy\"}, {\"pre1\": \"ㅤ\", \"href1\": \"https://www.terraform.io/\", \"href2\": \"https://www.ansible.com/\", \"href3\": \"https://puppet.com/\", \"href4\": \"https://www.chef.io/\", \"name1\": \"terraform\", \"name2\": \"ansible\", \"name3\": \"puppet\", \"name4\": \"chef\"}, {\"pre1\": \"ㅤ\", \"href1\": \"https://www.jenkins.io/\", \"href2\": \"https://docs.gitlab.com/ee/ci/\", \"href3\": \"https://circleci.com/\", \"href4\": \"https://travis-ci.org/\", \"name1\": \"jenkins\", \"name2\": \"gitLab ci\", \"name3\": \"circle ci\", \"name4\": \"travis ci\"}, {\"pre1\": \"ㅤ\", \"href1\": \"https://rancher.com/\", \"href2\": \"https://www.openshift.com/\", \"href3\": \"https://www.nomadproject.io/\", \"name1\": \"rancher\", \"name2\": \"openshift\", \"name3\": \"nomad\", \"title2\": \"Red Hat OpenShift is a container application platform that allows developers and IT organizations to build, deploy, and manage applications consistently across on-premises, public, and private cloud infrastructures. It is based on open-source Kubernetes container orchestration technology and provides a comprehensive set of tools and services for developing, deploying, and managing containerized applications.\", \"title3\": \"A simple and flexible scheduler and orchestrator to deploy and manage containers and non-containerized applications across on-premises and clouds at scale.\"}, {\"name1\": \"ㅤ\"}, {\"name1\": \"ㅤ\"}], \"title\": \"devops toolchain\"}",
                                    "dbu": "postgres",
                                    "created": "2024-09-02 11:53:07.199695"
                                },
                                {
                                    "pid": "12",
                                    "name": "msft",
                                    "links": "{\"name\": \"msft\", \"href1\": \"https://developer.microsoft.com/\", \"href2\": \"*/settings\", \"links\": [{\"pre1\": \"     \", \"href1\": \"https://docs.microsoft.com/learn/\", \"href2\": \"https://docs.microsoft.com/\", \"href3\": \"https://docs.microsoft.com/answers/\", \"href4\": \"https://devblogs.microsoft.com/\", \"name1\": \"learn\", \"name2\": \"docs\", \"name3\": \"q&a\", \"name4\": \"dev blog\", \"post1\": \" | \", \"post2\": \" | \", \"post3\": \" | \", \"title1\": \"Microsoft Learn\", \"title2\": \"Microsoft Docs\", \"title3\": \"Microsoft Q&A\", \"title4\": \"Microsoft Developer Blogs\"}, {\"pre1\": \"   ㅤ\", \"href1\": \"https://code.visualstudio.com/docs\", \"href2\": \"https://dotnet.microsoft.com/\", \"href3\": \"https://www.nuget.org/\", \"href4\": \"https://www.microsoft.com/sql-server/\", \"name1\": \"vs code\", \"name2\": \".net\", \"name3\": \"nuget\", \"name4\": \"mssql\", \"title1\": \"Visual Studio Code\", \"title2\": \".NET\", \"title3\": \"NuGet\", \"title4\": \"SQL Server\"}, {\"name1\": \"\"}, {\"href1\": \"https://azure.microsoft.com/\", \"name1\": \"-     azure    \"}, {\"href1\": \"https://azure.microsoft.com/services/devops/\", \"href2\": \"https://azure.microsoft.com/services/functions/\", \"href3\": \"https://azure.microsoft.com/services/kubernetes-service/\", \"href4\": \"https://studio.azureml.net/\", \"name1\": \"devops\", \"name2\": \"functions\", \"name3\": \"ak8ss\", \"name4\": \"ml studio\", \"title1\": \"Azure DevOps\", \"title2\": \"Azure Functions\", \"title3\": \"Azure Kubernetes Service (AKS)\", \"title4\": \"Azure Machine Learning Studio\"}, {\"pre1\": \" \", \"pre2\": \"ㅤㅤㅤㅤ\", \"href1\": \"https://azure.microsoft.com/services/active-directory/\", \"href2\": \"https://developer.microsoft.com/graph/\", \"name1\": \"identity platform\", \"name2\": \"graph\", \"title1\": \"Microsoft Identity Platform\", \"title2\": \"Microsoft Graph\"}, {\"label\": \"-\"}, {\"pre1\": \"~  power   \", \"href1\": \"https://docs.microsoft.com/powershell/\", \"href2\": \"https://powerapps.microsoft.com/\", \"href3\": \"https://flow.microsoft.com/\", \"href4\": \"https://powerbi.microsoft.com/\", \"name1\": \"shell\", \"name2\": \"apps\", \"name3\": \"automate\", \"name4\": \"bi\", \"post1\": \" \", \"post2\": \" \", \"post3\": \" \", \"title1\": \"PowerShell\", \"title2\": \"Power Apps\", \"title3\": \"Power Automate\", \"title4\": \"Power BI\"}, {\"pre1\": \"ㅤ\"}, {\"name1\": \" \"}], \"title\": \"microsoft\"}",
                                    "dbu": "postgres",
                                    "created": "2024-09-02 11:53:07.199695"
                                },
                                {
                                    "pid": "7",
                                    "name": "devtools",
                                    "links": "{\"name\": \"devtools\", \"href1\": \"https://stackshare.io/tools\", \"href2\": \"*/settings\", \"links\": [{\"pre1\": \"    \", \"href1\": \"https://book.git-scm.com/book/en/v2\", \"href2\": \"https://gist.github.com/codemarc/7e3c37a880e679f8fa310f67cdb29a85\", \"href3\": \"https://gist.github.com/\", \"href4\": \"hrefhttps://resources.github.com/github-insider/practitioner/4\", \"name1\": \"book\", \"name2\": \"cheats\", \"name3\": \"gists\", \"name4\": \"insider\", \"post1\": \" | \", \"post2\": \" | \", \"post3\": \" | \"}, {\"pre1\": \"  \", \"href1\": \"https://tableconvert.com/\", \"href2\": \"https://mui.com/material-ui/all-components/\", \"href3\": \"https://jwt.io/#algorithm-select\", \"href4\": \"https://compart.com/en/unicode\", \"name1\": \"tables\", \"name2\": \"mui\", \"name3\": \"jwt\", \"name4\": \"unicode\", \"post1\": \" | \", \"post2\": \"      | \", \"post3\": \"     | \"}, {\"pre1\": \"       \", \"href1\": \"https://roadmap.sh/\", \"href2\": \"https://devhints.io/bash\", \"href3\": \"https://htmlcheatsheet.com/css/\", \"href4\": \"https://codemarc.net/report.html\", \"name1\": \"roadmap\", \"name2\": \"bash\", \"name3\": \"css\", \"name4\": \"rpt\", \"post1\": \"  \", \"post2\": \"  \", \"post3\": \"  \"}, {\"label\": \"-\"}, {\"pre1\": \"   \", \"href1\": \"https://www.postman.com/\", \"href2\": \"https://www.sonarqube.org/\", \"href3\": \"https://goaccess.io/\", \"name1\": \"postman\", \"name2\": \"sonarqube\", \"name3\": \"goaccess\", \"post1\": \"  \", \"post2\": \"  \", \"post3\": \"  \"}, {\"pre1\": \"   \", \"href1\": \"https://www.rabbitmq.com/\", \"href2\": \"https://zeromq.org/\", \"href3\": \"https://supabase.com/dashboard/projects\", \"name1\": \"rabbitmq\", \"name2\": \"zeromq\", \"name3\": \"suprabase\", \"post1\": \"   \", \"post2\": \"     \", \"post3\": \"   \"}, {\"name1\": \"ㅤ\"}, {\"name1\": \"ㅤ\"}, {\"name1\": \"ㅤ\"}, {\"name1\": \"ㅤ\"}], \"title\": \"devtools\"}",
                                    "dbu": "postgres",
                                    "created": "2024-09-02 11:53:07.199695"
                                },
                                {
                                    "pid": "8",
                                    "name": "fintech",
                                    "links": "{\"name\": \"fintech\", \"href2\": \"*/settings\", \"links\": [{\"pre1\": \"ㅤ\", \"pre2\": \"ㅤ\", \"pre3\": \" \", \"href1\": \"https://finance.yahoo.com\", \"href2\": \"https://www.google.com/finance\", \"href3\": \"https://seekingalpha.com\", \"name1\": \"yahoo\", \"name2\": \"google\", \"name3\": \"seeking alpha\", \"title1\": \"Market data, news, and more.\", \"title2\": \"Aggregates financial news and market data from multiple sources.\", \"title3\": \"Crowd-sourced financial content service. In-depth analysis and market commentary.\"}, {\"pre1\": \"ㅤ\", \"pre2\": \"ㅤ\", \"pre3\": \" \", \"href1\": \"https://www.bloomberg.com\", \"href2\": \"https://www.marketwatch.com\", \"href3\": \"https://www.wsj.com\", \"name1\": \"bloomberg\", \"name2\": \"marketwatch\", \"name3\": \"wsj\", \"title1\": \"Extensive financial news, data, and analysis.Comprehensive financial coverage.\", \"title2\": \"Breaking news and stock market updates.\", \"title3\": \"Comprehensive financial news.\"}, {\"pre1\": \"ㅤ\", \"href1\": \"https://www.reuters.com/finance\", \"href2\": \"https://www.investing.com\", \"href3\": \"https://nasdaq.com\", \"name1\": \"reuters\", \"name2\": \"investing.com\", \"name3\": \"nasdaq\", \"title1\": \"Global financial coverage.\", \"title2\": \"Real-time financial data and tools.\", \"title3\": \"nasdaq market site\"}, {\"pre1\": \"ㅤ\"}, {\"pre1\": \"ㅤ\"}, {\"href1\": \"https://finviz.com/\", \"name1\": \"-finviz\"}, {\"pre1\": \"     \", \"href1\": \"https://client.schwab.com/app/accounts/positions/#/\", \"href2\": \"https://digital.fidelity.com/prgw/digital/login/full-page\", \"href3\": \"https://robinhood.com/login/\", \"name1\": \"schwab\", \"name2\": \"fidelity\", \"name3\": \"robinhood\", \"post1\": \"      \", \"post2\": \"ㅤ\", \"post3\": \"ㅤ\"}, {\"pre1\": \"     \", \"href1\": \"https://www.yieldmaxetfs.com/\", \"href2\": \"https://www.cnbc.com/live-tv/?trknav=navigation:shows:watchlive:103620081\", \"href3\": \"https://www.cnn.com/markets\", \"name1\": \"yieldmax\", \"name2\": \"cnbc\", \"name3\": \"cnn mkts\", \"post1\": \"      \", \"post2\": \"ㅤ\", \"post3\": \"ㅤ\"}, {\"pre1\": \"ㅤ\"}, {\"pre1\": \"ㅤ\"}, {\"pre1\": \"ㅤ\"}], \"title\": \"financial news / data\"}",
                                    "dbu": "postgres",
                                    "created": "2024-09-02 11:53:07.199695"
                                },
                                {
                                    "pid": "9",
                                    "name": "genai",
                                    "links": "{\"name\": \"genai\", \"href1\": \"https://venturebeat.com/category/ai/\", \"href2\": \"*/settings\", \"links\": [{\"pre1\": \" \", \"href1\": \"https://chat.openai.com/\", \"href2\": \"https://claude.ai/chats\", \"href3\": \"https://gemini.google.com/\", \"href4\": \"https://www.perplexity.ai/\", \"name1\": \"chatgpt\", \"name2\": \"claude\", \"name3\": \"gemini\", \"name4\": \"perplexity\", \"title1\": \"OpenAI's ChatGPT\", \"title2\": \"Anthropic's Claude\", \"title3\": \"Google's Gemini\", \"title4\": \"Perplexity AI Search\"}, {\"pre1\": \"  \", \"href1\": \"https://www.meta.ai/\", \"href2\": \"https://huggingface.co/\", \"href3\": \"https://x.ai/\", \"name1\": \"meta.ai\", \"name2\": \"hugging face\", \"name3\": \"x.ai\", \"title1\": \"Meta's AI Research\", \"title2\": \"Hugging Face AI Community\", \"title3\": \"x.ai\"}, {\"name1\": \"-art/image\"}, {\"pre1\": \" \", \"href1\": \"https://openai.com/dall-e-2\", \"href2\": \"https://www.midjourney.com/\", \"href3\": \"https://stability.ai/\", \"name1\": \"dall-e\", \"name2\": \"midjourney\", \"name3\": \"stable diffusion\", \"title1\": \"OpenAI's DALL-E, generates highly realistic and creative images from text descriptions. Known for its versatility and ability to understand complex prompts. Offers editing features like inpainting and outpainting.\", \"title2\": \"Midjourney AI Art. Produces high-quality, artistic images from text prompts. Known for its distinctive aesthetic, often described as painterly or illustrative. Operates primarily through a Discord bot interface. Offers various style options and aspect ratios\", \"title3\": \"Stability AI's Stable Diffusion, Open-source image generation model. Can run locally on consumer hardware, unlike many cloud-based alternatives. Highly customizable with a large community creating custom models and implementations. Capable of various tasks including text-to-image, image-to-image, and inpainting\"}, {\"pre1\": \"  \", \"href1\": \"https://runwayml.com/\", \"href2\": \"https://www.d-id.com/creative-reality-studio/\", \"href3\": \"https://designer.microsoft.com/\", \"name1\": \"runwayml\", \"name2\": \"digital-id\", \"name3\": \"designer\", \"title1\": \"Runway AI Video Editor - Offers AI-powered video editing and generation. Known for text-to-video capabilities and advanced editing features\", \"title2\": \"Specializes in creating talking head videos from still images. Offers realistic lip-sync and facial animations\", \"title3\": \"Microsoft\"}, {\"name1\": \"- coding  \"}, {\"pre1\": \" \", \"href1\": \"https://github.com/features/copilot\", \"href2\": \"https://aws.amazon.com/codeguru/code-whisperer/\", \"href3\": \"https://sourcegraph.com/search\", \"name1\": \"copilot\", \"name2\": \"codewhisperer\", \"name3\": \"sourcegraph\", \"title1\": \"GitHub Copilot\", \"title2\": \"Amazon CodeWhisperer - integrated with AWS services\"}, {\"pre1\": \"~  lamatic   \", \"href1\": \"https://lamatic.ai/docs\", \"href2\": \"https://studio.lamatic.ai/\", \"name1\": \"docs\", \"name2\": \"studio\", \"post1\": \"  \", \"post2\": \" \", \"post3\": \" \"}, {\"pre1\": \"ㅤ\"}], \"title\": \"genai / tools\"}",
                                    "dbu": "postgres",
                                    "created": "2024-09-02 11:53:07.199695"
                                },
                                {
                                    "pid": "10",
                                    "name": "goog",
                                    "links": "{\"name\": \"goog\", \"href1\": \"https://developers.google.com/\", \"href2\": \"*/settings\", \"links\": [{\"pre1\": \"ㅤ\", \"href1\": \"https://console.cloud.google.com/\", \"href2\": \"https://cloud.google.com/compute\", \"href3\": \"https://cloud.google.com/appengine\", \"href4\": \"https://cloud.google.com/functions\", \"name1\": \"cloud console\", \"name2\": \"compute engine\", \"name3\": \"app engine\", \"name4\": \"cloud functions\", \"title1\": \"Google Cloud Console\", \"title2\": \"Google Compute Engine\", \"title3\": \"Google App Engine\", \"title4\": \"Google Cloud Functions\"}, {\"name1\": \"ㅤ\"}, {\"name1\": \"ㅤ\"}, {\"name1\": \"ㅤ\"}, {\"name1\": \"ㅤ\"}, {\"name1\": \"ㅤ\"}, {\"name1\": \"ㅤ\"}, {\"name1\": \"ㅤ\"}], \"title\": \"google\"}",
                                    "dbu": "postgres",
                                    "created": "2024-09-02 11:53:07.199695"
                                },
                                {
                                    "pid": "11",
                                    "name": "house",
                                    "links": "{\"name\": \"house\", \"href1\": \"https://home.nest.com/home\", \"href2\": \"*/settings\", \"links\": [{\"pre1\": \"      \", \"href1\": \"https://www.flagstar.com/myloans/login\", \"href2\": \"https://portal.campbellproperty.com/dashboard\", \"href3\": \"https://www.miznercountryclub.org/\", \"name1\": \"flagstar\", \"name2\": \"campbell\", \"name3\": \"mizner cc\", \"post1\": \" \", \"post2\": \" \", \"post3\": \" \", \"title1\": \"mortgage\", \"title2\": \"hoa property manager\", \"title3\": \"mizner\"}, {\"pre1\": \"   \", \"href1\": \"https://www.fpl.com/\", \"href2\": \"https://ebill.pbcwater.com/Security/loginui.aspx\", \"href3\": \"https://customer.xfinity.com/\", \"href4\": \"http://my.verizon.com/\", \"name1\": \"fpl\", \"name2\": \"water\", \"name3\": \"xfinity\", \"name4\": \"verizon\", \"post1\": \"    \", \"post2\": \"    \", \"post3\": \"    \", \"title1\": \"florida power and light\", \"title2\": \"palm beach county water\"}, {\"pre1\": \" \"}, {\"pre1\": \" \"}, {\"pre1\": \" \"}, {\"href1\": \"https://studentaid.gov/h/apply-for-aid/fafsa\", \"name1\": \"-education\"}, {\"pre1\": \" ㅤ\", \"href1\": \"https://one.uf.edu/\", \"href2\": \"https://www.billhighway.com/aph/forChapters/v2/login.aspx\", \"href3\": \"https://myaccount.gru.com\", \"href4\": \"https://trimarkp.twa.rentmanager.com/Shared/Login\", \"name1\": \"one.uf\", \"name2\": \"dpe\", \"name3\": \"gru\", \"name4\": \"trimark\", \"post1\": \"ㅤ\", \"post2\": \"ㅤ\", \"post3\": \"ㅤ\"}, {\"pre1\": \" ㅤ\", \"href1\": \"https://nelnet.studentaid.gov/welcome\", \"href2\": \"https://aidvantage.studentaid.gov/\", \"href3\": \"https://www.salliemae.com/login/\", \"name1\": \"nelnet\", \"name2\": \"aidvantage\", \"name3\": \"salliemae\", \"post1\": \"ㅤ\", \"post2\": \"ㅤ\", \"post3\": \"ㅤ\"}, {\"pre1\": \" \"}], \"title\": \"household / credit\"}",
                                    "dbu": "postgres",
                                    "created": "2024-09-02 11:53:07.199695"
                                },
                                {
                                    "pid": "13",
                                    "name": "services",
                                    "links": "{\"name\": \"services\", \"href1\": \"https://codemarc.net/doc/gridsvcs/#/\", \"href2\": \"*/settings\", \"links\": [{\"pre1\": \"     gridsvcs:      \", \"href1\": \"http://localhost:3000/v1/api-docs/\", \"href2\": \"https://codemarc.net/api/v1/api-docs/\", \"href3\": \"http://localhost:3000/v1/api-docs/\", \"name1\": \"dev\", \"name2\": \"test\", \"name3\": \"prod\", \"post1\": \"  \", \"post2\": \"  \"}, {\"pre1\": \"\"}, {\"pre1\": \"~  deployments\"}, {\"pre1\": \"       dev:     \", \"href1\": \"http://localhost:3000/v1/motd/status\", \"href2\": \"http://localhost:3000/v1/motd/quotes\", \"href3\": \"http://localhost:3000/v1/motd/topics\", \"name1\": \"status\", \"name2\": \"quotes\", \"name3\": \"topics\", \"post1\": \" |\", \"post2\": \" |\"}, {\"pre1\": \"      test:     \", \"href1\": \"https://codemarc.net/api/v1/motd/status\", \"href2\": \"https://codemarc.net/api/v1/motd/quotes\", \"href3\": \"http://codemarc.net/api/v1/motd/topics\", \"name1\": \"status\", \"name2\": \"quotes\", \"name3\": \"topics\", \"post1\": \" |\", \"post2\": \" |\"}, {\"pre1\": \"      prod:    \", \"href1\": \"http://localhost:3000/v1/motd/status\", \"href2\": \"http://localhost:3000/v1/motd/quotes\", \"href3\": \"http://localhost:3000/v1/motd/topics\", \"name1\": \"status\", \"name2\": \"quotes\", \"name3\": \"topics\", \"post1\": \" |\", \"post2\": \" |\"}, {\"pre1\": \"\"}, {\"pre1\": \"~  projects\"}, {\"pre1\": \"ㅤ\", \"href1\": \"https://github.com/users/codemarc/projects/6\", \"href2\": \"https://github.com/users/codemarc/projects/5\", \"name1\": \"gridlinks\", \"name2\": \"gridsvcs\", \"post1\": \"ㅤ\", \"post2\": \"ㅤ\", \"post3\": \"ㅤ\"}, {\"pre1\": \"ㅤ\"}, {\"pre1\": \"ㅤ\"}, {\"pre1\": \"ㅤ\"}], \"title\": \"services\"}",
                                    "dbu": "postgres",
                                    "created": "2024-09-02 11:53:07.199695"
                                },
                                {
                                    "pid": "14",
                                    "name": "shopify",
                                    "links": "{\"name\": \"shopify\", \"href1\": \"https://www.shopify.com/\", \"href2\": \"https://www.shopifystatus.com/\", \"links\": [{\"pre1\": \" \", \"pre2\": \"ㅤ🐶ㅤ\", \"href1\": \"http://puppyleo.com\", \"href2\": \"https://admin.shopify.com/\", \"name1\": \"the puppy leo shop\", \"name2\": \"admin\"}, {\"pre1\": \"ㅤ\", \"pre2\": \"ㅤ\", \"pre3\": \"ㅤ\", \"pre4\": \"ㅤ\", \"href1\": \"https://app.zendrop.com/dashboard\", \"href2\": \"https://www.cjdropshipping.com/\", \"href3\": \"https://www.shineon.com/\\\"\", \"href4\": \"https://www.printful.com/\", \"name1\": \"zendrop\", \"name2\": \"cj\", \"name3\": \"shineon\", \"name4\": \"printful\"}, {\"pre1\": \"ㅤㅤ\", \"pre2\": \"ㅤ\", \"href1\": \"https://www.shopify.com/editions/summer2024\", \"href2\": \"https://shopify.dev/changelog\", \"name1\": \"summer 2024\", \"name2\": \"changelog\"}, {\"href1\": \"https://shopify.github.io\", \"href2\": \"https://shopify.dev/\", \"href3\": \"https://apps.shopify.com/\", \"href4\": \"https://community.shopify.com/c/shopify-community/ct-p/en\", \"name1\": \"  src  \", \"name2\": \"  dev  \", \"name3\": \"apps\", \"name4\": \"community\", \"post1\": \"  ◦  \", \"post2\": \"  ◦  \", \"post3\": \" ◦ \", \"title3\": \"Shopify App Store\", \"title4\": \"Shopify Community Forums\"}, {\"pre1\": \"ㅤ\", \"pre2\": \"  \", \"pre3\": \"  \", \"pre4\": \"  \", \"href1\": \"https://shopify.dev/api\", \"href2\": \"https://polaris.shopify.com/\", \"href3\": \"https://help.shopify.com/en/partners\", \"href4\": \"https://www.shopify.com/partners/academy\", \"name1\": \"api\", \"name2\": \"polaris\", \"name3\": \"partners\", \"name4\": \"academy\", \"title1\": \"Shopify API Reference\", \"title2\": \"Shopify Polaris - React Components\", \"title4\": \"Shopify Partner Academy\"}, {\"pre1\": \" \", \"href1\": \"https://shopify.github.io/themekit/\", \"href2\": \"https://shopify.dev/tools/app-bridge\", \"href3\": \"https://shopify.dev/apps/auth/oauth\", \"href4\": \"https://buffer.com/library/social-media-sites/#20-tumblr-%E2%80%94-135-million-maus\", \"name1\": \"themekit\", \"name2\": \"bridge\", \"name3\": \"authflow\", \"name4\": \"social\", \"post1\": \"|\", \"post2\": \"|\", \"post3\": \"|\", \"title1\": \"Shopify Theme Kit\", \"title2\": \"Shopify App Bridge\", \"title3\": \"Implementing OAuth for Shopify Apps\", \"title4\": \"buffer.com Buffer helps you build an audience organically. We’re a values-driven company that provides affordable, intuitive marketing tools for ambitious people and teams.\"}, {\"href1\": \"https://shopify.dev/themes/architecture\", \"href2\": \"https://shopify.dev/themes/architecture/templates\", \"href3\": \"https://shopify.dev/themes/architecture/sections\", \"href4\": \"https://shopify.dev/themes/tools/theme-inspector\", \"name1\": \"arch\", \"name2\": \"templates\", \"name3\": \"sections\", \"name4\": \"inspector\", \"post1\": \"|\", \"post2\": \"|\", \"post3\": \"|\", \"title1\": \"Shopify Theme Architecture\", \"title2\": \"Shopify Theme Templates\", \"title3\": \"Shopify Theme Sections\", \"title4\": \"Shopify Theme Inspector for Chrome\"}, {\"href\": \"https://github.com/Shopify/shopify-node-api\", \"pre1\": \"ㅤㅤ\", \"href2\": \"https://themes.shopify.com/\", \"href3\": \"https://exchange.shopify.com/\", \"name1\": \"nodesdk\", \"name2\": \"store\", \"name3\": \"exchange\", \"post1\": \"✫\", \"post2\": \"✫\", \"title3\": \"Shopify Exchange Marketplace\"}, {\"name1\": \"ㅤ\"}], \"title\": \"shopify\", \"title2\": \"status\"}",
                                    "dbu": "postgres",
                                    "created": "2024-09-02 11:53:07.199695"
                                },
                                {
                                    "pid": "15",
                                    "name": "stream",
                                    "links": "{\"name\": \"stream\", \"href1\": \"https://www.xfinity.com/stream/\", \"href2\": \"*/settings\", \"links\": [{\"pre1\": \"    \", \"href1\": \"https://alexa.amazon.com/\", \"href2\": \"https://amazon.com/\", \"href3\": \"https://www.amazon.com/Amazon-Video/b/?ie=UTF8&node=2858778011&ref_=nav_dvm_us_eg_cs_nav_rec_T1\", \"href4\": \"https://music.amazon.com/\", \"name1\": \"alexa\", \"name2\": \"prime\", \"name3\": \"video\", \"name4\": \"music\", \"post1\": \"✫\", \"post2\": \"✫\", \"post3\": \"✫\"}, {\"pre1\": \"   \", \"href1\": \"https://www.audible.com/\", \"href2\": \"https://www.twitch.tv/\", \"href3\": \"https://www.imdb.com/\", \"href4\": \"https://www.amazon.com/kindle-dbs/fd/kcp\", \"name1\": \"audible\", \"name2\": \"twitch\", \"name3\": \"imdb\", \"name4\": \"kindle\", \"post1\": \" | \", \"post2\": \" | \", \"post3\": \" | \", \"title1\": \"Audible\", \"title2\": \"Twitch\", \"title3\": \"IMDb\", \"title4\": \"Kindle Direct Publishing\"}, {\"pre1\": \" \", \"href1\": \"https://www.xfinity.com/stream/\", \"href2\": \"https://www.netflix.com/\", \"href3\": \"https://hbomax.com/\", \"href4\": \"http://peacock.tv/\", \"name1\": \"xfinity\", \"name2\": \"netflix\", \"name3\": \"hbomax\", \"name4\": \"peacock\", \"post1\": \"  \", \"post2\": \"  \", \"post3\": \"  \"}, {\"pre1\": \"      \", \"href1\": \"https://www.youtube.com/\", \"href2\": \"https://music.apple.com/\", \"href3\": \"https://www.spotify.com/\", \"name1\": \"youtube\", \"name2\": \"apple music\", \"name3\": \"spotify\", \"post1\": \"  \", \"post2\": \"  \", \"post3\": \"  \"}, {\"pre1\": \" \", \"href1\": \"https://www.shopify.com/editions/summer2024\", \"name1\": \"-shopify\", \"xhref1\": \"https://www.shopify.com/\"}, {\"pre1\": \"   \", \"href1\": \"http://puppyleo.com\", \"href2\": \"https://admin.shopify.com/\", \"name1\": \"the puppy leo shop\", \"name2\": \" 🐶   admin\", \"post2\": \"  \", \"post3\": \"  \"}, {\"pre1\": \"      \", \"href1\": \"https://app.zendrop.com/dashboard\", \"href2\": \"https://www.cjdropshipping.com/\", \"href3\": \"https://www.shineon.com/\\\"\", \"href4\": \"https://www.printful.com/\", \"name1\": \"zendrop\", \"name2\": \"cj\", \"name3\": \"shineon\", \"name4\": \"printful\", \"post1\": \"  \", \"post2\": \"  \", \"post3\": \"  \"}, {\"pre1\": \"           \", \"href1\": \"https://shopify.github.io\", \"href2\": \"https://shopify.dev/\", \"href3\": \"https://apps.shopify.com/\", \"href4\": \"https://polaris.shopify.com/\", \"name1\": \"src\", \"name2\": \"dev\", \"name3\": \"apps\", \"name4\": \"polaris\", \"post1\": \"  \", \"post2\": \"  \", \"post3\": \"  \", \"title3\": \"Shopify App Store\", \"title4\": \"Shopify Polaris - React Components\"}, {\"pre1\": \"      \", \"post1\": \"  \", \"post2\": \"  \", \"post3\": \"  \"}, {\"pre1\": \"      \", \"post1\": \"  \", \"post2\": \"  \", \"post3\": \"  \"}], \"title\": \"stream / shop\"}",
                                    "dbu": "postgres",
                                    "created": "2024-09-02 11:53:07.199695"
                                }
                            ]
                        },
                        "text/html": [
                            "<table>",
                            "<tr><th>pid</th><th>name</th><th>links</th><th>dbu</th><th>created</th></tr>",
                            "<tr><td>1</td><td>amzn</td><td>{&quot;name&quot;: &quot;amzn&quot;, &quot;href1&quot;: &quot;https://aws.amazon.com/&quot;, &quot;href2&quot;: &quot;*/settings&quot;, &quot;links&quot;: [{&quot;pre1&quot;: &quot;ㅤ&quot;, &quot;href1&quot;: &quot;https://alexa.amazon.com/&quot;, &quot;href2&quot;: &quot;https://amazon.com/&quot;, &quot;href3&quot;: &quot;https://www.amazon.com/Amazon-Video/b/?ie=UTF8&amp;node=2858778011&amp;ref_=nav_dvm_us_eg_cs_nav_rec_T1&quot;, &quot;href4&quot;: &quot;https://music.amazon.com/&quot;, &quot;name1&quot;: &quot;alexa&quot;, &quot;name2&quot;: &quot;prime&quot;, &quot;name3&quot;: &quot;video&quot;, &quot;name4&quot;: &quot;music&quot;, &quot;post1&quot;: &quot;✫&quot;, &quot;post2&quot;: &quot;✫&quot;, &quot;post3&quot;: &quot;✫&quot;}, {&quot;pre1&quot;: &quot;   &quot;, &quot;href1&quot;: &quot;https://www.audible.com/&quot;, &quot;href2&quot;: &quot;https://www.twitch.tv/&quot;, &quot;href3&quot;: &quot;https://www.imdb.com/&quot;, &quot;href4&quot;: &quot;https://www.amazon.com/kindle-dbs/fd/kcp&quot;, &quot;name1&quot;: &quot;audible&quot;, &quot;name2&quot;: &quot;twitch&quot;, &quot;name3&quot;: &quot;imdb&quot;, &quot;name4&quot;: &quot;kindle&quot;, &quot;post1&quot;: &quot; | &quot;, &quot;post2&quot;: &quot; | &quot;, &quot;post3&quot;: &quot; | &quot;, &quot;title1&quot;: &quot;Audible&quot;, &quot;title2&quot;: &quot;Twitch&quot;, &quot;title3&quot;: &quot;IMDb&quot;, &quot;title4&quot;: &quot;Kindle Direct Publishing&quot;}, {&quot;name1&quot;: &quot;&quot;}, {&quot;href1&quot;: &quot;https://aws.amazon.com/&quot;, &quot;name1&quot;: &quot;-     aws    &quot;}, {&quot;pre1&quot;: &quot; &quot;, &quot;href1&quot;: &quot;https://console.aws.amazon.com/&quot;, &quot;href2&quot;: &quot;https://aws.amazon.com/cdk/&quot;, &quot;href3&quot;: &quot;https://aws.amazon.com/sdk-for-javascript/&quot;, &quot;href4&quot;: &quot;https://aws.amazon.com/amplify/&quot;, &quot;name1&quot;: &quot;console&quot;, &quot;name2&quot;: &quot;cdk&quot;, &quot;name3&quot;: &quot;js-sdk&quot;, &quot;name4&quot;: &quot;amplify&quot;, &quot;post1&quot;: &quot; ✫ &quot;, &quot;post2&quot;: &quot; ✫ &quot;, &quot;post3&quot;: &quot; ✫ &quot;, &quot;title1&quot;: &quot;AWS Management Console&quot;}, {&quot;name1&quot;: &quot;ㅤ&quot;}, {&quot;name1&quot;: &quot;ㅤ&quot;}, {&quot;name1&quot;: &quot;ㅤ&quot;}, {&quot;name1&quot;: &quot;ㅤ&quot;}], &quot;title&quot;: &quot;amazon&quot;}</td><td>postgres</td><td>2024-09-02 11:53:07.199695</td></tr>",
                            "<tr><td>2</td><td>apache</td><td>{&quot;name&quot;: &quot;apache&quot;, &quot;href1&quot;: &quot;https://apache.org&quot;, &quot;href2&quot;: &quot;*/settings&quot;, &quot;links&quot;: [{&quot;pre1&quot;: &quot; projects by » &quot;, &quot;href1&quot;: &quot;https://projects.apache.org/projects.html?name&quot;, &quot;href2&quot;: &quot;https://projects.apache.org/projects.html?language&quot;, &quot;href3&quot;: &quot;https://projects.apache.org/projects.html?category&quot;, &quot;name1&quot;: &quot;name&quot;, &quot;name2&quot;: &quot;lang&quot;, &quot;name3&quot;: &quot;cat&quot;, &quot;post1&quot;: &quot; |&quot;, &quot;post2&quot;: &quot; | &quot;}, {&quot;name1&quot;: &quot;- classics  &quot;, &quot;title1&quot;: &quot;Apache projects that have been around for a long time.&quot;}, {&quot;pre1&quot;: &quot; &quot;, &quot;pre2&quot;: &quot; &quot;, &quot;pre3&quot;: &quot; &quot;, &quot;pre4&quot;: &quot; &quot;, &quot;href1&quot;: &quot;https://httpd.apache.org/&quot;, &quot;href2&quot;: &quot;https://tomcat.apache.org/&quot;, &quot;href3&quot;: &quot;https://kafka.apache.org/&quot;, &quot;href4&quot;: &quot;https://hadoop.apache.org/&quot;, &quot;name1&quot;: &quot;http&quot;, &quot;name2&quot;: &quot;tomcat&quot;, &quot;name3&quot;: &quot;kafka&quot;, &quot;name4&quot;: &quot;hadoop&quot;, &quot;title1&quot;: &quot;The Apache HTTP Server Project is an effort to develop and maintain an open-source HTTP server for modern operating systems including UNIX and Windows NT. The goal of this project is to provide a secure, efficient and extensible server that provides HTTP services in sync with the current HTTP standards.&quot;, &quot;title2&quot;: &quot;The Apache Tomcat software is an open source implementation of the Java Servlet, JavaServer Pages, Java Expression Language and Java WebSocket technologies. The Java Servlet, JavaServer Pages, Java Expression Language and Java WebSocket specifications are developed under the Java Community Process.&quot;, &quot;title3&quot;: &quot;Apache Kafka is an open-source distributed event streaming platform used by thousands of companies for high-performance data pipelines, streaming analytics, data integration, and mission-critical applications.&quot;, &quot;title4&quot;: &quot;The Apache Hadoop software library is a framework that allows for the distributed processing of large data sets across clusters of computers using simple programming models. It is designed to scale up from single servers to thousands of machines, each offering local computation and storage.&quot;}, {&quot;pre1&quot;: &quot;  &quot;, &quot;pre2&quot;: &quot; &quot;, &quot;pre3&quot;: &quot; &quot;, &quot;pre4&quot;: &quot; &quot;, &quot;href1&quot;: &quot;https://spark.apache.org/&quot;, &quot;href2&quot;: &quot;https://lucene.apache.org/&quot;, &quot;href3&quot;: &quot;https://maven.apache.org/&quot;, &quot;href4&quot;: &quot;https://ant.apache.org/&quot;, &quot;name1&quot;: &quot;spark&quot;, &quot;name2&quot;: &quot;lucene&quot;, &quot;name3&quot;: &quot;maven&quot;, &quot;name4&quot;: &quot;ant&quot;, &quot;title1&quot;: &quot;Apache Spark is a multi-language engine for executing data engineering, data science, and machine learning on single-node machines or clusters.&quot;, &quot;title2&quot;: &quot;Apache Lucene is a free and open-source information retrieval software library, originally written completely in Java by Doug Cutting. It is supported by the Apache Software Foundation and is released under the Apache Software License.&quot;, &quot;title3&quot;: &quot;Apache Maven is a software project management and comprehension tool. Based on the concept of a project object model (POM), Maven can manage a project&#39;s build, reporting and documentation from a central piece of information.&quot;, &quot;title4&quot;: &quot;Apache Ant is a Java library and command-line tool whose mission is to drive processes described in build files as targets and extension points dependent upon each other. The main known usage of Ant is the build of Java applications.&quot;}, {&quot;name1&quot;: &quot;- others&quot;, &quot;title1&quot;: &quot;Apache projects address interesting technology.&quot;}, {&quot;hre3&quot;: &quot;https://ambari.apache.org/&quot;, &quot;pre1&quot;: &quot; &quot;, &quot;href1&quot;: &quot;https://couchdb.apache.org/&quot;, &quot;href2&quot;: &quot;https://flume.apache.org/&quot;, &quot;href4&quot;: &quot;https://airflow.apache.org/&quot;, &quot;name1&quot;: &quot;couchdb&quot;, &quot;name2&quot;: &quot;flume&quot;, &quot;name3&quot;: &quot;ambari&quot;, &quot;name4&quot;: &quot;airflow&quot;, &quot;title1&quot;: &quot;Apache CouchDB is a database that uses JSON for documents, an HTTP API, and designed to be accessible via a web browser. It allows for data replication across multiple nodes for robustness and availability, and has a document update model rather than direct overwriting for conflict detection and resolution.&quot;, &quot;title2&quot;: &quot;Apache Flume is a distributed, reliable, and available service for efficiently collecting, aggregating, and moving large amounts of log data. It has a simple and flexible architecture based on streaming data flows. It is robust and fault tolerant with tunable reliability mechanisms and many failover and recovery mechanisms. It uses a simple extensible data model that allows for online analytic application.&quot;, &quot;title3&quot;: &quot;Apache Ambari is a software project designed to make Hadoop management simpler by developing software for provisioning, managing, and monitoring Apache Hadoop clusters. Ambari provides an intuitive collection of operator tools and a robust set of APIs that hide the complexity of Hadoop, simplifying the operation of clusters.&quot;, &quot;title4&quot;: &quot;Apache Airflow is an open-source workflow management platform. It started at Airbnb in October 2014 as a solution to manage the company&#39;s increasingly complex workflows. From monitoring data pipelines to provisioning large-scale data processing resources in a cloud, Airflow is becoming a highly efficient way of writing, scheduling and monitoring workflows.&quot;}, {&quot;pre1&quot;: &quot;   &quot;, &quot;href1&quot;: &quot;https://parquet.apache.org/&quot;, &quot;href2&quot;: &quot;https://flink.apache.org/&quot;, &quot;href3&quot;: &quot;https://thrift.apache.org/&quot;, &quot;href4&quot;: &quot;https://avro.apache.org/&quot;, &quot;name1&quot;: &quot;parquet&quot;, &quot;name2&quot;: &quot;flink&quot;, &quot;name3&quot;: &quot;thrift&quot;, &quot;name4&quot;: &quot;avro&quot;, &quot;post1&quot;: &quot; &quot;, &quot;post2&quot;: &quot; &quot;, &quot;post3&quot;: &quot; &quot;, &quot;title1&quot;: &quot;Apache Parquet is a columnar storage format that enables efficient storage and retrieval of large analytic datasets. It uses the record shredding and assembly algorithm described in the Dremel paper by Google.&quot;, &quot;title2&quot;: &quot;Apache Flink is a framework and distributed processing engine for stateful computations over unbounded and bounded data streams. Flink has been designed to run in all common cluster environments, perform computations at in-memory speeds and at any scale.&quot;, &quot;title3&quot;: &quot;Apache Thrift is a software framework for scalable cross-language services development. It combines a software stack with a code generation engine to build services that work efficiently and seamlessly between C++, Java, Python, PHP, Ruby, Erlang, Perl, Haskell, C#, Cocoa, JavaScript, Node.js, Smalltalk, OCaml and Delphi and other languages.&quot;, &quot;title4&quot;: &quot;Apache Avro is a data serialization system which provides rich data structures, a compact, fast, binary data format, a container file to store persistent data, and remote procedure call (RPC).&quot;}, {&quot;pre1&quot;: &quot;ㅤ&quot;}, {&quot;pre1&quot;: &quot;ㅤ&quot;}], &quot;title&quot;: &quot;apache&quot;}</td><td>postgres</td><td>2024-09-02 11:53:07.199695</td></tr>",
                            "<tr><td>3</td><td>banking</td><td>{&quot;name&quot;: &quot;banking&quot;, &quot;href1&quot;: &quot;https://www.bankingdive.com/&quot;, &quot;href2&quot;: &quot;*/settings&quot;, &quot;links&quot;: [{&quot;pre1&quot;: &quot;  &quot;, &quot;href1&quot;: &quot;https://chaseonline.chase.com/&quot;, &quot;href2&quot;: &quot;https://www.bankofamerica.com/&quot;, &quot;href3&quot;: &quot;https://wellsfargo.com/&quot;, &quot;href4&quot;: &quot;https://online.citi.com/US/ag/dashboard/credit-card&quot;, &quot;name1&quot;: &quot;chase&quot;, &quot;name2&quot;: &quot;bofa&quot;, &quot;name3&quot;: &quot;wells fargo&quot;, &quot;name4&quot;: &quot;citi&quot;, &quot;post1&quot;: &quot;ㅤ&quot;, &quot;post2&quot;: &quot;ㅤ&quot;, &quot;post3&quot;: &quot;ㅤ&quot;}, {&quot;pre1&quot;: &quot;  &quot;, &quot;href1&quot;: &quot;https://www.usbank.com/index.html&quot;, &quot;href2&quot;: &quot;https://www.pnc.com/en/personal-banking.html&quot;, &quot;href3&quot;: &quot;https://www.truist.com/&quot;, &quot;href4&quot;: &quot;https://myaccounts.capitalone.com/welcome&quot;, &quot;name1&quot;: &quot;usbank&quot;, &quot;name2&quot;: &quot;pnc&quot;, &quot;name3&quot;: &quot;truist&quot;, &quot;name4&quot;: &quot;capone&quot;, &quot;post1&quot;: &quot;ㅤ&quot;, &quot;post2&quot;: &quot;ㅤ&quot;, &quot;post3&quot;: &quot;ㅤ&quot;}, {&quot;pre1&quot;: &quot;    &quot;, &quot;href1&quot;: &quot;https://www.53.com/content/fifth-third/en/login.html&quot;, &quot;href2&quot;: &quot;https://onlinebanking.tdbank.com/&quot;, &quot;href3&quot;: &quot;https://www.bmo.com/en-us/main/personal/&quot;, &quot;href4&quot;: &quot;https://www.citizensbank.com/&quot;, &quot;name1&quot;: &quot;fifththird&quot;, &quot;name2&quot;: &quot;td&quot;, &quot;name3&quot;: &quot;bmo&quot;, &quot;name4&quot;: &quot;citizens&quot;, &quot;post1&quot;: &quot;ㅤ&quot;, &quot;post2&quot;: &quot;ㅤ&quot;, &quot;post3&quot;: &quot;ㅤ&quot;}, {&quot;pre1&quot;: &quot; &quot;, &quot;name1&quot;: &quot;1st citzens&quot;, &quot;name2&quot;: &quot;m&amp;t&quot;, &quot;name3&quot;: &quot;huntington nb&quot;, &quot;post1&quot;: &quot;ㅤ&quot;, &quot;post2&quot;: &quot;ㅤ&quot;, &quot;post3&quot;: &quot;ㅤ&quot;}, {&quot;pre1&quot;: &quot; &quot;, &quot;href1&quot;: &quot;https://www.americanexpress.com/en-us/account/login?inav=iNavLnkLog&quot;, &quot;name1&quot;: &quot;amex&quot;, &quot;name2&quot;: &quot;key Bank&quot;, &quot;name3&quot;: &quot;ally Bank&quot;, &quot;name4&quot;: &quot;hsbc&quot;, &quot;post1&quot;: &quot;ㅤ&quot;, &quot;post2&quot;: &quot;ㅤ&quot;, &quot;post3&quot;: &quot;ㅤ&quot;}, {&quot;name1&quot;: &quot;-cards&quot;}, {&quot;pre1&quot;: &quot;       &quot;, &quot;href1&quot;: &quot;https://portal.discover.com/customersvcs/universalLogin/ac_main&quot;, &quot;href2&quot;: &quot;https://card.apple.com&quot;, &quot;href3&quot;: &quot;https://cards.theignitecard.com/dfc/dashboard&quot;, &quot;name1&quot;: &quot;discover&quot;, &quot;name2&quot;: &quot;apple&quot;, &quot;name3&quot;: &quot;ignite&quot;, &quot;post1&quot;: &quot;ㅤ&quot;, &quot;post2&quot;: &quot;ㅤ&quot;, &quot;post3&quot;: &quot;ㅤ&quot;}, {&quot;pre1&quot;: &quot;~  syncbank ⇒ &quot;, &quot;href1&quot;: &quot;https://www.synchrony.com/accounts/?client=amazon&quot;, &quot;href2&quot;: &quot;https://www.synchrony.com/accounts/&quot;, &quot;name1&quot;: &quot;amazon&quot;, &quot;name2&quot;: &quot;others&quot;, &quot;post1&quot;: &quot;ㅤ|ㅤ&quot;, &quot;post2&quot;: &quot;ㅤ&quot;, &quot;post3&quot;: &quot;ㅤ&quot;}, {&quot;pre1&quot;: &quot; &quot;}], &quot;title&quot;: &quot;banking&quot;}</td><td>postgres</td><td>2024-09-02 11:53:07.199695</td></tr>",
                            "<tr><td>4</td><td>cloud</td><td>{&quot;name&quot;: &quot;cloud&quot;, &quot;href1&quot;: &quot;https://www.cloudzero.com/blog/cloud-service-providers/&quot;, &quot;href2&quot;: &quot;*/settings&quot;, &quot;links&quot;: [{&quot;pre1&quot;: &quot;ㅤ &quot;, &quot;href1&quot;: &quot;https://console.aws.amazon.com/&quot;, &quot;href2&quot;: &quot;https://portal.azure.com/#home&quot;, &quot;href3&quot;: &quot;https://console.cloud.google.com/&quot;, &quot;href4&quot;: &quot;https://cloud.digitalocean.com/login&quot;, &quot;name1&quot;: &quot;aws&quot;, &quot;name2&quot;: &quot;azure&quot;, &quot;name3&quot;: &quot;gcp&quot;, &quot;name4&quot;: &quot;do&quot;, &quot;post1&quot;: &quot;ㅤㅤ&quot;, &quot;post2&quot;: &quot;ㅤㅤ&quot;, &quot;post3&quot;: &quot;ㅤㅤ&quot;}, {&quot;pre1&quot;: &quot;ㅤ &quot;, &quot;href1&quot;: &quot;https://rancher.com/docs/&quot;, &quot;name1&quot;: &quot;-rancher/docs&quot;, &quot;post1&quot;: &quot;ㅤㅤ&quot;, &quot;post2&quot;: &quot;ㅤㅤ&quot;, &quot;post3&quot;: &quot;ㅤㅤ&quot;}, {&quot;pre1&quot;: &quot;ㅤ &quot;, &quot;href1&quot;: &quot;http://localhost&quot;, &quot;href2&quot;: &quot;https://localhost/dashboard/c/local/explorer/namespace/gridsvcs#Resources&quot;, &quot;href3&quot;: &quot;http://localhost:9011/&quot;, &quot;name1&quot;: &quot;rancher&quot;, &quot;name2&quot;: &quot;gridsvcs&quot;, &quot;name3&quot;: &quot;fusionauth&quot;, &quot;post1&quot;: &quot;ㅤㅤ&quot;, &quot;post2&quot;: &quot;ㅤㅤ&quot;, &quot;post3&quot;: &quot;ㅤㅤ&quot;}, {&quot;pre1&quot;: &quot;ㅤ&quot;}, {&quot;pre1&quot;: &quot;ㅤ&quot;}, {&quot;name1&quot;: &quot;-research&quot;}, {&quot;pre1&quot;: &quot;   &quot;, &quot;href1&quot;: &quot;https://fusionauth.io&quot;, &quot;href2&quot;: &quot;https://www.passportjs.org/&quot;, &quot;href3&quot;: &quot;https://developers.cloudflare.com/products/&quot;, &quot;name1&quot;: &quot;fusionauth&quot;, &quot;name2&quot;: &quot;passportjs&quot;, &quot;name3&quot;: &quot;cloudflare&quot;, &quot;post1&quot;: &quot;  &quot;, &quot;post2&quot;: &quot;  &quot;, &quot;post3&quot;: &quot; &quot;}, {&quot;pre1&quot;: &quot;ㅤ&quot;}, {&quot;pre1&quot;: &quot;ㅤ&quot;}, {&quot;pre1&quot;: &quot;ㅤ&quot;}], &quot;title&quot;: &quot;cloud&quot;}</td><td>postgres</td><td>2024-09-02 11:53:07.199695</td></tr>",
                            "<tr><td>5</td><td>comms</td><td>{&quot;name&quot;: &quot;comms&quot;, &quot;href1&quot;: &quot;https://www.youtube.com/@allin&quot;, &quot;href2&quot;: &quot;*/settings&quot;, &quot;links&quot;: [{&quot;pre1&quot;: &quot; &quot;, &quot;href1&quot;: &quot;https://www.microsoft.com/en-us/microsoft-365&quot;, &quot;href2&quot;: &quot;https://www.office.com/?auth=2&quot;, &quot;href3&quot;: &quot;https://www.office.com/?auth=1&quot;, &quot;name1&quot;: &quot;microsoft 365&quot;, &quot;name2&quot;: &quot;work&quot;, &quot;name3&quot;: &quot;home&quot;, &quot;post1&quot;: &quot;ㅤ&quot;, &quot;post2&quot;: &quot;|&quot;}, {&quot;pre1&quot;: &quot; &quot;, &quot;pre3&quot;: &quot;|&quot;, &quot;href1&quot;: &quot;https://admin.google.com/?authuser=1&quot;, &quot;href2&quot;: &quot;https://mail.google.com/mail/u/0/?tab=rm&amp;ogbl#inbox&quot;, &quot;href3&quot;: &quot;https://mail.google.com/mail/u/0/?tab=rm&amp;ogbl#inbox&quot;, &quot;name1&quot;: &quot;google office&quot;, &quot;name2&quot;: &quot;gmail&quot;, &quot;name3&quot;: &quot;dashboard&quot;, &quot;post1&quot;: &quot;ㅤ&quot;}, {&quot;pre1&quot;: &quot;ㅤ&quot;, &quot;href1&quot;: &quot;https://onedrive.live.com&quot;, &quot;href2&quot;: &quot;https://www.dropbox.com/&quot;, &quot;href3&quot;: &quot;https://drive.google.com/drive/u/0/&quot;, &quot;href4&quot;: &quot;https://www.icloud.com/iclouddrive/&quot;, &quot;name1&quot;: &quot;onedrive&quot;, &quot;name2&quot;: &quot;dropbox&quot;, &quot;name3&quot;: &quot;g-drive&quot;, &quot;name4&quot;: &quot;icloud&quot;, &quot;post1&quot;: null, &quot;post2&quot;: null, &quot;post3&quot;: null}, {&quot;pre1&quot;: &quot;ㅤ&quot;, &quot;href1&quot;: &quot;https://zoom.us/&quot;, &quot;href2&quot;: &quot;https://slack.com/&quot;, &quot;href3&quot;: &quot;https://meet.google.com/&quot;, &quot;href4&quot;: &quot;https://www.microsoft.com/en-us/microsoft-teams/group-chat-software&quot;, &quot;name1&quot;: &quot;zoom&quot;, &quot;name2&quot;: &quot;slack&quot;, &quot;name3&quot;: &quot;meet&quot;, &quot;name4&quot;: &quot;teams&quot;, &quot;post1&quot;: &quot;ㅤ&quot;, &quot;post2&quot;: &quot;ㅤ&quot;, &quot;post3&quot;: &quot;ㅤ&quot;, &quot;title1&quot;: &quot;Zoom Video Communications&quot;, &quot;title2&quot;: &quot;Slack: Where Work Happens&quot;, &quot;title3&quot;: &quot;Google Meet: Secure Video Meetings&quot;, &quot;title4&quot;: &quot;Microsoft Teams: Group Chat Software&quot;}, {&quot;pre1&quot;: &quot;ㅤ&quot;}, {&quot;name1&quot;: &quot;-articles&quot;}, {&quot;pre1&quot;: &quot; &quot;, &quot;href1&quot;: &quot;https://www.reddit.com/&quot;, &quot;href2&quot;: &quot;https://substack.com/home&quot;, &quot;href3&quot;: &quot;https://medium.com/&quot;, &quot;href4&quot;: &quot;https://www.notion.so&quot;, &quot;name1&quot;: &quot;reddit&quot;, &quot;name2&quot;: &quot;substack&quot;, &quot;name3&quot;: &quot;medium&quot;, &quot;name4&quot;: &quot;notion&quot;, &quot;post1&quot;: &quot;ㅤ&quot;, &quot;post2&quot;: &quot;ㅤ&quot;, &quot;title4&quot;: &quot;Notion.so is a popular productivity tool that can be described as an all-in-one workspace. It lets you take notes, create documents, manage tasks, and even build wikis and databases – all in a single platform.&quot;}, {&quot;pre1&quot;: &quot; &quot;, &quot;href1&quot;: &quot;https://dev.to/&quot;, &quot;href2&quot;: &quot;https://www.quora.com/topic/Software-Engineering&quot;, &quot;href3&quot;: &quot;https://www.linkedin.com/groups/&quot;, &quot;href4&quot;: &quot;https://news.ycombinator.com&quot;, &quot;name1&quot;: &quot;dev.to&quot;, &quot;name2&quot;: &quot;quora&quot;, &quot;name3&quot;: &quot;groups&quot;, &quot;name4&quot;: &quot;hacker news&quot;, &quot;post1&quot;: &quot; &quot;, &quot;post2&quot;: &quot; &quot;, &quot;post3&quot;: &quot; &quot;}, {&quot;pre1&quot;: &quot;ㅤ&quot;}, {&quot;pre1&quot;: &quot;ㅤ&quot;}], &quot;title&quot;: &quot;communicate / discuss&quot;}</td><td>postgres</td><td>2024-09-02 11:53:07.199695</td></tr>",
                            "<tr><td>6</td><td>devops</td><td>{&quot;name&quot;: &quot;devops&quot;, &quot;href1&quot;: &quot;https://www.cncf.io/&quot;, &quot;href2&quot;: &quot;*/settings&quot;, &quot;links&quot;: [{&quot;pre1&quot;: &quot; &quot;, &quot;href1&quot;: &quot;https://www.docker.com/&quot;, &quot;href2&quot;: &quot;https://kubernetes.io/&quot;, &quot;href3&quot;: &quot;https://k3s.io/&quot;, &quot;href4&quot;: &quot;https://helm.sh/&quot;, &quot;name1&quot;: &quot;docker&quot;, &quot;name2&quot;: &quot;kubernetes&quot;, &quot;name3&quot;: &quot;k3s&quot;, &quot;name4&quot;: &quot;helm&quot;}, {&quot;pre1&quot;: &quot; &quot;, &quot;href1&quot;: &quot;https://www.datadoghq.com/&quot;, &quot;href2&quot;: &quot;https://prometheus.io/&quot;, &quot;href3&quot;: &quot;https://grafana.com/&quot;, &quot;href4&quot;: &quot;https://www.elastic.co/elastic-stack&quot;, &quot;name1&quot;: &quot;datadog&quot;, &quot;name2&quot;: &quot;prometheus&quot;, &quot;name3&quot;: &quot;grafana&quot;, &quot;name4&quot;: &quot;elk&quot;}, {&quot;href1&quot;: &quot;https://www.pulumi.com/&quot;, &quot;href2&quot;: &quot;https://www.serverless.com/&quot;, &quot;href3&quot;: &quot;https://www.terraform.io/&quot;, &quot;href5&quot;: &quot;https://www.ansible.com/&quot;, &quot;name1&quot;: &quot;pulumi&quot;, &quot;name2&quot;: &quot;serverless&quot;, &quot;name3&quot;: &quot;terraform&quot;, &quot;name4&quot;: &quot;ansible&quot;}, {&quot;pre1&quot;: &quot;ㅤㅤ&quot;, &quot;href1&quot;: &quot;https://istio.io/&quot;, &quot;href2&quot;: &quot;https://linkerd.io/&quot;, &quot;href3&quot;: &quot;https://www.consul.io/&quot;, &quot;href4&quot;: &quot;https://www.envoyproxy.io/&quot;, &quot;name1&quot;: &quot;istio&quot;, &quot;name2&quot;: &quot;linkerd&quot;, &quot;name3&quot;: &quot;consul&quot;, &quot;name4&quot;: &quot;envoy&quot;}, {&quot;pre1&quot;: &quot;ㅤ&quot;, &quot;href1&quot;: &quot;https://www.terraform.io/&quot;, &quot;href2&quot;: &quot;https://www.ansible.com/&quot;, &quot;href3&quot;: &quot;https://puppet.com/&quot;, &quot;href4&quot;: &quot;https://www.chef.io/&quot;, &quot;name1&quot;: &quot;terraform&quot;, &quot;name2&quot;: &quot;ansible&quot;, &quot;name3&quot;: &quot;puppet&quot;, &quot;name4&quot;: &quot;chef&quot;}, {&quot;pre1&quot;: &quot;ㅤ&quot;, &quot;href1&quot;: &quot;https://www.jenkins.io/&quot;, &quot;href2&quot;: &quot;https://docs.gitlab.com/ee/ci/&quot;, &quot;href3&quot;: &quot;https://circleci.com/&quot;, &quot;href4&quot;: &quot;https://travis-ci.org/&quot;, &quot;name1&quot;: &quot;jenkins&quot;, &quot;name2&quot;: &quot;gitLab ci&quot;, &quot;name3&quot;: &quot;circle ci&quot;, &quot;name4&quot;: &quot;travis ci&quot;}, {&quot;pre1&quot;: &quot;ㅤ&quot;, &quot;href1&quot;: &quot;https://rancher.com/&quot;, &quot;href2&quot;: &quot;https://www.openshift.com/&quot;, &quot;href3&quot;: &quot;https://www.nomadproject.io/&quot;, &quot;name1&quot;: &quot;rancher&quot;, &quot;name2&quot;: &quot;openshift&quot;, &quot;name3&quot;: &quot;nomad&quot;, &quot;title2&quot;: &quot;Red Hat OpenShift is a container application platform that allows developers and IT organizations to build, deploy, and manage applications consistently across on-premises, public, and private cloud infrastructures. It is based on open-source Kubernetes container orchestration technology and provides a comprehensive set of tools and services for developing, deploying, and managing containerized applications.&quot;, &quot;title3&quot;: &quot;A simple and flexible scheduler and orchestrator to deploy and manage containers and non-containerized applications across on-premises and clouds at scale.&quot;}, {&quot;name1&quot;: &quot;ㅤ&quot;}, {&quot;name1&quot;: &quot;ㅤ&quot;}], &quot;title&quot;: &quot;devops toolchain&quot;}</td><td>postgres</td><td>2024-09-02 11:53:07.199695</td></tr>",
                            "<tr><td>12</td><td>msft</td><td>{&quot;name&quot;: &quot;msft&quot;, &quot;href1&quot;: &quot;https://developer.microsoft.com/&quot;, &quot;href2&quot;: &quot;*/settings&quot;, &quot;links&quot;: [{&quot;pre1&quot;: &quot;     &quot;, &quot;href1&quot;: &quot;https://docs.microsoft.com/learn/&quot;, &quot;href2&quot;: &quot;https://docs.microsoft.com/&quot;, &quot;href3&quot;: &quot;https://docs.microsoft.com/answers/&quot;, &quot;href4&quot;: &quot;https://devblogs.microsoft.com/&quot;, &quot;name1&quot;: &quot;learn&quot;, &quot;name2&quot;: &quot;docs&quot;, &quot;name3&quot;: &quot;q&amp;a&quot;, &quot;name4&quot;: &quot;dev blog&quot;, &quot;post1&quot;: &quot; | &quot;, &quot;post2&quot;: &quot; | &quot;, &quot;post3&quot;: &quot; | &quot;, &quot;title1&quot;: &quot;Microsoft Learn&quot;, &quot;title2&quot;: &quot;Microsoft Docs&quot;, &quot;title3&quot;: &quot;Microsoft Q&amp;A&quot;, &quot;title4&quot;: &quot;Microsoft Developer Blogs&quot;}, {&quot;pre1&quot;: &quot;   ㅤ&quot;, &quot;href1&quot;: &quot;https://code.visualstudio.com/docs&quot;, &quot;href2&quot;: &quot;https://dotnet.microsoft.com/&quot;, &quot;href3&quot;: &quot;https://www.nuget.org/&quot;, &quot;href4&quot;: &quot;https://www.microsoft.com/sql-server/&quot;, &quot;name1&quot;: &quot;vs code&quot;, &quot;name2&quot;: &quot;.net&quot;, &quot;name3&quot;: &quot;nuget&quot;, &quot;name4&quot;: &quot;mssql&quot;, &quot;title1&quot;: &quot;Visual Studio Code&quot;, &quot;title2&quot;: &quot;.NET&quot;, &quot;title3&quot;: &quot;NuGet&quot;, &quot;title4&quot;: &quot;SQL Server&quot;}, {&quot;name1&quot;: &quot;&quot;}, {&quot;href1&quot;: &quot;https://azure.microsoft.com/&quot;, &quot;name1&quot;: &quot;-     azure    &quot;}, {&quot;href1&quot;: &quot;https://azure.microsoft.com/services/devops/&quot;, &quot;href2&quot;: &quot;https://azure.microsoft.com/services/functions/&quot;, &quot;href3&quot;: &quot;https://azure.microsoft.com/services/kubernetes-service/&quot;, &quot;href4&quot;: &quot;https://studio.azureml.net/&quot;, &quot;name1&quot;: &quot;devops&quot;, &quot;name2&quot;: &quot;functions&quot;, &quot;name3&quot;: &quot;ak8ss&quot;, &quot;name4&quot;: &quot;ml studio&quot;, &quot;title1&quot;: &quot;Azure DevOps&quot;, &quot;title2&quot;: &quot;Azure Functions&quot;, &quot;title3&quot;: &quot;Azure Kubernetes Service (AKS)&quot;, &quot;title4&quot;: &quot;Azure Machine Learning Studio&quot;}, {&quot;pre1&quot;: &quot; &quot;, &quot;pre2&quot;: &quot;ㅤㅤㅤㅤ&quot;, &quot;href1&quot;: &quot;https://azure.microsoft.com/services/active-directory/&quot;, &quot;href2&quot;: &quot;https://developer.microsoft.com/graph/&quot;, &quot;name1&quot;: &quot;identity platform&quot;, &quot;name2&quot;: &quot;graph&quot;, &quot;title1&quot;: &quot;Microsoft Identity Platform&quot;, &quot;title2&quot;: &quot;Microsoft Graph&quot;}, {&quot;label&quot;: &quot;-&quot;}, {&quot;pre1&quot;: &quot;~  power   &quot;, &quot;href1&quot;: &quot;https://docs.microsoft.com/powershell/&quot;, &quot;href2&quot;: &quot;https://powerapps.microsoft.com/&quot;, &quot;href3&quot;: &quot;https://flow.microsoft.com/&quot;, &quot;href4&quot;: &quot;https://powerbi.microsoft.com/&quot;, &quot;name1&quot;: &quot;shell&quot;, &quot;name2&quot;: &quot;apps&quot;, &quot;name3&quot;: &quot;automate&quot;, &quot;name4&quot;: &quot;bi&quot;, &quot;post1&quot;: &quot; &quot;, &quot;post2&quot;: &quot; &quot;, &quot;post3&quot;: &quot; &quot;, &quot;title1&quot;: &quot;PowerShell&quot;, &quot;title2&quot;: &quot;Power Apps&quot;, &quot;title3&quot;: &quot;Power Automate&quot;, &quot;title4&quot;: &quot;Power BI&quot;}, {&quot;pre1&quot;: &quot;ㅤ&quot;}, {&quot;name1&quot;: &quot; &quot;}], &quot;title&quot;: &quot;microsoft&quot;}</td><td>postgres</td><td>2024-09-02 11:53:07.199695</td></tr>",
                            "<tr><td>7</td><td>devtools</td><td>{&quot;name&quot;: &quot;devtools&quot;, &quot;href1&quot;: &quot;https://stackshare.io/tools&quot;, &quot;href2&quot;: &quot;*/settings&quot;, &quot;links&quot;: [{&quot;pre1&quot;: &quot;    &quot;, &quot;href1&quot;: &quot;https://book.git-scm.com/book/en/v2&quot;, &quot;href2&quot;: &quot;https://gist.github.com/codemarc/7e3c37a880e679f8fa310f67cdb29a85&quot;, &quot;href3&quot;: &quot;https://gist.github.com/&quot;, &quot;href4&quot;: &quot;hrefhttps://resources.github.com/github-insider/practitioner/4&quot;, &quot;name1&quot;: &quot;book&quot;, &quot;name2&quot;: &quot;cheats&quot;, &quot;name3&quot;: &quot;gists&quot;, &quot;name4&quot;: &quot;insider&quot;, &quot;post1&quot;: &quot; | &quot;, &quot;post2&quot;: &quot; | &quot;, &quot;post3&quot;: &quot; | &quot;}, {&quot;pre1&quot;: &quot;  &quot;, &quot;href1&quot;: &quot;https://tableconvert.com/&quot;, &quot;href2&quot;: &quot;https://mui.com/material-ui/all-components/&quot;, &quot;href3&quot;: &quot;https://jwt.io/#algorithm-select&quot;, &quot;href4&quot;: &quot;https://compart.com/en/unicode&quot;, &quot;name1&quot;: &quot;tables&quot;, &quot;name2&quot;: &quot;mui&quot;, &quot;name3&quot;: &quot;jwt&quot;, &quot;name4&quot;: &quot;unicode&quot;, &quot;post1&quot;: &quot; | &quot;, &quot;post2&quot;: &quot;      | &quot;, &quot;post3&quot;: &quot;     | &quot;}, {&quot;pre1&quot;: &quot;       &quot;, &quot;href1&quot;: &quot;https://roadmap.sh/&quot;, &quot;href2&quot;: &quot;https://devhints.io/bash&quot;, &quot;href3&quot;: &quot;https://htmlcheatsheet.com/css/&quot;, &quot;href4&quot;: &quot;https://codemarc.net/report.html&quot;, &quot;name1&quot;: &quot;roadmap&quot;, &quot;name2&quot;: &quot;bash&quot;, &quot;name3&quot;: &quot;css&quot;, &quot;name4&quot;: &quot;rpt&quot;, &quot;post1&quot;: &quot;  &quot;, &quot;post2&quot;: &quot;  &quot;, &quot;post3&quot;: &quot;  &quot;}, {&quot;label&quot;: &quot;-&quot;}, {&quot;pre1&quot;: &quot;   &quot;, &quot;href1&quot;: &quot;https://www.postman.com/&quot;, &quot;href2&quot;: &quot;https://www.sonarqube.org/&quot;, &quot;href3&quot;: &quot;https://goaccess.io/&quot;, &quot;name1&quot;: &quot;postman&quot;, &quot;name2&quot;: &quot;sonarqube&quot;, &quot;name3&quot;: &quot;goaccess&quot;, &quot;post1&quot;: &quot;  &quot;, &quot;post2&quot;: &quot;  &quot;, &quot;post3&quot;: &quot;  &quot;}, {&quot;pre1&quot;: &quot;   &quot;, &quot;href1&quot;: &quot;https://www.rabbitmq.com/&quot;, &quot;href2&quot;: &quot;https://zeromq.org/&quot;, &quot;href3&quot;: &quot;https://supabase.com/dashboard/projects&quot;, &quot;name1&quot;: &quot;rabbitmq&quot;, &quot;name2&quot;: &quot;zeromq&quot;, &quot;name3&quot;: &quot;suprabase&quot;, &quot;post1&quot;: &quot;   &quot;, &quot;post2&quot;: &quot;     &quot;, &quot;post3&quot;: &quot;   &quot;}, {&quot;name1&quot;: &quot;ㅤ&quot;}, {&quot;name1&quot;: &quot;ㅤ&quot;}, {&quot;name1&quot;: &quot;ㅤ&quot;}, {&quot;name1&quot;: &quot;ㅤ&quot;}], &quot;title&quot;: &quot;devtools&quot;}</td><td>postgres</td><td>2024-09-02 11:53:07.199695</td></tr>",
                            "<tr><td>8</td><td>fintech</td><td>{&quot;name&quot;: &quot;fintech&quot;, &quot;href2&quot;: &quot;*/settings&quot;, &quot;links&quot;: [{&quot;pre1&quot;: &quot;ㅤ&quot;, &quot;pre2&quot;: &quot;ㅤ&quot;, &quot;pre3&quot;: &quot; &quot;, &quot;href1&quot;: &quot;https://finance.yahoo.com&quot;, &quot;href2&quot;: &quot;https://www.google.com/finance&quot;, &quot;href3&quot;: &quot;https://seekingalpha.com&quot;, &quot;name1&quot;: &quot;yahoo&quot;, &quot;name2&quot;: &quot;google&quot;, &quot;name3&quot;: &quot;seeking alpha&quot;, &quot;title1&quot;: &quot;Market data, news, and more.&quot;, &quot;title2&quot;: &quot;Aggregates financial news and market data from multiple sources.&quot;, &quot;title3&quot;: &quot;Crowd-sourced financial content service. In-depth analysis and market commentary.&quot;}, {&quot;pre1&quot;: &quot;ㅤ&quot;, &quot;pre2&quot;: &quot;ㅤ&quot;, &quot;pre3&quot;: &quot; &quot;, &quot;href1&quot;: &quot;https://www.bloomberg.com&quot;, &quot;href2&quot;: &quot;https://www.marketwatch.com&quot;, &quot;href3&quot;: &quot;https://www.wsj.com&quot;, &quot;name1&quot;: &quot;bloomberg&quot;, &quot;name2&quot;: &quot;marketwatch&quot;, &quot;name3&quot;: &quot;wsj&quot;, &quot;title1&quot;: &quot;Extensive financial news, data, and analysis.Comprehensive financial coverage.&quot;, &quot;title2&quot;: &quot;Breaking news and stock market updates.&quot;, &quot;title3&quot;: &quot;Comprehensive financial news.&quot;}, {&quot;pre1&quot;: &quot;ㅤ&quot;, &quot;href1&quot;: &quot;https://www.reuters.com/finance&quot;, &quot;href2&quot;: &quot;https://www.investing.com&quot;, &quot;href3&quot;: &quot;https://nasdaq.com&quot;, &quot;name1&quot;: &quot;reuters&quot;, &quot;name2&quot;: &quot;investing.com&quot;, &quot;name3&quot;: &quot;nasdaq&quot;, &quot;title1&quot;: &quot;Global financial coverage.&quot;, &quot;title2&quot;: &quot;Real-time financial data and tools.&quot;, &quot;title3&quot;: &quot;nasdaq market site&quot;}, {&quot;pre1&quot;: &quot;ㅤ&quot;}, {&quot;pre1&quot;: &quot;ㅤ&quot;}, {&quot;href1&quot;: &quot;https://finviz.com/&quot;, &quot;name1&quot;: &quot;-finviz&quot;}, {&quot;pre1&quot;: &quot;     &quot;, &quot;href1&quot;: &quot;https://client.schwab.com/app/accounts/positions/#/&quot;, &quot;href2&quot;: &quot;https://digital.fidelity.com/prgw/digital/login/full-page&quot;, &quot;href3&quot;: &quot;https://robinhood.com/login/&quot;, &quot;name1&quot;: &quot;schwab&quot;, &quot;name2&quot;: &quot;fidelity&quot;, &quot;name3&quot;: &quot;robinhood&quot;, &quot;post1&quot;: &quot;      &quot;, &quot;post2&quot;: &quot;ㅤ&quot;, &quot;post3&quot;: &quot;ㅤ&quot;}, {&quot;pre1&quot;: &quot;     &quot;, &quot;href1&quot;: &quot;https://www.yieldmaxetfs.com/&quot;, &quot;href2&quot;: &quot;https://www.cnbc.com/live-tv/?trknav=navigation:shows:watchlive:103620081&quot;, &quot;href3&quot;: &quot;https://www.cnn.com/markets&quot;, &quot;name1&quot;: &quot;yieldmax&quot;, &quot;name2&quot;: &quot;cnbc&quot;, &quot;name3&quot;: &quot;cnn mkts&quot;, &quot;post1&quot;: &quot;      &quot;, &quot;post2&quot;: &quot;ㅤ&quot;, &quot;post3&quot;: &quot;ㅤ&quot;}, {&quot;pre1&quot;: &quot;ㅤ&quot;}, {&quot;pre1&quot;: &quot;ㅤ&quot;}, {&quot;pre1&quot;: &quot;ㅤ&quot;}], &quot;title&quot;: &quot;financial news / data&quot;}</td><td>postgres</td><td>2024-09-02 11:53:07.199695</td></tr>",
                            "<tr><td>9</td><td>genai</td><td>{&quot;name&quot;: &quot;genai&quot;, &quot;href1&quot;: &quot;https://venturebeat.com/category/ai/&quot;, &quot;href2&quot;: &quot;*/settings&quot;, &quot;links&quot;: [{&quot;pre1&quot;: &quot; &quot;, &quot;href1&quot;: &quot;https://chat.openai.com/&quot;, &quot;href2&quot;: &quot;https://claude.ai/chats&quot;, &quot;href3&quot;: &quot;https://gemini.google.com/&quot;, &quot;href4&quot;: &quot;https://www.perplexity.ai/&quot;, &quot;name1&quot;: &quot;chatgpt&quot;, &quot;name2&quot;: &quot;claude&quot;, &quot;name3&quot;: &quot;gemini&quot;, &quot;name4&quot;: &quot;perplexity&quot;, &quot;title1&quot;: &quot;OpenAI&#39;s ChatGPT&quot;, &quot;title2&quot;: &quot;Anthropic&#39;s Claude&quot;, &quot;title3&quot;: &quot;Google&#39;s Gemini&quot;, &quot;title4&quot;: &quot;Perplexity AI Search&quot;}, {&quot;pre1&quot;: &quot;  &quot;, &quot;href1&quot;: &quot;https://www.meta.ai/&quot;, &quot;href2&quot;: &quot;https://huggingface.co/&quot;, &quot;href3&quot;: &quot;https://x.ai/&quot;, &quot;name1&quot;: &quot;meta.ai&quot;, &quot;name2&quot;: &quot;hugging face&quot;, &quot;name3&quot;: &quot;x.ai&quot;, &quot;title1&quot;: &quot;Meta&#39;s AI Research&quot;, &quot;title2&quot;: &quot;Hugging Face AI Community&quot;, &quot;title3&quot;: &quot;x.ai&quot;}, {&quot;name1&quot;: &quot;-art/image&quot;}, {&quot;pre1&quot;: &quot; &quot;, &quot;href1&quot;: &quot;https://openai.com/dall-e-2&quot;, &quot;href2&quot;: &quot;https://www.midjourney.com/&quot;, &quot;href3&quot;: &quot;https://stability.ai/&quot;, &quot;name1&quot;: &quot;dall-e&quot;, &quot;name2&quot;: &quot;midjourney&quot;, &quot;name3&quot;: &quot;stable diffusion&quot;, &quot;title1&quot;: &quot;OpenAI&#39;s DALL-E, generates highly realistic and creative images from text descriptions. Known for its versatility and ability to understand complex prompts. Offers editing features like inpainting and outpainting.&quot;, &quot;title2&quot;: &quot;Midjourney AI Art. Produces high-quality, artistic images from text prompts. Known for its distinctive aesthetic, often described as painterly or illustrative. Operates primarily through a Discord bot interface. Offers various style options and aspect ratios&quot;, &quot;title3&quot;: &quot;Stability AI&#39;s Stable Diffusion, Open-source image generation model. Can run locally on consumer hardware, unlike many cloud-based alternatives. Highly customizable with a large community creating custom models and implementations. Capable of various tasks including text-to-image, image-to-image, and inpainting&quot;}, {&quot;pre1&quot;: &quot;  &quot;, &quot;href1&quot;: &quot;https://runwayml.com/&quot;, &quot;href2&quot;: &quot;https://www.d-id.com/creative-reality-studio/&quot;, &quot;href3&quot;: &quot;https://designer.microsoft.com/&quot;, &quot;name1&quot;: &quot;runwayml&quot;, &quot;name2&quot;: &quot;digital-id&quot;, &quot;name3&quot;: &quot;designer&quot;, &quot;title1&quot;: &quot;Runway AI Video Editor - Offers AI-powered video editing and generation. Known for text-to-video capabilities and advanced editing features&quot;, &quot;title2&quot;: &quot;Specializes in creating talking head videos from still images. Offers realistic lip-sync and facial animations&quot;, &quot;title3&quot;: &quot;Microsoft&quot;}, {&quot;name1&quot;: &quot;- coding  &quot;}, {&quot;pre1&quot;: &quot; &quot;, &quot;href1&quot;: &quot;https://github.com/features/copilot&quot;, &quot;href2&quot;: &quot;https://aws.amazon.com/codeguru/code-whisperer/&quot;, &quot;href3&quot;: &quot;https://sourcegraph.com/search&quot;, &quot;name1&quot;: &quot;copilot&quot;, &quot;name2&quot;: &quot;codewhisperer&quot;, &quot;name3&quot;: &quot;sourcegraph&quot;, &quot;title1&quot;: &quot;GitHub Copilot&quot;, &quot;title2&quot;: &quot;Amazon CodeWhisperer - integrated with AWS services&quot;}, {&quot;pre1&quot;: &quot;~  lamatic   &quot;, &quot;href1&quot;: &quot;https://lamatic.ai/docs&quot;, &quot;href2&quot;: &quot;https://studio.lamatic.ai/&quot;, &quot;name1&quot;: &quot;docs&quot;, &quot;name2&quot;: &quot;studio&quot;, &quot;post1&quot;: &quot;  &quot;, &quot;post2&quot;: &quot; &quot;, &quot;post3&quot;: &quot; &quot;}, {&quot;pre1&quot;: &quot;ㅤ&quot;}], &quot;title&quot;: &quot;genai / tools&quot;}</td><td>postgres</td><td>2024-09-02 11:53:07.199695</td></tr>",
                            "<tr><td>10</td><td>goog</td><td>{&quot;name&quot;: &quot;goog&quot;, &quot;href1&quot;: &quot;https://developers.google.com/&quot;, &quot;href2&quot;: &quot;*/settings&quot;, &quot;links&quot;: [{&quot;pre1&quot;: &quot;ㅤ&quot;, &quot;href1&quot;: &quot;https://console.cloud.google.com/&quot;, &quot;href2&quot;: &quot;https://cloud.google.com/compute&quot;, &quot;href3&quot;: &quot;https://cloud.google.com/appengine&quot;, &quot;href4&quot;: &quot;https://cloud.google.com/functions&quot;, &quot;name1&quot;: &quot;cloud console&quot;, &quot;name2&quot;: &quot;compute engine&quot;, &quot;name3&quot;: &quot;app engine&quot;, &quot;name4&quot;: &quot;cloud functions&quot;, &quot;title1&quot;: &quot;Google Cloud Console&quot;, &quot;title2&quot;: &quot;Google Compute Engine&quot;, &quot;title3&quot;: &quot;Google App Engine&quot;, &quot;title4&quot;: &quot;Google Cloud Functions&quot;}, {&quot;name1&quot;: &quot;ㅤ&quot;}, {&quot;name1&quot;: &quot;ㅤ&quot;}, {&quot;name1&quot;: &quot;ㅤ&quot;}, {&quot;name1&quot;: &quot;ㅤ&quot;}, {&quot;name1&quot;: &quot;ㅤ&quot;}, {&quot;name1&quot;: &quot;ㅤ&quot;}, {&quot;name1&quot;: &quot;ㅤ&quot;}], &quot;title&quot;: &quot;google&quot;}</td><td>postgres</td><td>2024-09-02 11:53:07.199695</td></tr>",
                            "<tr><td>11</td><td>house</td><td>{&quot;name&quot;: &quot;house&quot;, &quot;href1&quot;: &quot;https://home.nest.com/home&quot;, &quot;href2&quot;: &quot;*/settings&quot;, &quot;links&quot;: [{&quot;pre1&quot;: &quot;      &quot;, &quot;href1&quot;: &quot;https://www.flagstar.com/myloans/login&quot;, &quot;href2&quot;: &quot;https://portal.campbellproperty.com/dashboard&quot;, &quot;href3&quot;: &quot;https://www.miznercountryclub.org/&quot;, &quot;name1&quot;: &quot;flagstar&quot;, &quot;name2&quot;: &quot;campbell&quot;, &quot;name3&quot;: &quot;mizner cc&quot;, &quot;post1&quot;: &quot; &quot;, &quot;post2&quot;: &quot; &quot;, &quot;post3&quot;: &quot; &quot;, &quot;title1&quot;: &quot;mortgage&quot;, &quot;title2&quot;: &quot;hoa property manager&quot;, &quot;title3&quot;: &quot;mizner&quot;}, {&quot;pre1&quot;: &quot;   &quot;, &quot;href1&quot;: &quot;https://www.fpl.com/&quot;, &quot;href2&quot;: &quot;https://ebill.pbcwater.com/Security/loginui.aspx&quot;, &quot;href3&quot;: &quot;https://customer.xfinity.com/&quot;, &quot;href4&quot;: &quot;http://my.verizon.com/&quot;, &quot;name1&quot;: &quot;fpl&quot;, &quot;name2&quot;: &quot;water&quot;, &quot;name3&quot;: &quot;xfinity&quot;, &quot;name4&quot;: &quot;verizon&quot;, &quot;post1&quot;: &quot;    &quot;, &quot;post2&quot;: &quot;    &quot;, &quot;post3&quot;: &quot;    &quot;, &quot;title1&quot;: &quot;florida power and light&quot;, &quot;title2&quot;: &quot;palm beach county water&quot;}, {&quot;pre1&quot;: &quot; &quot;}, {&quot;pre1&quot;: &quot; &quot;}, {&quot;pre1&quot;: &quot; &quot;}, {&quot;href1&quot;: &quot;https://studentaid.gov/h/apply-for-aid/fafsa&quot;, &quot;name1&quot;: &quot;-education&quot;}, {&quot;pre1&quot;: &quot; ㅤ&quot;, &quot;href1&quot;: &quot;https://one.uf.edu/&quot;, &quot;href2&quot;: &quot;https://www.billhighway.com/aph/forChapters/v2/login.aspx&quot;, &quot;href3&quot;: &quot;https://myaccount.gru.com&quot;, &quot;href4&quot;: &quot;https://trimarkp.twa.rentmanager.com/Shared/Login&quot;, &quot;name1&quot;: &quot;one.uf&quot;, &quot;name2&quot;: &quot;dpe&quot;, &quot;name3&quot;: &quot;gru&quot;, &quot;name4&quot;: &quot;trimark&quot;, &quot;post1&quot;: &quot;ㅤ&quot;, &quot;post2&quot;: &quot;ㅤ&quot;, &quot;post3&quot;: &quot;ㅤ&quot;}, {&quot;pre1&quot;: &quot; ㅤ&quot;, &quot;href1&quot;: &quot;https://nelnet.studentaid.gov/welcome&quot;, &quot;href2&quot;: &quot;https://aidvantage.studentaid.gov/&quot;, &quot;href3&quot;: &quot;https://www.salliemae.com/login/&quot;, &quot;name1&quot;: &quot;nelnet&quot;, &quot;name2&quot;: &quot;aidvantage&quot;, &quot;name3&quot;: &quot;salliemae&quot;, &quot;post1&quot;: &quot;ㅤ&quot;, &quot;post2&quot;: &quot;ㅤ&quot;, &quot;post3&quot;: &quot;ㅤ&quot;}, {&quot;pre1&quot;: &quot; &quot;}], &quot;title&quot;: &quot;household / credit&quot;}</td><td>postgres</td><td>2024-09-02 11:53:07.199695</td></tr>",
                            "<tr><td>13</td><td>services</td><td>{&quot;name&quot;: &quot;services&quot;, &quot;href1&quot;: &quot;https://codemarc.net/doc/gridsvcs/#/&quot;, &quot;href2&quot;: &quot;*/settings&quot;, &quot;links&quot;: [{&quot;pre1&quot;: &quot;     gridsvcs:      &quot;, &quot;href1&quot;: &quot;http://localhost:3000/v1/api-docs/&quot;, &quot;href2&quot;: &quot;https://codemarc.net/api/v1/api-docs/&quot;, &quot;href3&quot;: &quot;http://localhost:3000/v1/api-docs/&quot;, &quot;name1&quot;: &quot;dev&quot;, &quot;name2&quot;: &quot;test&quot;, &quot;name3&quot;: &quot;prod&quot;, &quot;post1&quot;: &quot;  &quot;, &quot;post2&quot;: &quot;  &quot;}, {&quot;pre1&quot;: &quot;&quot;}, {&quot;pre1&quot;: &quot;~  deployments&quot;}, {&quot;pre1&quot;: &quot;       dev:     &quot;, &quot;href1&quot;: &quot;http://localhost:3000/v1/motd/status&quot;, &quot;href2&quot;: &quot;http://localhost:3000/v1/motd/quotes&quot;, &quot;href3&quot;: &quot;http://localhost:3000/v1/motd/topics&quot;, &quot;name1&quot;: &quot;status&quot;, &quot;name2&quot;: &quot;quotes&quot;, &quot;name3&quot;: &quot;topics&quot;, &quot;post1&quot;: &quot; |&quot;, &quot;post2&quot;: &quot; |&quot;}, {&quot;pre1&quot;: &quot;      test:     &quot;, &quot;href1&quot;: &quot;https://codemarc.net/api/v1/motd/status&quot;, &quot;href2&quot;: &quot;https://codemarc.net/api/v1/motd/quotes&quot;, &quot;href3&quot;: &quot;http://codemarc.net/api/v1/motd/topics&quot;, &quot;name1&quot;: &quot;status&quot;, &quot;name2&quot;: &quot;quotes&quot;, &quot;name3&quot;: &quot;topics&quot;, &quot;post1&quot;: &quot; |&quot;, &quot;post2&quot;: &quot; |&quot;}, {&quot;pre1&quot;: &quot;      prod:    &quot;, &quot;href1&quot;: &quot;http://localhost:3000/v1/motd/status&quot;, &quot;href2&quot;: &quot;http://localhost:3000/v1/motd/quotes&quot;, &quot;href3&quot;: &quot;http://localhost:3000/v1/motd/topics&quot;, &quot;name1&quot;: &quot;status&quot;, &quot;name2&quot;: &quot;quotes&quot;, &quot;name3&quot;: &quot;topics&quot;, &quot;post1&quot;: &quot; |&quot;, &quot;post2&quot;: &quot; |&quot;}, {&quot;pre1&quot;: &quot;&quot;}, {&quot;pre1&quot;: &quot;~  projects&quot;}, {&quot;pre1&quot;: &quot;ㅤ&quot;, &quot;href1&quot;: &quot;https://github.com/users/codemarc/projects/6&quot;, &quot;href2&quot;: &quot;https://github.com/users/codemarc/projects/5&quot;, &quot;name1&quot;: &quot;gridlinks&quot;, &quot;name2&quot;: &quot;gridsvcs&quot;, &quot;post1&quot;: &quot;ㅤ&quot;, &quot;post2&quot;: &quot;ㅤ&quot;, &quot;post3&quot;: &quot;ㅤ&quot;}, {&quot;pre1&quot;: &quot;ㅤ&quot;}, {&quot;pre1&quot;: &quot;ㅤ&quot;}, {&quot;pre1&quot;: &quot;ㅤ&quot;}], &quot;title&quot;: &quot;services&quot;}</td><td>postgres</td><td>2024-09-02 11:53:07.199695</td></tr>",
                            "<tr><td>14</td><td>shopify</td><td>{&quot;name&quot;: &quot;shopify&quot;, &quot;href1&quot;: &quot;https://www.shopify.com/&quot;, &quot;href2&quot;: &quot;https://www.shopifystatus.com/&quot;, &quot;links&quot;: [{&quot;pre1&quot;: &quot; &quot;, &quot;pre2&quot;: &quot;ㅤ🐶ㅤ&quot;, &quot;href1&quot;: &quot;http://puppyleo.com&quot;, &quot;href2&quot;: &quot;https://admin.shopify.com/&quot;, &quot;name1&quot;: &quot;the puppy leo shop&quot;, &quot;name2&quot;: &quot;admin&quot;}, {&quot;pre1&quot;: &quot;ㅤ&quot;, &quot;pre2&quot;: &quot;ㅤ&quot;, &quot;pre3&quot;: &quot;ㅤ&quot;, &quot;pre4&quot;: &quot;ㅤ&quot;, &quot;href1&quot;: &quot;https://app.zendrop.com/dashboard&quot;, &quot;href2&quot;: &quot;https://www.cjdropshipping.com/&quot;, &quot;href3&quot;: &quot;https://www.shineon.com/\\&quot;&quot;, &quot;href4&quot;: &quot;https://www.printful.com/&quot;, &quot;name1&quot;: &quot;zendrop&quot;, &quot;name2&quot;: &quot;cj&quot;, &quot;name3&quot;: &quot;shineon&quot;, &quot;name4&quot;: &quot;printful&quot;}, {&quot;pre1&quot;: &quot;ㅤㅤ&quot;, &quot;pre2&quot;: &quot;ㅤ&quot;, &quot;href1&quot;: &quot;https://www.shopify.com/editions/summer2024&quot;, &quot;href2&quot;: &quot;https://shopify.dev/changelog&quot;, &quot;name1&quot;: &quot;summer 2024&quot;, &quot;name2&quot;: &quot;changelog&quot;}, {&quot;href1&quot;: &quot;https://shopify.github.io&quot;, &quot;href2&quot;: &quot;https://shopify.dev/&quot;, &quot;href3&quot;: &quot;https://apps.shopify.com/&quot;, &quot;href4&quot;: &quot;https://community.shopify.com/c/shopify-community/ct-p/en&quot;, &quot;name1&quot;: &quot;  src  &quot;, &quot;name2&quot;: &quot;  dev  &quot;, &quot;name3&quot;: &quot;apps&quot;, &quot;name4&quot;: &quot;community&quot;, &quot;post1&quot;: &quot;  ◦  &quot;, &quot;post2&quot;: &quot;  ◦  &quot;, &quot;post3&quot;: &quot; ◦ &quot;, &quot;title3&quot;: &quot;Shopify App Store&quot;, &quot;title4&quot;: &quot;Shopify Community Forums&quot;}, {&quot;pre1&quot;: &quot;ㅤ&quot;, &quot;pre2&quot;: &quot;  &quot;, &quot;pre3&quot;: &quot;  &quot;, &quot;pre4&quot;: &quot;  &quot;, &quot;href1&quot;: &quot;https://shopify.dev/api&quot;, &quot;href2&quot;: &quot;https://polaris.shopify.com/&quot;, &quot;href3&quot;: &quot;https://help.shopify.com/en/partners&quot;, &quot;href4&quot;: &quot;https://www.shopify.com/partners/academy&quot;, &quot;name1&quot;: &quot;api&quot;, &quot;name2&quot;: &quot;polaris&quot;, &quot;name3&quot;: &quot;partners&quot;, &quot;name4&quot;: &quot;academy&quot;, &quot;title1&quot;: &quot;Shopify API Reference&quot;, &quot;title2&quot;: &quot;Shopify Polaris - React Components&quot;, &quot;title4&quot;: &quot;Shopify Partner Academy&quot;}, {&quot;pre1&quot;: &quot; &quot;, &quot;href1&quot;: &quot;https://shopify.github.io/themekit/&quot;, &quot;href2&quot;: &quot;https://shopify.dev/tools/app-bridge&quot;, &quot;href3&quot;: &quot;https://shopify.dev/apps/auth/oauth&quot;, &quot;href4&quot;: &quot;https://buffer.com/library/social-media-sites/#20-tumblr-%E2%80%94-135-million-maus&quot;, &quot;name1&quot;: &quot;themekit&quot;, &quot;name2&quot;: &quot;bridge&quot;, &quot;name3&quot;: &quot;authflow&quot;, &quot;name4&quot;: &quot;social&quot;, &quot;post1&quot;: &quot;|&quot;, &quot;post2&quot;: &quot;|&quot;, &quot;post3&quot;: &quot;|&quot;, &quot;title1&quot;: &quot;Shopify Theme Kit&quot;, &quot;title2&quot;: &quot;Shopify App Bridge&quot;, &quot;title3&quot;: &quot;Implementing OAuth for Shopify Apps&quot;, &quot;title4&quot;: &quot;buffer.com Buffer helps you build an audience organically. We’re a values-driven company that provides affordable, intuitive marketing tools for ambitious people and teams.&quot;}, {&quot;href1&quot;: &quot;https://shopify.dev/themes/architecture&quot;, &quot;href2&quot;: &quot;https://shopify.dev/themes/architecture/templates&quot;, &quot;href3&quot;: &quot;https://shopify.dev/themes/architecture/sections&quot;, &quot;href4&quot;: &quot;https://shopify.dev/themes/tools/theme-inspector&quot;, &quot;name1&quot;: &quot;arch&quot;, &quot;name2&quot;: &quot;templates&quot;, &quot;name3&quot;: &quot;sections&quot;, &quot;name4&quot;: &quot;inspector&quot;, &quot;post1&quot;: &quot;|&quot;, &quot;post2&quot;: &quot;|&quot;, &quot;post3&quot;: &quot;|&quot;, &quot;title1&quot;: &quot;Shopify Theme Architecture&quot;, &quot;title2&quot;: &quot;Shopify Theme Templates&quot;, &quot;title3&quot;: &quot;Shopify Theme Sections&quot;, &quot;title4&quot;: &quot;Shopify Theme Inspector for Chrome&quot;}, {&quot;href&quot;: &quot;https://github.com/Shopify/shopify-node-api&quot;, &quot;pre1&quot;: &quot;ㅤㅤ&quot;, &quot;href2&quot;: &quot;https://themes.shopify.com/&quot;, &quot;href3&quot;: &quot;https://exchange.shopify.com/&quot;, &quot;name1&quot;: &quot;nodesdk&quot;, &quot;name2&quot;: &quot;store&quot;, &quot;name3&quot;: &quot;exchange&quot;, &quot;post1&quot;: &quot;✫&quot;, &quot;post2&quot;: &quot;✫&quot;, &quot;title3&quot;: &quot;Shopify Exchange Marketplace&quot;}, {&quot;name1&quot;: &quot;ㅤ&quot;}], &quot;title&quot;: &quot;shopify&quot;, &quot;title2&quot;: &quot;status&quot;}</td><td>postgres</td><td>2024-09-02 11:53:07.199695</td></tr>",
                            "<tr><td>15</td><td>stream</td><td>{&quot;name&quot;: &quot;stream&quot;, &quot;href1&quot;: &quot;https://www.xfinity.com/stream/&quot;, &quot;href2&quot;: &quot;*/settings&quot;, &quot;links&quot;: [{&quot;pre1&quot;: &quot;    &quot;, &quot;href1&quot;: &quot;https://alexa.amazon.com/&quot;, &quot;href2&quot;: &quot;https://amazon.com/&quot;, &quot;href3&quot;: &quot;https://www.amazon.com/Amazon-Video/b/?ie=UTF8&amp;node=2858778011&amp;ref_=nav_dvm_us_eg_cs_nav_rec_T1&quot;, &quot;href4&quot;: &quot;https://music.amazon.com/&quot;, &quot;name1&quot;: &quot;alexa&quot;, &quot;name2&quot;: &quot;prime&quot;, &quot;name3&quot;: &quot;video&quot;, &quot;name4&quot;: &quot;music&quot;, &quot;post1&quot;: &quot;✫&quot;, &quot;post2&quot;: &quot;✫&quot;, &quot;post3&quot;: &quot;✫&quot;}, {&quot;pre1&quot;: &quot;   &quot;, &quot;href1&quot;: &quot;https://www.audible.com/&quot;, &quot;href2&quot;: &quot;https://www.twitch.tv/&quot;, &quot;href3&quot;: &quot;https://www.imdb.com/&quot;, &quot;href4&quot;: &quot;https://www.amazon.com/kindle-dbs/fd/kcp&quot;, &quot;name1&quot;: &quot;audible&quot;, &quot;name2&quot;: &quot;twitch&quot;, &quot;name3&quot;: &quot;imdb&quot;, &quot;name4&quot;: &quot;kindle&quot;, &quot;post1&quot;: &quot; | &quot;, &quot;post2&quot;: &quot; | &quot;, &quot;post3&quot;: &quot; | &quot;, &quot;title1&quot;: &quot;Audible&quot;, &quot;title2&quot;: &quot;Twitch&quot;, &quot;title3&quot;: &quot;IMDb&quot;, &quot;title4&quot;: &quot;Kindle Direct Publishing&quot;}, {&quot;pre1&quot;: &quot; &quot;, &quot;href1&quot;: &quot;https://www.xfinity.com/stream/&quot;, &quot;href2&quot;: &quot;https://www.netflix.com/&quot;, &quot;href3&quot;: &quot;https://hbomax.com/&quot;, &quot;href4&quot;: &quot;http://peacock.tv/&quot;, &quot;name1&quot;: &quot;xfinity&quot;, &quot;name2&quot;: &quot;netflix&quot;, &quot;name3&quot;: &quot;hbomax&quot;, &quot;name4&quot;: &quot;peacock&quot;, &quot;post1&quot;: &quot;  &quot;, &quot;post2&quot;: &quot;  &quot;, &quot;post3&quot;: &quot;  &quot;}, {&quot;pre1&quot;: &quot;      &quot;, &quot;href1&quot;: &quot;https://www.youtube.com/&quot;, &quot;href2&quot;: &quot;https://music.apple.com/&quot;, &quot;href3&quot;: &quot;https://www.spotify.com/&quot;, &quot;name1&quot;: &quot;youtube&quot;, &quot;name2&quot;: &quot;apple music&quot;, &quot;name3&quot;: &quot;spotify&quot;, &quot;post1&quot;: &quot;  &quot;, &quot;post2&quot;: &quot;  &quot;, &quot;post3&quot;: &quot;  &quot;}, {&quot;pre1&quot;: &quot; &quot;, &quot;href1&quot;: &quot;https://www.shopify.com/editions/summer2024&quot;, &quot;name1&quot;: &quot;-shopify&quot;, &quot;xhref1&quot;: &quot;https://www.shopify.com/&quot;}, {&quot;pre1&quot;: &quot;   &quot;, &quot;href1&quot;: &quot;http://puppyleo.com&quot;, &quot;href2&quot;: &quot;https://admin.shopify.com/&quot;, &quot;name1&quot;: &quot;the puppy leo shop&quot;, &quot;name2&quot;: &quot; 🐶   admin&quot;, &quot;post2&quot;: &quot;  &quot;, &quot;post3&quot;: &quot;  &quot;}, {&quot;pre1&quot;: &quot;      &quot;, &quot;href1&quot;: &quot;https://app.zendrop.com/dashboard&quot;, &quot;href2&quot;: &quot;https://www.cjdropshipping.com/&quot;, &quot;href3&quot;: &quot;https://www.shineon.com/\\&quot;&quot;, &quot;href4&quot;: &quot;https://www.printful.com/&quot;, &quot;name1&quot;: &quot;zendrop&quot;, &quot;name2&quot;: &quot;cj&quot;, &quot;name3&quot;: &quot;shineon&quot;, &quot;name4&quot;: &quot;printful&quot;, &quot;post1&quot;: &quot;  &quot;, &quot;post2&quot;: &quot;  &quot;, &quot;post3&quot;: &quot;  &quot;}, {&quot;pre1&quot;: &quot;           &quot;, &quot;href1&quot;: &quot;https://shopify.github.io&quot;, &quot;href2&quot;: &quot;https://shopify.dev/&quot;, &quot;href3&quot;: &quot;https://apps.shopify.com/&quot;, &quot;href4&quot;: &quot;https://polaris.shopify.com/&quot;, &quot;name1&quot;: &quot;src&quot;, &quot;name2&quot;: &quot;dev&quot;, &quot;name3&quot;: &quot;apps&quot;, &quot;name4&quot;: &quot;polaris&quot;, &quot;post1&quot;: &quot;  &quot;, &quot;post2&quot;: &quot;  &quot;, &quot;post3&quot;: &quot;  &quot;, &quot;title3&quot;: &quot;Shopify App Store&quot;, &quot;title4&quot;: &quot;Shopify Polaris - React Components&quot;}, {&quot;pre1&quot;: &quot;      &quot;, &quot;post1&quot;: &quot;  &quot;, &quot;post2&quot;: &quot;  &quot;, &quot;post3&quot;: &quot;  &quot;}, {&quot;pre1&quot;: &quot;      &quot;, &quot;post1&quot;: &quot;  &quot;, &quot;post2&quot;: &quot;  &quot;, &quot;post3&quot;: &quot;  &quot;}], &quot;title&quot;: &quot;stream / shop&quot;}</td><td>postgres</td><td>2024-09-02 11:53:07.199695</td></tr>",
                            "</table>"
                        ]
                    }
                }
            ],
            "execution_count": 47
        },
        {
            "cell_type": "code",
            "source": [
                "SET search_path TO cmc;\n",
                "select * from users;"
            ],
            "metadata": {
                "azdata_cell_guid": "add9b023-59ad-4881-b2a5-456215c3ee0f",
                "language": "sql"
            },
            "outputs": [
                {
                    "output_type": "display_data",
                    "data": {
                        "text/html": "SET"
                    },
                    "metadata": {}
                },
                {
                    "output_type": "display_data",
                    "data": {
                        "text/html": "(3 row(s) affected)"
                    },
                    "metadata": {}
                },
                {
                    "output_type": "display_data",
                    "data": {
                        "text/html": "Total execution time: 00:00:00.124"
                    },
                    "metadata": {}
                },
                {
                    "output_type": "execute_result",
                    "metadata": {},
                    "execution_count": 48,
                    "data": {
                        "application/vnd.dataresource+json": {
                            "schema": {
                                "fields": [
                                    {
                                        "name": "id"
                                    },
                                    {
                                        "name": "name"
                                    },
                                    {
                                        "name": "role"
                                    },
                                    {
                                        "name": "dbu"
                                    },
                                    {
                                        "name": "created"
                                    }
                                ]
                            },
                            "data": [
                                {
                                    "id": "1",
                                    "name": "unknown",
                                    "role": "user",
                                    "dbu": "postgres",
                                    "created": "2024-09-02 11:53:07.661282"
                                },
                                {
                                    "id": "2",
                                    "name": "codemarc",
                                    "role": "admin",
                                    "dbu": "postgres",
                                    "created": "2024-09-02 11:53:07.661282"
                                },
                                {
                                    "id": "3",
                                    "name": "info",
                                    "role": "user",
                                    "dbu": "postgres",
                                    "created": "2024-09-02 11:53:07.661282"
                                }
                            ]
                        },
                        "text/html": [
                            "<table>",
                            "<tr><th>id</th><th>name</th><th>role</th><th>dbu</th><th>created</th></tr>",
                            "<tr><td>1</td><td>unknown</td><td>user</td><td>postgres</td><td>2024-09-02 11:53:07.661282</td></tr>",
                            "<tr><td>2</td><td>codemarc</td><td>admin</td><td>postgres</td><td>2024-09-02 11:53:07.661282</td></tr>",
                            "<tr><td>3</td><td>info</td><td>user</td><td>postgres</td><td>2024-09-02 11:53:07.661282</td></tr>",
                            "</table>"
                        ]
                    }
                }
            ],
            "execution_count": 48
        },
        {
            "cell_type": "code",
            "source": [
                "SET search_path TO cmc;\n",
                "\n",
                "select * from grids;\n",
                "\n",
                "SELECT\n",
                "    g.gid,\n",
                "    g.name,\n",
                "    (\n",
                "        SELECT json_agg(p.name)\n",
                "        FROM panels p\n",
                "        WHERE p.pid = ANY(ARRAY(SELECT jsonb_array_elements_text(g.panels) :: int))\n",
                "    ) AS panels,\n",
                "    g.dbu,\n",
                "    g.created\n",
                "FROM\n",
                "    grids g;\n",
                ""
            ],
            "metadata": {
                "azdata_cell_guid": "bfbc8a10-32c8-44d1-b0bb-3ceb423a90c2",
                "language": "sql"
            },
            "outputs": [
                {
                    "output_type": "display_data",
                    "data": {
                        "text/html": "SET"
                    },
                    "metadata": {}
                },
                {
                    "output_type": "display_data",
                    "data": {
                        "text/html": "(2 row(s) affected)"
                    },
                    "metadata": {}
                },
                {
                    "output_type": "display_data",
                    "data": {
                        "text/html": "(2 row(s) affected)"
                    },
                    "metadata": {}
                },
                {
                    "output_type": "display_data",
                    "data": {
                        "text/html": "Total execution time: 00:00:00.210"
                    },
                    "metadata": {}
                },
                {
                    "output_type": "execute_result",
                    "metadata": {},
                    "execution_count": 49,
                    "data": {
                        "application/vnd.dataresource+json": {
                            "schema": {
                                "fields": [
                                    {
                                        "name": "gid"
                                    },
                                    {
                                        "name": "name"
                                    },
                                    {
                                        "name": "panels"
                                    },
                                    {
                                        "name": "dbu"
                                    },
                                    {
                                        "name": "created"
                                    }
                                ]
                            },
                            "data": [
                                {
                                    "gid": "1",
                                    "name": "builtin",
                                    "panels": "[5, 7, 9, 6, 12, 1, 10, 2]",
                                    "dbu": "postgres",
                                    "created": "2024-09-02 11:53:07.428556"
                                },
                                {
                                    "gid": "2",
                                    "name": "personal",
                                    "panels": "[5, 8, 3, 11, 9, 4, 13, 15]",
                                    "dbu": "postgres",
                                    "created": "2024-09-02 11:53:07.428556"
                                }
                            ]
                        },
                        "text/html": [
                            "<table>",
                            "<tr><th>gid</th><th>name</th><th>panels</th><th>dbu</th><th>created</th></tr>",
                            "<tr><td>1</td><td>builtin</td><td>[5, 7, 9, 6, 12, 1, 10, 2]</td><td>postgres</td><td>2024-09-02 11:53:07.428556</td></tr>",
                            "<tr><td>2</td><td>personal</td><td>[5, 8, 3, 11, 9, 4, 13, 15]</td><td>postgres</td><td>2024-09-02 11:53:07.428556</td></tr>",
                            "</table>"
                        ]
                    }
                },
                {
                    "output_type": "execute_result",
                    "metadata": {},
                    "execution_count": 49,
                    "data": {
                        "application/vnd.dataresource+json": {
                            "schema": {
                                "fields": [
                                    {
                                        "name": "gid"
                                    },
                                    {
                                        "name": "name"
                                    },
                                    {
                                        "name": "panels"
                                    },
                                    {
                                        "name": "dbu"
                                    },
                                    {
                                        "name": "created"
                                    }
                                ]
                            },
                            "data": [
                                {
                                    "gid": "1",
                                    "name": "builtin",
                                    "panels": "[\"amzn\", \"apache\", \"comms\", \"devops\", \"msft\", \"devtools\", \"genai\", \"goog\"]",
                                    "dbu": "postgres",
                                    "created": "2024-09-02 11:53:07.428556"
                                },
                                {
                                    "gid": "2",
                                    "name": "personal",
                                    "panels": "[\"banking\", \"cloud\", \"comms\", \"fintech\", \"genai\", \"house\", \"services\", \"stream\"]",
                                    "dbu": "postgres",
                                    "created": "2024-09-02 11:53:07.428556"
                                }
                            ]
                        },
                        "text/html": [
                            "<table>",
                            "<tr><th>gid</th><th>name</th><th>panels</th><th>dbu</th><th>created</th></tr>",
                            "<tr><td>1</td><td>builtin</td><td>[&quot;amzn&quot;, &quot;apache&quot;, &quot;comms&quot;, &quot;devops&quot;, &quot;msft&quot;, &quot;devtools&quot;, &quot;genai&quot;, &quot;goog&quot;]</td><td>postgres</td><td>2024-09-02 11:53:07.428556</td></tr>",
                            "<tr><td>2</td><td>personal</td><td>[&quot;banking&quot;, &quot;cloud&quot;, &quot;comms&quot;, &quot;fintech&quot;, &quot;genai&quot;, &quot;house&quot;, &quot;services&quot;, &quot;stream&quot;]</td><td>postgres</td><td>2024-09-02 11:53:07.428556</td></tr>",
                            "</table>"
                        ]
                    }
                }
            ],
            "execution_count": 49
        },
        {
            "cell_type": "code",
            "source": [
                "SET search_path TO cmc;\n",
                "\n",
                "select a.ugid\n",
                "    , b.name || '(' || b.id || ')' AS username  \n",
                "    , c.name || '(' || c.gid || ')'as gridname \n",
                "    , a.isactive\n",
                "    , a.dbu\n",
                "    , a.created\n",
                "from usergrids a, users b, grids c \n",
                "where \n",
                "    a.gid = c.gid \n",
                "        AND a.id = b.id;"
            ],
            "metadata": {
                "language": "sql",
                "azdata_cell_guid": "7445e0a2-def5-42c6-ae7c-85ef8eeac0a0",
                "tags": []
            },
            "outputs": [
                {
                    "output_type": "display_data",
                    "data": {
                        "text/html": "SET"
                    },
                    "metadata": {}
                },
                {
                    "output_type": "display_data",
                    "data": {
                        "text/html": "(4 row(s) affected)"
                    },
                    "metadata": {}
                },
                {
                    "output_type": "display_data",
                    "data": {
                        "text/html": "Total execution time: 00:00:00.125"
                    },
                    "metadata": {}
                },
                {
                    "output_type": "execute_result",
                    "metadata": {},
                    "execution_count": 50,
                    "data": {
                        "application/vnd.dataresource+json": {
                            "schema": {
                                "fields": [
                                    {
                                        "name": "ugid"
                                    },
                                    {
                                        "name": "username"
                                    },
                                    {
                                        "name": "gridname"
                                    },
                                    {
                                        "name": "isactive"
                                    },
                                    {
                                        "name": "dbu"
                                    },
                                    {
                                        "name": "created"
                                    }
                                ]
                            },
                            "data": [
                                {
                                    "ugid": "1",
                                    "username": "unknown(1)",
                                    "gridname": "builtin(1)",
                                    "isactive": "False",
                                    "dbu": "postgres",
                                    "created": "2024-09-02 11:53:07.895092"
                                },
                                {
                                    "ugid": "2",
                                    "username": "codemarc(2)",
                                    "gridname": "builtin(1)",
                                    "isactive": "False",
                                    "dbu": "postgres",
                                    "created": "2024-09-02 11:53:07.895092"
                                },
                                {
                                    "ugid": "3",
                                    "username": "codemarc(2)",
                                    "gridname": "personal(2)",
                                    "isactive": "True",
                                    "dbu": "postgres",
                                    "created": "2024-09-02 11:53:07.895092"
                                },
                                {
                                    "ugid": "4",
                                    "username": "info(3)",
                                    "gridname": "builtin(1)",
                                    "isactive": "False",
                                    "dbu": "postgres",
                                    "created": "2024-09-02 11:53:07.895092"
                                }
                            ]
                        },
                        "text/html": [
                            "<table>",
                            "<tr><th>ugid</th><th>username</th><th>gridname</th><th>isactive</th><th>dbu</th><th>created</th></tr>",
                            "<tr><td>1</td><td>unknown(1)</td><td>builtin(1)</td><td>False</td><td>postgres</td><td>2024-09-02 11:53:07.895092</td></tr>",
                            "<tr><td>2</td><td>codemarc(2)</td><td>builtin(1)</td><td>False</td><td>postgres</td><td>2024-09-02 11:53:07.895092</td></tr>",
                            "<tr><td>3</td><td>codemarc(2)</td><td>personal(2)</td><td>True</td><td>postgres</td><td>2024-09-02 11:53:07.895092</td></tr>",
                            "<tr><td>4</td><td>info(3)</td><td>builtin(1)</td><td>False</td><td>postgres</td><td>2024-09-02 11:53:07.895092</td></tr>",
                            "</table>"
                        ]
                    }
                }
            ],
            "execution_count": 50
        },
        {
            "cell_type": "markdown",
            "source": [
                "### Query v1"
            ],
            "metadata": {
                "language": "sql",
                "azdata_cell_guid": "f7ffe4b6-93f5-4247-8235-9556ea2ec192"
            },
            "attachments": {}
        },
        {
            "cell_type": "code",
            "source": [
                "SELECT \n",
                "    u.name AS username,\n",
                "    --COALESCE(json_agg(g.name) FILTER (WHERE ug.isactive = TRUE), '[]'::json ) AS gridset\n",
                "    COALESCE(json_agg(g.name), '[]'::json ) AS gridset\n",
                "FROM \n",
                "    cmc.users u\n",
                "JOIN \n",
                "    cmc.usergrids ug ON u.id = ug.id\n",
                "JOIN \n",
                "    cmc.grids g ON ug.gid = g.gid\n",
                "--WHERE \n",
                "--    u.name='codemarc'\n",
                "GROUP BY \n",
                "    u.id,u.name;"
            ],
            "metadata": {
                "language": "sql",
                "azdata_cell_guid": "0272f136-6349-4be9-8e78-c1ae253e8a00",
                "tags": []
            },
            "outputs": [
                {
                    "output_type": "display_data",
                    "data": {
                        "text/html": "(3 row(s) affected)"
                    },
                    "metadata": {}
                },
                {
                    "output_type": "display_data",
                    "data": {
                        "text/html": "Total execution time: 00:00:00.086"
                    },
                    "metadata": {}
                },
                {
                    "output_type": "execute_result",
                    "metadata": {},
                    "execution_count": 51,
                    "data": {
                        "application/vnd.dataresource+json": {
                            "schema": {
                                "fields": [
                                    {
                                        "name": "username"
                                    },
                                    {
                                        "name": "gridset"
                                    }
                                ]
                            },
                            "data": [
                                {
                                    "username": "info",
                                    "gridset": "[\"builtin\"]"
                                },
                                {
                                    "username": "unknown",
                                    "gridset": "[\"builtin\"]"
                                },
                                {
                                    "username": "codemarc",
                                    "gridset": "[\"builtin\", \"personal\"]"
                                }
                            ]
                        },
                        "text/html": [
                            "<table>",
                            "<tr><th>username</th><th>gridset</th></tr>",
                            "<tr><td>info</td><td>[&quot;builtin&quot;]</td></tr>",
                            "<tr><td>unknown</td><td>[&quot;builtin&quot;]</td></tr>",
                            "<tr><td>codemarc</td><td>[&quot;builtin&quot;, &quot;personal&quot;]</td></tr>",
                            "</table>"
                        ]
                    }
                }
            ],
            "execution_count": 51
        },
        {
            "cell_type": "markdown",
            "source": [
                "### Query v2"
            ],
            "metadata": {
                "language": "sql",
                "azdata_cell_guid": "d6a580f1-c190-4594-b46a-94e7b79e6524"
            },
            "attachments": {}
        },
        {
            "cell_type": "code",
            "source": [
                "SELECT \n",
                "    u.name AS username,\n",
                "    COALESCE(json_agg(g.name) FILTER (WHERE ug.isactive = TRUE), '[]'::json ) AS gridset\n",
                "FROM \n",
                "    cmc.users u\n",
                "JOIN \n",
                "    cmc.usergrids ug ON u.id = ug.id\n",
                "JOIN \n",
                "    cmc.grids g ON ug.gid = g.gid\n",
                "--WHERE \n",
                "--    u.name='codemarc'\n",
                "GROUP BY \n",
                "    u.id,u.name;    "
            ],
            "metadata": {
                "language": "sql",
                "azdata_cell_guid": "93667a10-7a45-40c3-bc03-4678fc218abd"
            },
            "outputs": [
                {
                    "output_type": "display_data",
                    "data": {
                        "text/html": "(3 row(s) affected)"
                    },
                    "metadata": {}
                },
                {
                    "output_type": "display_data",
                    "data": {
                        "text/html": "Total execution time: 00:00:00.130"
                    },
                    "metadata": {}
                },
                {
                    "output_type": "execute_result",
                    "metadata": {},
                    "execution_count": 52,
                    "data": {
                        "application/vnd.dataresource+json": {
                            "schema": {
                                "fields": [
                                    {
                                        "name": "username"
                                    },
                                    {
                                        "name": "gridset"
                                    }
                                ]
                            },
                            "data": [
                                {
                                    "username": "info",
                                    "gridset": "[]"
                                },
                                {
                                    "username": "unknown",
                                    "gridset": "[]"
                                },
                                {
                                    "username": "codemarc",
                                    "gridset": "[\"personal\"]"
                                }
                            ]
                        },
                        "text/html": [
                            "<table>",
                            "<tr><th>username</th><th>gridset</th></tr>",
                            "<tr><td>info</td><td>[]</td></tr>",
                            "<tr><td>unknown</td><td>[]</td></tr>",
                            "<tr><td>codemarc</td><td>[&quot;personal&quot;]</td></tr>",
                            "</table>"
                        ]
                    }
                }
            ],
            "execution_count": 52
        },
        {
            "cell_type": "markdown",
            "source": [
                "### Query v3"
            ],
            "metadata": {
                "language": "sql",
                "azdata_cell_guid": "9b35284a-0b0e-428d-9d93-e388ad337b49"
            },
            "attachments": {}
        },
        {
            "cell_type": "code",
            "source": [
                "SELECT \n",
                "    u.name AS username,\n",
                "    COALESCE(json_agg(g.name) FILTER (WHERE ug.isactive = TRUE), '[]'::json ) AS gridset\n",
                "FROM \n",
                "    cmc.users u\n",
                "JOIN \n",
                "    cmc.usergrids ug ON u.id = ug.id\n",
                "JOIN \n",
                "    cmc.grids g ON ug.gid = g.gid\n",
                "WHERE \n",
                "    u.name='codemarc'\n",
                "GROUP BY \n",
                "    u.id,u.name;        "
            ],
            "metadata": {
                "language": "sql",
                "azdata_cell_guid": "19ee4e3c-9db8-49f0-aed4-04b503f72257"
            },
            "outputs": [
                {
                    "output_type": "display_data",
                    "data": {
                        "text/html": "(1 row(s) affected)"
                    },
                    "metadata": {}
                },
                {
                    "output_type": "display_data",
                    "data": {
                        "text/html": "Total execution time: 00:00:00.086"
                    },
                    "metadata": {}
                },
                {
                    "output_type": "execute_result",
                    "metadata": {},
                    "execution_count": 53,
                    "data": {
                        "application/vnd.dataresource+json": {
                            "schema": {
                                "fields": [
                                    {
                                        "name": "username"
                                    },
                                    {
                                        "name": "gridset"
                                    }
                                ]
                            },
                            "data": [
                                {
                                    "username": "codemarc",
                                    "gridset": "[\"personal\"]"
                                }
                            ]
                        },
                        "text/html": [
                            "<table>",
                            "<tr><th>username</th><th>gridset</th></tr>",
                            "<tr><td>codemarc</td><td>[&quot;personal&quot;]</td></tr>",
                            "</table>"
                        ]
                    }
                }
            ],
            "execution_count": 53
        },
        {
            "cell_type": "markdown",
            "source": [
                "This complex query was generarted using the prompt:  \n",
                "  \n",
                "given a user name i want to query username userrole list of grids and for each grid i want the list of panel names amd the panel links object, the returned panel links object should be ordered using the panels field of the grids table"
            ],
            "metadata": {
                "language": "sql",
                "azdata_cell_guid": "688fbb2a-d364-48e5-811b-0bc492894c7d"
            },
            "attachments": {}
        },
        {
            "cell_type": "code",
            "source": [
                "SELECT \n",
                "    u.name AS username,\n",
                "    u.role AS userrole,\n",
                "    g.name AS grid_name,\n",
                "    json_agg(\n",
                "        json_build_object(\n",
                "            'panel_name', p.name, \n",
                "            'links', p.links\n",
                "        ) \n",
                "        ORDER BY array_position(array(SELECT jsonb_array_elements_text(g.panels)), p.pid::text)\n",
                "    ) AS panels\n",
                "FROM \n",
                "    cmc.users u\n",
                "JOIN \n",
                "    cmc.usergrids ug ON u.id = ug.id\n",
                "JOIN \n",
                "    cmc.grids g ON ug.gid = g.gid\n",
                "JOIN \n",
                "    cmc.panels p ON p.pid = ANY(ARRAY(SELECT jsonb_array_elements_text(g.panels) :: int))\n",
                "WHERE \n",
                "    u.name = 'codemarc'  -- Replace with the actual username\n",
                "    AND ug.isactive = TRUE\n",
                "GROUP BY \n",
                "    u.name, u.role, g.name, g.panels;\n",
                ""
            ],
            "metadata": {
                "azdata_cell_guid": "86d4bcaa-e27b-42a0-a481-832a89c60345",
                "language": "sql"
            },
            "outputs": [
                {
                    "output_type": "display_data",
                    "data": {
                        "text/html": "(1 row(s) affected)"
                    },
                    "metadata": {}
                },
                {
                    "output_type": "display_data",
                    "data": {
                        "text/html": "Total execution time: 00:00:00.129"
                    },
                    "metadata": {}
                },
                {
                    "output_type": "execute_result",
                    "metadata": {},
                    "execution_count": 54,
                    "data": {
                        "application/vnd.dataresource+json": {
                            "schema": {
                                "fields": [
                                    {
                                        "name": "username"
                                    },
                                    {
                                        "name": "userrole"
                                    },
                                    {
                                        "name": "grid_name"
                                    },
                                    {
                                        "name": "panels"
                                    }
                                ]
                            },
                            "data": [
                                {
                                    "username": "codemarc",
                                    "userrole": "admin",
                                    "grid_name": "personal",
                                    "panels": "[{\"panel_name\" : \"comms\", \"links\" : {\"name\": \"comms\", \"href1\": \"https://www.youtube.com/@allin\", \"href2\": \"*/settings\", \"links\": [{\"pre1\": \" \", \"href1\": \"https://www.microsoft.com/en-us/microsoft-365\", \"href2\": \"https://www.office.com/?auth=2\", \"href3\": \"https://www.office.com/?auth=1\", \"name1\": \"microsoft 365\", \"name2\": \"work\", \"name3\": \"home\", \"post1\": \"ㅤ\", \"post2\": \"|\"}, {\"pre1\": \" \", \"pre3\": \"|\", \"href1\": \"https://admin.google.com/?authuser=1\", \"href2\": \"https://mail.google.com/mail/u/0/?tab=rm&ogbl#inbox\", \"href3\": \"https://mail.google.com/mail/u/0/?tab=rm&ogbl#inbox\", \"name1\": \"google office\", \"name2\": \"gmail\", \"name3\": \"dashboard\", \"post1\": \"ㅤ\"}, {\"pre1\": \"ㅤ\", \"href1\": \"https://onedrive.live.com\", \"href2\": \"https://www.dropbox.com/\", \"href3\": \"https://drive.google.com/drive/u/0/\", \"href4\": \"https://www.icloud.com/iclouddrive/\", \"name1\": \"onedrive\", \"name2\": \"dropbox\", \"name3\": \"g-drive\", \"name4\": \"icloud\", \"post1\": null, \"post2\": null, \"post3\": null}, {\"pre1\": \"ㅤ\", \"href1\": \"https://zoom.us/\", \"href2\": \"https://slack.com/\", \"href3\": \"https://meet.google.com/\", \"href4\": \"https://www.microsoft.com/en-us/microsoft-teams/group-chat-software\", \"name1\": \"zoom\", \"name2\": \"slack\", \"name3\": \"meet\", \"name4\": \"teams\", \"post1\": \"ㅤ\", \"post2\": \"ㅤ\", \"post3\": \"ㅤ\", \"title1\": \"Zoom Video Communications\", \"title2\": \"Slack: Where Work Happens\", \"title3\": \"Google Meet: Secure Video Meetings\", \"title4\": \"Microsoft Teams: Group Chat Software\"}, {\"pre1\": \"ㅤ\"}, {\"name1\": \"-articles\"}, {\"pre1\": \" \", \"href1\": \"https://www.reddit.com/\", \"href2\": \"https://substack.com/home\", \"href3\": \"https://medium.com/\", \"href4\": \"https://www.notion.so\", \"name1\": \"reddit\", \"name2\": \"substack\", \"name3\": \"medium\", \"name4\": \"notion\", \"post1\": \"ㅤ\", \"post2\": \"ㅤ\", \"title4\": \"Notion.so is a popular productivity tool that can be described as an all-in-one workspace. It lets you take notes, create documents, manage tasks, and even build wikis and databases – all in a single platform.\"}, {\"pre1\": \" \", \"href1\": \"https://dev.to/\", \"href2\": \"https://www.quora.com/topic/Software-Engineering\", \"href3\": \"https://www.linkedin.com/groups/\", \"href4\": \"https://news.ycombinator.com\", \"name1\": \"dev.to\", \"name2\": \"quora\", \"name3\": \"groups\", \"name4\": \"hacker news\", \"post1\": \" \", \"post2\": \" \", \"post3\": \" \"}, {\"pre1\": \"ㅤ\"}, {\"pre1\": \"ㅤ\"}], \"title\": \"communicate / discuss\"}}, {\"panel_name\" : \"fintech\", \"links\" : {\"name\": \"fintech\", \"href2\": \"*/settings\", \"links\": [{\"pre1\": \"ㅤ\", \"pre2\": \"ㅤ\", \"pre3\": \" \", \"href1\": \"https://finance.yahoo.com\", \"href2\": \"https://www.google.com/finance\", \"href3\": \"https://seekingalpha.com\", \"name1\": \"yahoo\", \"name2\": \"google\", \"name3\": \"seeking alpha\", \"title1\": \"Market data, news, and more.\", \"title2\": \"Aggregates financial news and market data from multiple sources.\", \"title3\": \"Crowd-sourced financial content service. In-depth analysis and market commentary.\"}, {\"pre1\": \"ㅤ\", \"pre2\": \"ㅤ\", \"pre3\": \" \", \"href1\": \"https://www.bloomberg.com\", \"href2\": \"https://www.marketwatch.com\", \"href3\": \"https://www.wsj.com\", \"name1\": \"bloomberg\", \"name2\": \"marketwatch\", \"name3\": \"wsj\", \"title1\": \"Extensive financial news, data, and analysis.Comprehensive financial coverage.\", \"title2\": \"Breaking news and stock market updates.\", \"title3\": \"Comprehensive financial news.\"}, {\"pre1\": \"ㅤ\", \"href1\": \"https://www.reuters.com/finance\", \"href2\": \"https://www.investing.com\", \"href3\": \"https://nasdaq.com\", \"name1\": \"reuters\", \"name2\": \"investing.com\", \"name3\": \"nasdaq\", \"title1\": \"Global financial coverage.\", \"title2\": \"Real-time financial data and tools.\", \"title3\": \"nasdaq market site\"}, {\"pre1\": \"ㅤ\"}, {\"pre1\": \"ㅤ\"}, {\"href1\": \"https://finviz.com/\", \"name1\": \"-finviz\"}, {\"pre1\": \"     \", \"href1\": \"https://client.schwab.com/app/accounts/positions/#/\", \"href2\": \"https://digital.fidelity.com/prgw/digital/login/full-page\", \"href3\": \"https://robinhood.com/login/\", \"name1\": \"schwab\", \"name2\": \"fidelity\", \"name3\": \"robinhood\", \"post1\": \"      \", \"post2\": \"ㅤ\", \"post3\": \"ㅤ\"}, {\"pre1\": \"     \", \"href1\": \"https://www.yieldmaxetfs.com/\", \"href2\": \"https://www.cnbc.com/live-tv/?trknav=navigation:shows:watchlive:103620081\", \"href3\": \"https://www.cnn.com/markets\", \"name1\": \"yieldmax\", \"name2\": \"cnbc\", \"name3\": \"cnn mkts\", \"post1\": \"      \", \"post2\": \"ㅤ\", \"post3\": \"ㅤ\"}, {\"pre1\": \"ㅤ\"}, {\"pre1\": \"ㅤ\"}, {\"pre1\": \"ㅤ\"}], \"title\": \"financial news / data\"}}, {\"panel_name\" : \"banking\", \"links\" : {\"name\": \"banking\", \"href1\": \"https://www.bankingdive.com/\", \"href2\": \"*/settings\", \"links\": [{\"pre1\": \"  \", \"href1\": \"https://chaseonline.chase.com/\", \"href2\": \"https://www.bankofamerica.com/\", \"href3\": \"https://wellsfargo.com/\", \"href4\": \"https://online.citi.com/US/ag/dashboard/credit-card\", \"name1\": \"chase\", \"name2\": \"bofa\", \"name3\": \"wells fargo\", \"name4\": \"citi\", \"post1\": \"ㅤ\", \"post2\": \"ㅤ\", \"post3\": \"ㅤ\"}, {\"pre1\": \"  \", \"href1\": \"https://www.usbank.com/index.html\", \"href2\": \"https://www.pnc.com/en/personal-banking.html\", \"href3\": \"https://www.truist.com/\", \"href4\": \"https://myaccounts.capitalone.com/welcome\", \"name1\": \"usbank\", \"name2\": \"pnc\", \"name3\": \"truist\", \"name4\": \"capone\", \"post1\": \"ㅤ\", \"post2\": \"ㅤ\", \"post3\": \"ㅤ\"}, {\"pre1\": \"    \", \"href1\": \"https://www.53.com/content/fifth-third/en/login.html\", \"href2\": \"https://onlinebanking.tdbank.com/\", \"href3\": \"https://www.bmo.com/en-us/main/personal/\", \"href4\": \"https://www.citizensbank.com/\", \"name1\": \"fifththird\", \"name2\": \"td\", \"name3\": \"bmo\", \"name4\": \"citizens\", \"post1\": \"ㅤ\", \"post2\": \"ㅤ\", \"post3\": \"ㅤ\"}, {\"pre1\": \" \", \"name1\": \"1st citzens\", \"name2\": \"m&t\", \"name3\": \"huntington nb\", \"post1\": \"ㅤ\", \"post2\": \"ㅤ\", \"post3\": \"ㅤ\"}, {\"pre1\": \" \", \"href1\": \"https://www.americanexpress.com/en-us/account/login?inav=iNavLnkLog\", \"name1\": \"amex\", \"name2\": \"key Bank\", \"name3\": \"ally Bank\", \"name4\": \"hsbc\", \"post1\": \"ㅤ\", \"post2\": \"ㅤ\", \"post3\": \"ㅤ\"}, {\"name1\": \"-cards\"}, {\"pre1\": \"       \", \"href1\": \"https://portal.discover.com/customersvcs/universalLogin/ac_main\", \"href2\": \"https://card.apple.com\", \"href3\": \"https://cards.theignitecard.com/dfc/dashboard\", \"name1\": \"discover\", \"name2\": \"apple\", \"name3\": \"ignite\", \"post1\": \"ㅤ\", \"post2\": \"ㅤ\", \"post3\": \"ㅤ\"}, {\"pre1\": \"~  syncbank ⇒ \", \"href1\": \"https://www.synchrony.com/accounts/?client=amazon\", \"href2\": \"https://www.synchrony.com/accounts/\", \"name1\": \"amazon\", \"name2\": \"others\", \"post1\": \"ㅤ|ㅤ\", \"post2\": \"ㅤ\", \"post3\": \"ㅤ\"}, {\"pre1\": \" \"}], \"title\": \"banking\"}}, {\"panel_name\" : \"house\", \"links\" : {\"name\": \"house\", \"href1\": \"https://home.nest.com/home\", \"href2\": \"*/settings\", \"links\": [{\"pre1\": \"      \", \"href1\": \"https://www.flagstar.com/myloans/login\", \"href2\": \"https://portal.campbellproperty.com/dashboard\", \"href3\": \"https://www.miznercountryclub.org/\", \"name1\": \"flagstar\", \"name2\": \"campbell\", \"name3\": \"mizner cc\", \"post1\": \" \", \"post2\": \" \", \"post3\": \" \", \"title1\": \"mortgage\", \"title2\": \"hoa property manager\", \"title3\": \"mizner\"}, {\"pre1\": \"   \", \"href1\": \"https://www.fpl.com/\", \"href2\": \"https://ebill.pbcwater.com/Security/loginui.aspx\", \"href3\": \"https://customer.xfinity.com/\", \"href4\": \"http://my.verizon.com/\", \"name1\": \"fpl\", \"name2\": \"water\", \"name3\": \"xfinity\", \"name4\": \"verizon\", \"post1\": \"    \", \"post2\": \"    \", \"post3\": \"    \", \"title1\": \"florida power and light\", \"title2\": \"palm beach county water\"}, {\"pre1\": \" \"}, {\"pre1\": \" \"}, {\"pre1\": \" \"}, {\"href1\": \"https://studentaid.gov/h/apply-for-aid/fafsa\", \"name1\": \"-education\"}, {\"pre1\": \" ㅤ\", \"href1\": \"https://one.uf.edu/\", \"href2\": \"https://www.billhighway.com/aph/forChapters/v2/login.aspx\", \"href3\": \"https://myaccount.gru.com\", \"href4\": \"https://trimarkp.twa.rentmanager.com/Shared/Login\", \"name1\": \"one.uf\", \"name2\": \"dpe\", \"name3\": \"gru\", \"name4\": \"trimark\", \"post1\": \"ㅤ\", \"post2\": \"ㅤ\", \"post3\": \"ㅤ\"}, {\"pre1\": \" ㅤ\", \"href1\": \"https://nelnet.studentaid.gov/welcome\", \"href2\": \"https://aidvantage.studentaid.gov/\", \"href3\": \"https://www.salliemae.com/login/\", \"name1\": \"nelnet\", \"name2\": \"aidvantage\", \"name3\": \"salliemae\", \"post1\": \"ㅤ\", \"post2\": \"ㅤ\", \"post3\": \"ㅤ\"}, {\"pre1\": \" \"}], \"title\": \"household / credit\"}}, {\"panel_name\" : \"genai\", \"links\" : {\"name\": \"genai\", \"href1\": \"https://venturebeat.com/category/ai/\", \"href2\": \"*/settings\", \"links\": [{\"pre1\": \" \", \"href1\": \"https://chat.openai.com/\", \"href2\": \"https://claude.ai/chats\", \"href3\": \"https://gemini.google.com/\", \"href4\": \"https://www.perplexity.ai/\", \"name1\": \"chatgpt\", \"name2\": \"claude\", \"name3\": \"gemini\", \"name4\": \"perplexity\", \"title1\": \"OpenAI's ChatGPT\", \"title2\": \"Anthropic's Claude\", \"title3\": \"Google's Gemini\", \"title4\": \"Perplexity AI Search\"}, {\"pre1\": \"  \", \"href1\": \"https://www.meta.ai/\", \"href2\": \"https://huggingface.co/\", \"href3\": \"https://x.ai/\", \"name1\": \"meta.ai\", \"name2\": \"hugging face\", \"name3\": \"x.ai\", \"title1\": \"Meta's AI Research\", \"title2\": \"Hugging Face AI Community\", \"title3\": \"x.ai\"}, {\"name1\": \"-art/image\"}, {\"pre1\": \" \", \"href1\": \"https://openai.com/dall-e-2\", \"href2\": \"https://www.midjourney.com/\", \"href3\": \"https://stability.ai/\", \"name1\": \"dall-e\", \"name2\": \"midjourney\", \"name3\": \"stable diffusion\", \"title1\": \"OpenAI's DALL-E, generates highly realistic and creative images from text descriptions. Known for its versatility and ability to understand complex prompts. Offers editing features like inpainting and outpainting.\", \"title2\": \"Midjourney AI Art. Produces high-quality, artistic images from text prompts. Known for its distinctive aesthetic, often described as painterly or illustrative. Operates primarily through a Discord bot interface. Offers various style options and aspect ratios\", \"title3\": \"Stability AI's Stable Diffusion, Open-source image generation model. Can run locally on consumer hardware, unlike many cloud-based alternatives. Highly customizable with a large community creating custom models and implementations. Capable of various tasks including text-to-image, image-to-image, and inpainting\"}, {\"pre1\": \"  \", \"href1\": \"https://runwayml.com/\", \"href2\": \"https://www.d-id.com/creative-reality-studio/\", \"href3\": \"https://designer.microsoft.com/\", \"name1\": \"runwayml\", \"name2\": \"digital-id\", \"name3\": \"designer\", \"title1\": \"Runway AI Video Editor - Offers AI-powered video editing and generation. Known for text-to-video capabilities and advanced editing features\", \"title2\": \"Specializes in creating talking head videos from still images. Offers realistic lip-sync and facial animations\", \"title3\": \"Microsoft\"}, {\"name1\": \"- coding  \"}, {\"pre1\": \" \", \"href1\": \"https://github.com/features/copilot\", \"href2\": \"https://aws.amazon.com/codeguru/code-whisperer/\", \"href3\": \"https://sourcegraph.com/search\", \"name1\": \"copilot\", \"name2\": \"codewhisperer\", \"name3\": \"sourcegraph\", \"title1\": \"GitHub Copilot\", \"title2\": \"Amazon CodeWhisperer - integrated with AWS services\"}, {\"pre1\": \"~  lamatic   \", \"href1\": \"https://lamatic.ai/docs\", \"href2\": \"https://studio.lamatic.ai/\", \"name1\": \"docs\", \"name2\": \"studio\", \"post1\": \"  \", \"post2\": \" \", \"post3\": \" \"}, {\"pre1\": \"ㅤ\"}], \"title\": \"genai / tools\"}}, {\"panel_name\" : \"cloud\", \"links\" : {\"name\": \"cloud\", \"href1\": \"https://www.cloudzero.com/blog/cloud-service-providers/\", \"href2\": \"*/settings\", \"links\": [{\"pre1\": \"ㅤ \", \"href1\": \"https://console.aws.amazon.com/\", \"href2\": \"https://portal.azure.com/#home\", \"href3\": \"https://console.cloud.google.com/\", \"href4\": \"https://cloud.digitalocean.com/login\", \"name1\": \"aws\", \"name2\": \"azure\", \"name3\": \"gcp\", \"name4\": \"do\", \"post1\": \"ㅤㅤ\", \"post2\": \"ㅤㅤ\", \"post3\": \"ㅤㅤ\"}, {\"pre1\": \"ㅤ \", \"href1\": \"https://rancher.com/docs/\", \"name1\": \"-rancher/docs\", \"post1\": \"ㅤㅤ\", \"post2\": \"ㅤㅤ\", \"post3\": \"ㅤㅤ\"}, {\"pre1\": \"ㅤ \", \"href1\": \"http://localhost\", \"href2\": \"https://localhost/dashboard/c/local/explorer/namespace/gridsvcs#Resources\", \"href3\": \"http://localhost:9011/\", \"name1\": \"rancher\", \"name2\": \"gridsvcs\", \"name3\": \"fusionauth\", \"post1\": \"ㅤㅤ\", \"post2\": \"ㅤㅤ\", \"post3\": \"ㅤㅤ\"}, {\"pre1\": \"ㅤ\"}, {\"pre1\": \"ㅤ\"}, {\"name1\": \"-research\"}, {\"pre1\": \"   \", \"href1\": \"https://fusionauth.io\", \"href2\": \"https://www.passportjs.org/\", \"href3\": \"https://developers.cloudflare.com/products/\", \"name1\": \"fusionauth\", \"name2\": \"passportjs\", \"name3\": \"cloudflare\", \"post1\": \"  \", \"post2\": \"  \", \"post3\": \" \"}, {\"pre1\": \"ㅤ\"}, {\"pre1\": \"ㅤ\"}, {\"pre1\": \"ㅤ\"}], \"title\": \"cloud\"}}, {\"panel_name\" : \"services\", \"links\" : {\"name\": \"services\", \"href1\": \"https://codemarc.net/doc/gridsvcs/#/\", \"href2\": \"*/settings\", \"links\": [{\"pre1\": \"     gridsvcs:      \", \"href1\": \"http://localhost:3000/v1/api-docs/\", \"href2\": \"https://codemarc.net/api/v1/api-docs/\", \"href3\": \"http://localhost:3000/v1/api-docs/\", \"name1\": \"dev\", \"name2\": \"test\", \"name3\": \"prod\", \"post1\": \"  \", \"post2\": \"  \"}, {\"pre1\": \"\"}, {\"pre1\": \"~  deployments\"}, {\"pre1\": \"       dev:     \", \"href1\": \"http://localhost:3000/v1/motd/status\", \"href2\": \"http://localhost:3000/v1/motd/quotes\", \"href3\": \"http://localhost:3000/v1/motd/topics\", \"name1\": \"status\", \"name2\": \"quotes\", \"name3\": \"topics\", \"post1\": \" |\", \"post2\": \" |\"}, {\"pre1\": \"      test:     \", \"href1\": \"https://codemarc.net/api/v1/motd/status\", \"href2\": \"https://codemarc.net/api/v1/motd/quotes\", \"href3\": \"http://codemarc.net/api/v1/motd/topics\", \"name1\": \"status\", \"name2\": \"quotes\", \"name3\": \"topics\", \"post1\": \" |\", \"post2\": \" |\"}, {\"pre1\": \"      prod:    \", \"href1\": \"http://localhost:3000/v1/motd/status\", \"href2\": \"http://localhost:3000/v1/motd/quotes\", \"href3\": \"http://localhost:3000/v1/motd/topics\", \"name1\": \"status\", \"name2\": \"quotes\", \"name3\": \"topics\", \"post1\": \" |\", \"post2\": \" |\"}, {\"pre1\": \"\"}, {\"pre1\": \"~  projects\"}, {\"pre1\": \"ㅤ\", \"href1\": \"https://github.com/users/codemarc/projects/6\", \"href2\": \"https://github.com/users/codemarc/projects/5\", \"name1\": \"gridlinks\", \"name2\": \"gridsvcs\", \"post1\": \"ㅤ\", \"post2\": \"ㅤ\", \"post3\": \"ㅤ\"}, {\"pre1\": \"ㅤ\"}, {\"pre1\": \"ㅤ\"}, {\"pre1\": \"ㅤ\"}], \"title\": \"services\"}}, {\"panel_name\" : \"stream\", \"links\" : {\"name\": \"stream\", \"href1\": \"https://www.xfinity.com/stream/\", \"href2\": \"*/settings\", \"links\": [{\"pre1\": \"    \", \"href1\": \"https://alexa.amazon.com/\", \"href2\": \"https://amazon.com/\", \"href3\": \"https://www.amazon.com/Amazon-Video/b/?ie=UTF8&node=2858778011&ref_=nav_dvm_us_eg_cs_nav_rec_T1\", \"href4\": \"https://music.amazon.com/\", \"name1\": \"alexa\", \"name2\": \"prime\", \"name3\": \"video\", \"name4\": \"music\", \"post1\": \"✫\", \"post2\": \"✫\", \"post3\": \"✫\"}, {\"pre1\": \"   \", \"href1\": \"https://www.audible.com/\", \"href2\": \"https://www.twitch.tv/\", \"href3\": \"https://www.imdb.com/\", \"href4\": \"https://www.amazon.com/kindle-dbs/fd/kcp\", \"name1\": \"audible\", \"name2\": \"twitch\", \"name3\": \"imdb\", \"name4\": \"kindle\", \"post1\": \" | \", \"post2\": \" | \", \"post3\": \" | \", \"title1\": \"Audible\", \"title2\": \"Twitch\", \"title3\": \"IMDb\", \"title4\": \"Kindle Direct Publishing\"}, {\"pre1\": \" \", \"href1\": \"https://www.xfinity.com/stream/\", \"href2\": \"https://www.netflix.com/\", \"href3\": \"https://hbomax.com/\", \"href4\": \"http://peacock.tv/\", \"name1\": \"xfinity\", \"name2\": \"netflix\", \"name3\": \"hbomax\", \"name4\": \"peacock\", \"post1\": \"  \", \"post2\": \"  \", \"post3\": \"  \"}, {\"pre1\": \"      \", \"href1\": \"https://www.youtube.com/\", \"href2\": \"https://music.apple.com/\", \"href3\": \"https://www.spotify.com/\", \"name1\": \"youtube\", \"name2\": \"apple music\", \"name3\": \"spotify\", \"post1\": \"  \", \"post2\": \"  \", \"post3\": \"  \"}, {\"pre1\": \" \", \"href1\": \"https://www.shopify.com/editions/summer2024\", \"name1\": \"-shopify\", \"xhref1\": \"https://www.shopify.com/\"}, {\"pre1\": \"   \", \"href1\": \"http://puppyleo.com\", \"href2\": \"https://admin.shopify.com/\", \"name1\": \"the puppy leo shop\", \"name2\": \" 🐶   admin\", \"post2\": \"  \", \"post3\": \"  \"}, {\"pre1\": \"      \", \"href1\": \"https://app.zendrop.com/dashboard\", \"href2\": \"https://www.cjdropshipping.com/\", \"href3\": \"https://www.shineon.com/\\\"\", \"href4\": \"https://www.printful.com/\", \"name1\": \"zendrop\", \"name2\": \"cj\", \"name3\": \"shineon\", \"name4\": \"printful\", \"post1\": \"  \", \"post2\": \"  \", \"post3\": \"  \"}, {\"pre1\": \"           \", \"href1\": \"https://shopify.github.io\", \"href2\": \"https://shopify.dev/\", \"href3\": \"https://apps.shopify.com/\", \"href4\": \"https://polaris.shopify.com/\", \"name1\": \"src\", \"name2\": \"dev\", \"name3\": \"apps\", \"name4\": \"polaris\", \"post1\": \"  \", \"post2\": \"  \", \"post3\": \"  \", \"title3\": \"Shopify App Store\", \"title4\": \"Shopify Polaris - React Components\"}, {\"pre1\": \"      \", \"post1\": \"  \", \"post2\": \"  \", \"post3\": \"  \"}, {\"pre1\": \"      \", \"post1\": \"  \", \"post2\": \"  \", \"post3\": \"  \"}], \"title\": \"stream / shop\"}}]"
                                }
                            ]
                        },
                        "text/html": [
                            "<table>",
                            "<tr><th>username</th><th>userrole</th><th>grid_name</th><th>panels</th></tr>",
                            "<tr><td>codemarc</td><td>admin</td><td>personal</td><td>[{&quot;panel_name&quot; : &quot;comms&quot;, &quot;links&quot; : {&quot;name&quot;: &quot;comms&quot;, &quot;href1&quot;: &quot;https://www.youtube.com/@allin&quot;, &quot;href2&quot;: &quot;*/settings&quot;, &quot;links&quot;: [{&quot;pre1&quot;: &quot; &quot;, &quot;href1&quot;: &quot;https://www.microsoft.com/en-us/microsoft-365&quot;, &quot;href2&quot;: &quot;https://www.office.com/?auth=2&quot;, &quot;href3&quot;: &quot;https://www.office.com/?auth=1&quot;, &quot;name1&quot;: &quot;microsoft 365&quot;, &quot;name2&quot;: &quot;work&quot;, &quot;name3&quot;: &quot;home&quot;, &quot;post1&quot;: &quot;ㅤ&quot;, &quot;post2&quot;: &quot;|&quot;}, {&quot;pre1&quot;: &quot; &quot;, &quot;pre3&quot;: &quot;|&quot;, &quot;href1&quot;: &quot;https://admin.google.com/?authuser=1&quot;, &quot;href2&quot;: &quot;https://mail.google.com/mail/u/0/?tab=rm&amp;ogbl#inbox&quot;, &quot;href3&quot;: &quot;https://mail.google.com/mail/u/0/?tab=rm&amp;ogbl#inbox&quot;, &quot;name1&quot;: &quot;google office&quot;, &quot;name2&quot;: &quot;gmail&quot;, &quot;name3&quot;: &quot;dashboard&quot;, &quot;post1&quot;: &quot;ㅤ&quot;}, {&quot;pre1&quot;: &quot;ㅤ&quot;, &quot;href1&quot;: &quot;https://onedrive.live.com&quot;, &quot;href2&quot;: &quot;https://www.dropbox.com/&quot;, &quot;href3&quot;: &quot;https://drive.google.com/drive/u/0/&quot;, &quot;href4&quot;: &quot;https://www.icloud.com/iclouddrive/&quot;, &quot;name1&quot;: &quot;onedrive&quot;, &quot;name2&quot;: &quot;dropbox&quot;, &quot;name3&quot;: &quot;g-drive&quot;, &quot;name4&quot;: &quot;icloud&quot;, &quot;post1&quot;: null, &quot;post2&quot;: null, &quot;post3&quot;: null}, {&quot;pre1&quot;: &quot;ㅤ&quot;, &quot;href1&quot;: &quot;https://zoom.us/&quot;, &quot;href2&quot;: &quot;https://slack.com/&quot;, &quot;href3&quot;: &quot;https://meet.google.com/&quot;, &quot;href4&quot;: &quot;https://www.microsoft.com/en-us/microsoft-teams/group-chat-software&quot;, &quot;name1&quot;: &quot;zoom&quot;, &quot;name2&quot;: &quot;slack&quot;, &quot;name3&quot;: &quot;meet&quot;, &quot;name4&quot;: &quot;teams&quot;, &quot;post1&quot;: &quot;ㅤ&quot;, &quot;post2&quot;: &quot;ㅤ&quot;, &quot;post3&quot;: &quot;ㅤ&quot;, &quot;title1&quot;: &quot;Zoom Video Communications&quot;, &quot;title2&quot;: &quot;Slack: Where Work Happens&quot;, &quot;title3&quot;: &quot;Google Meet: Secure Video Meetings&quot;, &quot;title4&quot;: &quot;Microsoft Teams: Group Chat Software&quot;}, {&quot;pre1&quot;: &quot;ㅤ&quot;}, {&quot;name1&quot;: &quot;-articles&quot;}, {&quot;pre1&quot;: &quot; &quot;, &quot;href1&quot;: &quot;https://www.reddit.com/&quot;, &quot;href2&quot;: &quot;https://substack.com/home&quot;, &quot;href3&quot;: &quot;https://medium.com/&quot;, &quot;href4&quot;: &quot;https://www.notion.so&quot;, &quot;name1&quot;: &quot;reddit&quot;, &quot;name2&quot;: &quot;substack&quot;, &quot;name3&quot;: &quot;medium&quot;, &quot;name4&quot;: &quot;notion&quot;, &quot;post1&quot;: &quot;ㅤ&quot;, &quot;post2&quot;: &quot;ㅤ&quot;, &quot;title4&quot;: &quot;Notion.so is a popular productivity tool that can be described as an all-in-one workspace. It lets you take notes, create documents, manage tasks, and even build wikis and databases – all in a single platform.&quot;}, {&quot;pre1&quot;: &quot; &quot;, &quot;href1&quot;: &quot;https://dev.to/&quot;, &quot;href2&quot;: &quot;https://www.quora.com/topic/Software-Engineering&quot;, &quot;href3&quot;: &quot;https://www.linkedin.com/groups/&quot;, &quot;href4&quot;: &quot;https://news.ycombinator.com&quot;, &quot;name1&quot;: &quot;dev.to&quot;, &quot;name2&quot;: &quot;quora&quot;, &quot;name3&quot;: &quot;groups&quot;, &quot;name4&quot;: &quot;hacker news&quot;, &quot;post1&quot;: &quot; &quot;, &quot;post2&quot;: &quot; &quot;, &quot;post3&quot;: &quot; &quot;}, {&quot;pre1&quot;: &quot;ㅤ&quot;}, {&quot;pre1&quot;: &quot;ㅤ&quot;}], &quot;title&quot;: &quot;communicate / discuss&quot;}}, {&quot;panel_name&quot; : &quot;fintech&quot;, &quot;links&quot; : {&quot;name&quot;: &quot;fintech&quot;, &quot;href2&quot;: &quot;*/settings&quot;, &quot;links&quot;: [{&quot;pre1&quot;: &quot;ㅤ&quot;, &quot;pre2&quot;: &quot;ㅤ&quot;, &quot;pre3&quot;: &quot; &quot;, &quot;href1&quot;: &quot;https://finance.yahoo.com&quot;, &quot;href2&quot;: &quot;https://www.google.com/finance&quot;, &quot;href3&quot;: &quot;https://seekingalpha.com&quot;, &quot;name1&quot;: &quot;yahoo&quot;, &quot;name2&quot;: &quot;google&quot;, &quot;name3&quot;: &quot;seeking alpha&quot;, &quot;title1&quot;: &quot;Market data, news, and more.&quot;, &quot;title2&quot;: &quot;Aggregates financial news and market data from multiple sources.&quot;, &quot;title3&quot;: &quot;Crowd-sourced financial content service. In-depth analysis and market commentary.&quot;}, {&quot;pre1&quot;: &quot;ㅤ&quot;, &quot;pre2&quot;: &quot;ㅤ&quot;, &quot;pre3&quot;: &quot; &quot;, &quot;href1&quot;: &quot;https://www.bloomberg.com&quot;, &quot;href2&quot;: &quot;https://www.marketwatch.com&quot;, &quot;href3&quot;: &quot;https://www.wsj.com&quot;, &quot;name1&quot;: &quot;bloomberg&quot;, &quot;name2&quot;: &quot;marketwatch&quot;, &quot;name3&quot;: &quot;wsj&quot;, &quot;title1&quot;: &quot;Extensive financial news, data, and analysis.Comprehensive financial coverage.&quot;, &quot;title2&quot;: &quot;Breaking news and stock market updates.&quot;, &quot;title3&quot;: &quot;Comprehensive financial news.&quot;}, {&quot;pre1&quot;: &quot;ㅤ&quot;, &quot;href1&quot;: &quot;https://www.reuters.com/finance&quot;, &quot;href2&quot;: &quot;https://www.investing.com&quot;, &quot;href3&quot;: &quot;https://nasdaq.com&quot;, &quot;name1&quot;: &quot;reuters&quot;, &quot;name2&quot;: &quot;investing.com&quot;, &quot;name3&quot;: &quot;nasdaq&quot;, &quot;title1&quot;: &quot;Global financial coverage.&quot;, &quot;title2&quot;: &quot;Real-time financial data and tools.&quot;, &quot;title3&quot;: &quot;nasdaq market site&quot;}, {&quot;pre1&quot;: &quot;ㅤ&quot;}, {&quot;pre1&quot;: &quot;ㅤ&quot;}, {&quot;href1&quot;: &quot;https://finviz.com/&quot;, &quot;name1&quot;: &quot;-finviz&quot;}, {&quot;pre1&quot;: &quot;     &quot;, &quot;href1&quot;: &quot;https://client.schwab.com/app/accounts/positions/#/&quot;, &quot;href2&quot;: &quot;https://digital.fidelity.com/prgw/digital/login/full-page&quot;, &quot;href3&quot;: &quot;https://robinhood.com/login/&quot;, &quot;name1&quot;: &quot;schwab&quot;, &quot;name2&quot;: &quot;fidelity&quot;, &quot;name3&quot;: &quot;robinhood&quot;, &quot;post1&quot;: &quot;      &quot;, &quot;post2&quot;: &quot;ㅤ&quot;, &quot;post3&quot;: &quot;ㅤ&quot;}, {&quot;pre1&quot;: &quot;     &quot;, &quot;href1&quot;: &quot;https://www.yieldmaxetfs.com/&quot;, &quot;href2&quot;: &quot;https://www.cnbc.com/live-tv/?trknav=navigation:shows:watchlive:103620081&quot;, &quot;href3&quot;: &quot;https://www.cnn.com/markets&quot;, &quot;name1&quot;: &quot;yieldmax&quot;, &quot;name2&quot;: &quot;cnbc&quot;, &quot;name3&quot;: &quot;cnn mkts&quot;, &quot;post1&quot;: &quot;      &quot;, &quot;post2&quot;: &quot;ㅤ&quot;, &quot;post3&quot;: &quot;ㅤ&quot;}, {&quot;pre1&quot;: &quot;ㅤ&quot;}, {&quot;pre1&quot;: &quot;ㅤ&quot;}, {&quot;pre1&quot;: &quot;ㅤ&quot;}], &quot;title&quot;: &quot;financial news / data&quot;}}, {&quot;panel_name&quot; : &quot;banking&quot;, &quot;links&quot; : {&quot;name&quot;: &quot;banking&quot;, &quot;href1&quot;: &quot;https://www.bankingdive.com/&quot;, &quot;href2&quot;: &quot;*/settings&quot;, &quot;links&quot;: [{&quot;pre1&quot;: &quot;  &quot;, &quot;href1&quot;: &quot;https://chaseonline.chase.com/&quot;, &quot;href2&quot;: &quot;https://www.bankofamerica.com/&quot;, &quot;href3&quot;: &quot;https://wellsfargo.com/&quot;, &quot;href4&quot;: &quot;https://online.citi.com/US/ag/dashboard/credit-card&quot;, &quot;name1&quot;: &quot;chase&quot;, &quot;name2&quot;: &quot;bofa&quot;, &quot;name3&quot;: &quot;wells fargo&quot;, &quot;name4&quot;: &quot;citi&quot;, &quot;post1&quot;: &quot;ㅤ&quot;, &quot;post2&quot;: &quot;ㅤ&quot;, &quot;post3&quot;: &quot;ㅤ&quot;}, {&quot;pre1&quot;: &quot;  &quot;, &quot;href1&quot;: &quot;https://www.usbank.com/index.html&quot;, &quot;href2&quot;: &quot;https://www.pnc.com/en/personal-banking.html&quot;, &quot;href3&quot;: &quot;https://www.truist.com/&quot;, &quot;href4&quot;: &quot;https://myaccounts.capitalone.com/welcome&quot;, &quot;name1&quot;: &quot;usbank&quot;, &quot;name2&quot;: &quot;pnc&quot;, &quot;name3&quot;: &quot;truist&quot;, &quot;name4&quot;: &quot;capone&quot;, &quot;post1&quot;: &quot;ㅤ&quot;, &quot;post2&quot;: &quot;ㅤ&quot;, &quot;post3&quot;: &quot;ㅤ&quot;}, {&quot;pre1&quot;: &quot;    &quot;, &quot;href1&quot;: &quot;https://www.53.com/content/fifth-third/en/login.html&quot;, &quot;href2&quot;: &quot;https://onlinebanking.tdbank.com/&quot;, &quot;href3&quot;: &quot;https://www.bmo.com/en-us/main/personal/&quot;, &quot;href4&quot;: &quot;https://www.citizensbank.com/&quot;, &quot;name1&quot;: &quot;fifththird&quot;, &quot;name2&quot;: &quot;td&quot;, &quot;name3&quot;: &quot;bmo&quot;, &quot;name4&quot;: &quot;citizens&quot;, &quot;post1&quot;: &quot;ㅤ&quot;, &quot;post2&quot;: &quot;ㅤ&quot;, &quot;post3&quot;: &quot;ㅤ&quot;}, {&quot;pre1&quot;: &quot; &quot;, &quot;name1&quot;: &quot;1st citzens&quot;, &quot;name2&quot;: &quot;m&amp;t&quot;, &quot;name3&quot;: &quot;huntington nb&quot;, &quot;post1&quot;: &quot;ㅤ&quot;, &quot;post2&quot;: &quot;ㅤ&quot;, &quot;post3&quot;: &quot;ㅤ&quot;}, {&quot;pre1&quot;: &quot; &quot;, &quot;href1&quot;: &quot;https://www.americanexpress.com/en-us/account/login?inav=iNavLnkLog&quot;, &quot;name1&quot;: &quot;amex&quot;, &quot;name2&quot;: &quot;key Bank&quot;, &quot;name3&quot;: &quot;ally Bank&quot;, &quot;name4&quot;: &quot;hsbc&quot;, &quot;post1&quot;: &quot;ㅤ&quot;, &quot;post2&quot;: &quot;ㅤ&quot;, &quot;post3&quot;: &quot;ㅤ&quot;}, {&quot;name1&quot;: &quot;-cards&quot;}, {&quot;pre1&quot;: &quot;       &quot;, &quot;href1&quot;: &quot;https://portal.discover.com/customersvcs/universalLogin/ac_main&quot;, &quot;href2&quot;: &quot;https://card.apple.com&quot;, &quot;href3&quot;: &quot;https://cards.theignitecard.com/dfc/dashboard&quot;, &quot;name1&quot;: &quot;discover&quot;, &quot;name2&quot;: &quot;apple&quot;, &quot;name3&quot;: &quot;ignite&quot;, &quot;post1&quot;: &quot;ㅤ&quot;, &quot;post2&quot;: &quot;ㅤ&quot;, &quot;post3&quot;: &quot;ㅤ&quot;}, {&quot;pre1&quot;: &quot;~  syncbank ⇒ &quot;, &quot;href1&quot;: &quot;https://www.synchrony.com/accounts/?client=amazon&quot;, &quot;href2&quot;: &quot;https://www.synchrony.com/accounts/&quot;, &quot;name1&quot;: &quot;amazon&quot;, &quot;name2&quot;: &quot;others&quot;, &quot;post1&quot;: &quot;ㅤ|ㅤ&quot;, &quot;post2&quot;: &quot;ㅤ&quot;, &quot;post3&quot;: &quot;ㅤ&quot;}, {&quot;pre1&quot;: &quot; &quot;}], &quot;title&quot;: &quot;banking&quot;}}, {&quot;panel_name&quot; : &quot;house&quot;, &quot;links&quot; : {&quot;name&quot;: &quot;house&quot;, &quot;href1&quot;: &quot;https://home.nest.com/home&quot;, &quot;href2&quot;: &quot;*/settings&quot;, &quot;links&quot;: [{&quot;pre1&quot;: &quot;      &quot;, &quot;href1&quot;: &quot;https://www.flagstar.com/myloans/login&quot;, &quot;href2&quot;: &quot;https://portal.campbellproperty.com/dashboard&quot;, &quot;href3&quot;: &quot;https://www.miznercountryclub.org/&quot;, &quot;name1&quot;: &quot;flagstar&quot;, &quot;name2&quot;: &quot;campbell&quot;, &quot;name3&quot;: &quot;mizner cc&quot;, &quot;post1&quot;: &quot; &quot;, &quot;post2&quot;: &quot; &quot;, &quot;post3&quot;: &quot; &quot;, &quot;title1&quot;: &quot;mortgage&quot;, &quot;title2&quot;: &quot;hoa property manager&quot;, &quot;title3&quot;: &quot;mizner&quot;}, {&quot;pre1&quot;: &quot;   &quot;, &quot;href1&quot;: &quot;https://www.fpl.com/&quot;, &quot;href2&quot;: &quot;https://ebill.pbcwater.com/Security/loginui.aspx&quot;, &quot;href3&quot;: &quot;https://customer.xfinity.com/&quot;, &quot;href4&quot;: &quot;http://my.verizon.com/&quot;, &quot;name1&quot;: &quot;fpl&quot;, &quot;name2&quot;: &quot;water&quot;, &quot;name3&quot;: &quot;xfinity&quot;, &quot;name4&quot;: &quot;verizon&quot;, &quot;post1&quot;: &quot;    &quot;, &quot;post2&quot;: &quot;    &quot;, &quot;post3&quot;: &quot;    &quot;, &quot;title1&quot;: &quot;florida power and light&quot;, &quot;title2&quot;: &quot;palm beach county water&quot;}, {&quot;pre1&quot;: &quot; &quot;}, {&quot;pre1&quot;: &quot; &quot;}, {&quot;pre1&quot;: &quot; &quot;}, {&quot;href1&quot;: &quot;https://studentaid.gov/h/apply-for-aid/fafsa&quot;, &quot;name1&quot;: &quot;-education&quot;}, {&quot;pre1&quot;: &quot; ㅤ&quot;, &quot;href1&quot;: &quot;https://one.uf.edu/&quot;, &quot;href2&quot;: &quot;https://www.billhighway.com/aph/forChapters/v2/login.aspx&quot;, &quot;href3&quot;: &quot;https://myaccount.gru.com&quot;, &quot;href4&quot;: &quot;https://trimarkp.twa.rentmanager.com/Shared/Login&quot;, &quot;name1&quot;: &quot;one.uf&quot;, &quot;name2&quot;: &quot;dpe&quot;, &quot;name3&quot;: &quot;gru&quot;, &quot;name4&quot;: &quot;trimark&quot;, &quot;post1&quot;: &quot;ㅤ&quot;, &quot;post2&quot;: &quot;ㅤ&quot;, &quot;post3&quot;: &quot;ㅤ&quot;}, {&quot;pre1&quot;: &quot; ㅤ&quot;, &quot;href1&quot;: &quot;https://nelnet.studentaid.gov/welcome&quot;, &quot;href2&quot;: &quot;https://aidvantage.studentaid.gov/&quot;, &quot;href3&quot;: &quot;https://www.salliemae.com/login/&quot;, &quot;name1&quot;: &quot;nelnet&quot;, &quot;name2&quot;: &quot;aidvantage&quot;, &quot;name3&quot;: &quot;salliemae&quot;, &quot;post1&quot;: &quot;ㅤ&quot;, &quot;post2&quot;: &quot;ㅤ&quot;, &quot;post3&quot;: &quot;ㅤ&quot;}, {&quot;pre1&quot;: &quot; &quot;}], &quot;title&quot;: &quot;household / credit&quot;}}, {&quot;panel_name&quot; : &quot;genai&quot;, &quot;links&quot; : {&quot;name&quot;: &quot;genai&quot;, &quot;href1&quot;: &quot;https://venturebeat.com/category/ai/&quot;, &quot;href2&quot;: &quot;*/settings&quot;, &quot;links&quot;: [{&quot;pre1&quot;: &quot; &quot;, &quot;href1&quot;: &quot;https://chat.openai.com/&quot;, &quot;href2&quot;: &quot;https://claude.ai/chats&quot;, &quot;href3&quot;: &quot;https://gemini.google.com/&quot;, &quot;href4&quot;: &quot;https://www.perplexity.ai/&quot;, &quot;name1&quot;: &quot;chatgpt&quot;, &quot;name2&quot;: &quot;claude&quot;, &quot;name3&quot;: &quot;gemini&quot;, &quot;name4&quot;: &quot;perplexity&quot;, &quot;title1&quot;: &quot;OpenAI&#39;s ChatGPT&quot;, &quot;title2&quot;: &quot;Anthropic&#39;s Claude&quot;, &quot;title3&quot;: &quot;Google&#39;s Gemini&quot;, &quot;title4&quot;: &quot;Perplexity AI Search&quot;}, {&quot;pre1&quot;: &quot;  &quot;, &quot;href1&quot;: &quot;https://www.meta.ai/&quot;, &quot;href2&quot;: &quot;https://huggingface.co/&quot;, &quot;href3&quot;: &quot;https://x.ai/&quot;, &quot;name1&quot;: &quot;meta.ai&quot;, &quot;name2&quot;: &quot;hugging face&quot;, &quot;name3&quot;: &quot;x.ai&quot;, &quot;title1&quot;: &quot;Meta&#39;s AI Research&quot;, &quot;title2&quot;: &quot;Hugging Face AI Community&quot;, &quot;title3&quot;: &quot;x.ai&quot;}, {&quot;name1&quot;: &quot;-art/image&quot;}, {&quot;pre1&quot;: &quot; &quot;, &quot;href1&quot;: &quot;https://openai.com/dall-e-2&quot;, &quot;href2&quot;: &quot;https://www.midjourney.com/&quot;, &quot;href3&quot;: &quot;https://stability.ai/&quot;, &quot;name1&quot;: &quot;dall-e&quot;, &quot;name2&quot;: &quot;midjourney&quot;, &quot;name3&quot;: &quot;stable diffusion&quot;, &quot;title1&quot;: &quot;OpenAI&#39;s DALL-E, generates highly realistic and creative images from text descriptions. Known for its versatility and ability to understand complex prompts. Offers editing features like inpainting and outpainting.&quot;, &quot;title2&quot;: &quot;Midjourney AI Art. Produces high-quality, artistic images from text prompts. Known for its distinctive aesthetic, often described as painterly or illustrative. Operates primarily through a Discord bot interface. Offers various style options and aspect ratios&quot;, &quot;title3&quot;: &quot;Stability AI&#39;s Stable Diffusion, Open-source image generation model. Can run locally on consumer hardware, unlike many cloud-based alternatives. Highly customizable with a large community creating custom models and implementations. Capable of various tasks including text-to-image, image-to-image, and inpainting&quot;}, {&quot;pre1&quot;: &quot;  &quot;, &quot;href1&quot;: &quot;https://runwayml.com/&quot;, &quot;href2&quot;: &quot;https://www.d-id.com/creative-reality-studio/&quot;, &quot;href3&quot;: &quot;https://designer.microsoft.com/&quot;, &quot;name1&quot;: &quot;runwayml&quot;, &quot;name2&quot;: &quot;digital-id&quot;, &quot;name3&quot;: &quot;designer&quot;, &quot;title1&quot;: &quot;Runway AI Video Editor - Offers AI-powered video editing and generation. Known for text-to-video capabilities and advanced editing features&quot;, &quot;title2&quot;: &quot;Specializes in creating talking head videos from still images. Offers realistic lip-sync and facial animations&quot;, &quot;title3&quot;: &quot;Microsoft&quot;}, {&quot;name1&quot;: &quot;- coding  &quot;}, {&quot;pre1&quot;: &quot; &quot;, &quot;href1&quot;: &quot;https://github.com/features/copilot&quot;, &quot;href2&quot;: &quot;https://aws.amazon.com/codeguru/code-whisperer/&quot;, &quot;href3&quot;: &quot;https://sourcegraph.com/search&quot;, &quot;name1&quot;: &quot;copilot&quot;, &quot;name2&quot;: &quot;codewhisperer&quot;, &quot;name3&quot;: &quot;sourcegraph&quot;, &quot;title1&quot;: &quot;GitHub Copilot&quot;, &quot;title2&quot;: &quot;Amazon CodeWhisperer - integrated with AWS services&quot;}, {&quot;pre1&quot;: &quot;~  lamatic   &quot;, &quot;href1&quot;: &quot;https://lamatic.ai/docs&quot;, &quot;href2&quot;: &quot;https://studio.lamatic.ai/&quot;, &quot;name1&quot;: &quot;docs&quot;, &quot;name2&quot;: &quot;studio&quot;, &quot;post1&quot;: &quot;  &quot;, &quot;post2&quot;: &quot; &quot;, &quot;post3&quot;: &quot; &quot;}, {&quot;pre1&quot;: &quot;ㅤ&quot;}], &quot;title&quot;: &quot;genai / tools&quot;}}, {&quot;panel_name&quot; : &quot;cloud&quot;, &quot;links&quot; : {&quot;name&quot;: &quot;cloud&quot;, &quot;href1&quot;: &quot;https://www.cloudzero.com/blog/cloud-service-providers/&quot;, &quot;href2&quot;: &quot;*/settings&quot;, &quot;links&quot;: [{&quot;pre1&quot;: &quot;ㅤ &quot;, &quot;href1&quot;: &quot;https://console.aws.amazon.com/&quot;, &quot;href2&quot;: &quot;https://portal.azure.com/#home&quot;, &quot;href3&quot;: &quot;https://console.cloud.google.com/&quot;, &quot;href4&quot;: &quot;https://cloud.digitalocean.com/login&quot;, &quot;name1&quot;: &quot;aws&quot;, &quot;name2&quot;: &quot;azure&quot;, &quot;name3&quot;: &quot;gcp&quot;, &quot;name4&quot;: &quot;do&quot;, &quot;post1&quot;: &quot;ㅤㅤ&quot;, &quot;post2&quot;: &quot;ㅤㅤ&quot;, &quot;post3&quot;: &quot;ㅤㅤ&quot;}, {&quot;pre1&quot;: &quot;ㅤ &quot;, &quot;href1&quot;: &quot;https://rancher.com/docs/&quot;, &quot;name1&quot;: &quot;-rancher/docs&quot;, &quot;post1&quot;: &quot;ㅤㅤ&quot;, &quot;post2&quot;: &quot;ㅤㅤ&quot;, &quot;post3&quot;: &quot;ㅤㅤ&quot;}, {&quot;pre1&quot;: &quot;ㅤ &quot;, &quot;href1&quot;: &quot;http://localhost&quot;, &quot;href2&quot;: &quot;https://localhost/dashboard/c/local/explorer/namespace/gridsvcs#Resources&quot;, &quot;href3&quot;: &quot;http://localhost:9011/&quot;, &quot;name1&quot;: &quot;rancher&quot;, &quot;name2&quot;: &quot;gridsvcs&quot;, &quot;name3&quot;: &quot;fusionauth&quot;, &quot;post1&quot;: &quot;ㅤㅤ&quot;, &quot;post2&quot;: &quot;ㅤㅤ&quot;, &quot;post3&quot;: &quot;ㅤㅤ&quot;}, {&quot;pre1&quot;: &quot;ㅤ&quot;}, {&quot;pre1&quot;: &quot;ㅤ&quot;}, {&quot;name1&quot;: &quot;-research&quot;}, {&quot;pre1&quot;: &quot;   &quot;, &quot;href1&quot;: &quot;https://fusionauth.io&quot;, &quot;href2&quot;: &quot;https://www.passportjs.org/&quot;, &quot;href3&quot;: &quot;https://developers.cloudflare.com/products/&quot;, &quot;name1&quot;: &quot;fusionauth&quot;, &quot;name2&quot;: &quot;passportjs&quot;, &quot;name3&quot;: &quot;cloudflare&quot;, &quot;post1&quot;: &quot;  &quot;, &quot;post2&quot;: &quot;  &quot;, &quot;post3&quot;: &quot; &quot;}, {&quot;pre1&quot;: &quot;ㅤ&quot;}, {&quot;pre1&quot;: &quot;ㅤ&quot;}, {&quot;pre1&quot;: &quot;ㅤ&quot;}], &quot;title&quot;: &quot;cloud&quot;}}, {&quot;panel_name&quot; : &quot;services&quot;, &quot;links&quot; : {&quot;name&quot;: &quot;services&quot;, &quot;href1&quot;: &quot;https://codemarc.net/doc/gridsvcs/#/&quot;, &quot;href2&quot;: &quot;*/settings&quot;, &quot;links&quot;: [{&quot;pre1&quot;: &quot;     gridsvcs:      &quot;, &quot;href1&quot;: &quot;http://localhost:3000/v1/api-docs/&quot;, &quot;href2&quot;: &quot;https://codemarc.net/api/v1/api-docs/&quot;, &quot;href3&quot;: &quot;http://localhost:3000/v1/api-docs/&quot;, &quot;name1&quot;: &quot;dev&quot;, &quot;name2&quot;: &quot;test&quot;, &quot;name3&quot;: &quot;prod&quot;, &quot;post1&quot;: &quot;  &quot;, &quot;post2&quot;: &quot;  &quot;}, {&quot;pre1&quot;: &quot;&quot;}, {&quot;pre1&quot;: &quot;~  deployments&quot;}, {&quot;pre1&quot;: &quot;       dev:     &quot;, &quot;href1&quot;: &quot;http://localhost:3000/v1/motd/status&quot;, &quot;href2&quot;: &quot;http://localhost:3000/v1/motd/quotes&quot;, &quot;href3&quot;: &quot;http://localhost:3000/v1/motd/topics&quot;, &quot;name1&quot;: &quot;status&quot;, &quot;name2&quot;: &quot;quotes&quot;, &quot;name3&quot;: &quot;topics&quot;, &quot;post1&quot;: &quot; |&quot;, &quot;post2&quot;: &quot; |&quot;}, {&quot;pre1&quot;: &quot;      test:     &quot;, &quot;href1&quot;: &quot;https://codemarc.net/api/v1/motd/status&quot;, &quot;href2&quot;: &quot;https://codemarc.net/api/v1/motd/quotes&quot;, &quot;href3&quot;: &quot;http://codemarc.net/api/v1/motd/topics&quot;, &quot;name1&quot;: &quot;status&quot;, &quot;name2&quot;: &quot;quotes&quot;, &quot;name3&quot;: &quot;topics&quot;, &quot;post1&quot;: &quot; |&quot;, &quot;post2&quot;: &quot; |&quot;}, {&quot;pre1&quot;: &quot;      prod:    &quot;, &quot;href1&quot;: &quot;http://localhost:3000/v1/motd/status&quot;, &quot;href2&quot;: &quot;http://localhost:3000/v1/motd/quotes&quot;, &quot;href3&quot;: &quot;http://localhost:3000/v1/motd/topics&quot;, &quot;name1&quot;: &quot;status&quot;, &quot;name2&quot;: &quot;quotes&quot;, &quot;name3&quot;: &quot;topics&quot;, &quot;post1&quot;: &quot; |&quot;, &quot;post2&quot;: &quot; |&quot;}, {&quot;pre1&quot;: &quot;&quot;}, {&quot;pre1&quot;: &quot;~  projects&quot;}, {&quot;pre1&quot;: &quot;ㅤ&quot;, &quot;href1&quot;: &quot;https://github.com/users/codemarc/projects/6&quot;, &quot;href2&quot;: &quot;https://github.com/users/codemarc/projects/5&quot;, &quot;name1&quot;: &quot;gridlinks&quot;, &quot;name2&quot;: &quot;gridsvcs&quot;, &quot;post1&quot;: &quot;ㅤ&quot;, &quot;post2&quot;: &quot;ㅤ&quot;, &quot;post3&quot;: &quot;ㅤ&quot;}, {&quot;pre1&quot;: &quot;ㅤ&quot;}, {&quot;pre1&quot;: &quot;ㅤ&quot;}, {&quot;pre1&quot;: &quot;ㅤ&quot;}], &quot;title&quot;: &quot;services&quot;}}, {&quot;panel_name&quot; : &quot;stream&quot;, &quot;links&quot; : {&quot;name&quot;: &quot;stream&quot;, &quot;href1&quot;: &quot;https://www.xfinity.com/stream/&quot;, &quot;href2&quot;: &quot;*/settings&quot;, &quot;links&quot;: [{&quot;pre1&quot;: &quot;    &quot;, &quot;href1&quot;: &quot;https://alexa.amazon.com/&quot;, &quot;href2&quot;: &quot;https://amazon.com/&quot;, &quot;href3&quot;: &quot;https://www.amazon.com/Amazon-Video/b/?ie=UTF8&amp;node=2858778011&amp;ref_=nav_dvm_us_eg_cs_nav_rec_T1&quot;, &quot;href4&quot;: &quot;https://music.amazon.com/&quot;, &quot;name1&quot;: &quot;alexa&quot;, &quot;name2&quot;: &quot;prime&quot;, &quot;name3&quot;: &quot;video&quot;, &quot;name4&quot;: &quot;music&quot;, &quot;post1&quot;: &quot;✫&quot;, &quot;post2&quot;: &quot;✫&quot;, &quot;post3&quot;: &quot;✫&quot;}, {&quot;pre1&quot;: &quot;   &quot;, &quot;href1&quot;: &quot;https://www.audible.com/&quot;, &quot;href2&quot;: &quot;https://www.twitch.tv/&quot;, &quot;href3&quot;: &quot;https://www.imdb.com/&quot;, &quot;href4&quot;: &quot;https://www.amazon.com/kindle-dbs/fd/kcp&quot;, &quot;name1&quot;: &quot;audible&quot;, &quot;name2&quot;: &quot;twitch&quot;, &quot;name3&quot;: &quot;imdb&quot;, &quot;name4&quot;: &quot;kindle&quot;, &quot;post1&quot;: &quot; | &quot;, &quot;post2&quot;: &quot; | &quot;, &quot;post3&quot;: &quot; | &quot;, &quot;title1&quot;: &quot;Audible&quot;, &quot;title2&quot;: &quot;Twitch&quot;, &quot;title3&quot;: &quot;IMDb&quot;, &quot;title4&quot;: &quot;Kindle Direct Publishing&quot;}, {&quot;pre1&quot;: &quot; &quot;, &quot;href1&quot;: &quot;https://www.xfinity.com/stream/&quot;, &quot;href2&quot;: &quot;https://www.netflix.com/&quot;, &quot;href3&quot;: &quot;https://hbomax.com/&quot;, &quot;href4&quot;: &quot;http://peacock.tv/&quot;, &quot;name1&quot;: &quot;xfinity&quot;, &quot;name2&quot;: &quot;netflix&quot;, &quot;name3&quot;: &quot;hbomax&quot;, &quot;name4&quot;: &quot;peacock&quot;, &quot;post1&quot;: &quot;  &quot;, &quot;post2&quot;: &quot;  &quot;, &quot;post3&quot;: &quot;  &quot;}, {&quot;pre1&quot;: &quot;      &quot;, &quot;href1&quot;: &quot;https://www.youtube.com/&quot;, &quot;href2&quot;: &quot;https://music.apple.com/&quot;, &quot;href3&quot;: &quot;https://www.spotify.com/&quot;, &quot;name1&quot;: &quot;youtube&quot;, &quot;name2&quot;: &quot;apple music&quot;, &quot;name3&quot;: &quot;spotify&quot;, &quot;post1&quot;: &quot;  &quot;, &quot;post2&quot;: &quot;  &quot;, &quot;post3&quot;: &quot;  &quot;}, {&quot;pre1&quot;: &quot; &quot;, &quot;href1&quot;: &quot;https://www.shopify.com/editions/summer2024&quot;, &quot;name1&quot;: &quot;-shopify&quot;, &quot;xhref1&quot;: &quot;https://www.shopify.com/&quot;}, {&quot;pre1&quot;: &quot;   &quot;, &quot;href1&quot;: &quot;http://puppyleo.com&quot;, &quot;href2&quot;: &quot;https://admin.shopify.com/&quot;, &quot;name1&quot;: &quot;the puppy leo shop&quot;, &quot;name2&quot;: &quot; 🐶   admin&quot;, &quot;post2&quot;: &quot;  &quot;, &quot;post3&quot;: &quot;  &quot;}, {&quot;pre1&quot;: &quot;      &quot;, &quot;href1&quot;: &quot;https://app.zendrop.com/dashboard&quot;, &quot;href2&quot;: &quot;https://www.cjdropshipping.com/&quot;, &quot;href3&quot;: &quot;https://www.shineon.com/\\&quot;&quot;, &quot;href4&quot;: &quot;https://www.printful.com/&quot;, &quot;name1&quot;: &quot;zendrop&quot;, &quot;name2&quot;: &quot;cj&quot;, &quot;name3&quot;: &quot;shineon&quot;, &quot;name4&quot;: &quot;printful&quot;, &quot;post1&quot;: &quot;  &quot;, &quot;post2&quot;: &quot;  &quot;, &quot;post3&quot;: &quot;  &quot;}, {&quot;pre1&quot;: &quot;           &quot;, &quot;href1&quot;: &quot;https://shopify.github.io&quot;, &quot;href2&quot;: &quot;https://shopify.dev/&quot;, &quot;href3&quot;: &quot;https://apps.shopify.com/&quot;, &quot;href4&quot;: &quot;https://polaris.shopify.com/&quot;, &quot;name1&quot;: &quot;src&quot;, &quot;name2&quot;: &quot;dev&quot;, &quot;name3&quot;: &quot;apps&quot;, &quot;name4&quot;: &quot;polaris&quot;, &quot;post1&quot;: &quot;  &quot;, &quot;post2&quot;: &quot;  &quot;, &quot;post3&quot;: &quot;  &quot;, &quot;title3&quot;: &quot;Shopify App Store&quot;, &quot;title4&quot;: &quot;Shopify Polaris - React Components&quot;}, {&quot;pre1&quot;: &quot;      &quot;, &quot;post1&quot;: &quot;  &quot;, &quot;post2&quot;: &quot;  &quot;, &quot;post3&quot;: &quot;  &quot;}, {&quot;pre1&quot;: &quot;      &quot;, &quot;post1&quot;: &quot;  &quot;, &quot;post2&quot;: &quot;  &quot;, &quot;post3&quot;: &quot;  &quot;}], &quot;title&quot;: &quot;stream / shop&quot;}}]</td></tr>",
                            "</table>"
                        ]
                    }
                }
            ],
            "execution_count": 54
        },
        {
            "cell_type": "markdown",
            "source": [
                ""
            ],
            "metadata": {
                "language": "sql",
                "azdata_cell_guid": "51443606-1fed-4cbb-8aba-59550260720d"
            }
        }
    ]
}